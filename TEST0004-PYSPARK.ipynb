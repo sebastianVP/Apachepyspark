{
 "cells": [
  {
   "cell_type": "markdown",
   "id": "436d44f9-b7a6-4b6f-856d-dab205d79182",
   "metadata": {},
   "source": [
    "<img src=\"https://i.pinimg.com/originals/ee/2e/24/ee2e246795a13abc1fe01b28776626ef.jpg\" alt= \"LOGO CAT\" width=400 height=400 align = \"right\">\n",
    "\n",
    "<br>\n",
    "<h1><font color=\"#7F000E\" size=5>INSTITUTO GEOFISICO DEL PERU</font></h1>\n",
    "<h1><font color=\"#7F000R\" size=6> SPARK Y PYTHON CON PYSPARK </font></h1>\n",
    "<h1><font color=\"#7F000E\" size=4> CUARTA PRUEBA Y EJEMPLOS\n",
    " </font></h1>\n",
    "<br>\n",
    "<br>\n",
    "<div style=\"text-align:left\">\n",
    "<font color=\"#7F000E\" size=3> Ing. Alexander Valdez</font><br>\n",
    "<font color=\"#7F000E\" size=3> Libertad Financiera </font><br>\n",
    "<font color=\"#7F000e\" size=3> Cuarta Clase </font><br>\n",
    "</div>"
   ]
  },
  {
   "cell_type": "markdown",
   "id": "138ea4c2-7d9e-4393-97d1-576e9a52f577",
   "metadata": {},
   "source": [
    "- Apache Spark™ is a multi-language engine for executing data engineering, data science, and machine learning on single-node machines or clusters.\n",
    "- MLlib is Apache Spark's scalable machine learning library. Ease of use. Usable in Java, Scala, Python, and R.\n",
    "\n",
    "MLlib is Spark’s machine learning (ML) library. Its goal is to make practical machine learning scalable and easy. At a high level, it provides tools such as:\r\n",
    "- \r\n",
    "ML Algorithms: common learning algorithms such as classification, regression, clustering, and collaborative filterin- g\r\n",
    "Featurization: feature extraction, transformation, dimensionality reduction, and selecti- on\r\n",
    "Pipelines: tools for constructing, evaluating, and tuning ML Pipeli- nes\r\n",
    "Persistence: saving and load algorithms, models, and Pipel- ines\r\n",
    "Utilities: linear algebra, statistics, data handling, etc."
   ]
  },
  {
   "cell_type": "markdown",
   "id": "7968911b-4945-49de-88ba-20c102101846",
   "metadata": {},
   "source": [
    "Existen 2 tecnicas:\n",
    "- DataFrame API Examples\n",
    "- RDD API Examples"
   ]
  },
  {
   "cell_type": "markdown",
   "id": "2f818497-5bb3-4645-80af-aa2f29bafb6b",
   "metadata": {},
   "source": [
    "https://spark.apache.org/examples.html"
   ]
  },
  {
   "cell_type": "markdown",
   "id": "b1d3b9ce-cb69-4fbc-9a29-ce70d60df2c2",
   "metadata": {},
   "source": [
    "# DATAFRAME API EXAMPLES\n",
    "Veamos como resolver basicamente un caso de uso de aprendizaje automatico.\n",
    "- Algoritmos de regresión"
   ]
  },
  {
   "cell_type": "code",
   "execution_count": 2,
   "id": "2e81ab29-92d1-43f6-838b-395acf60ef9c",
   "metadata": {},
   "outputs": [],
   "source": [
    "from pyspark.sql import SparkSession\n",
    "spark = SparkSession.builder.appName('LinearRegression').getOrCreate()"
   ]
  },
  {
   "cell_type": "code",
   "execution_count": 51,
   "id": "25fc0a17-fed4-4cbb-b5bc-2a11f908bcd4",
   "metadata": {},
   "outputs": [],
   "source": [
    "## READ THE DATASET\n",
    "training = spark.read.csv('Book4.csv',header=True,inferSchema=True)"
   ]
  },
  {
   "cell_type": "code",
   "execution_count": 52,
   "id": "78954357-1f67-4fde-b2c9-96b3c4bc672c",
   "metadata": {},
   "outputs": [
    {
     "name": "stdout",
     "output_type": "stream",
     "text": [
      "+------+---+----------+------+\n",
      "|  Name|age|Experience|Salary|\n",
      "+------+---+----------+------+\n",
      "|  Alex| 31|        10| 30000|\n",
      "| Maria| 30|         8| 25000|\n",
      "| Wendy| 29|         4| 20000|\n",
      "|Silvia| 24|         3| 20000|\n",
      "|   Paz| 21|         1| 15000|\n",
      "|  Ciro| 23|         2| 18000|\n",
      "+------+---+----------+------+\n",
      "\n"
     ]
    }
   ],
   "source": [
    "training.show()"
   ]
  },
  {
   "cell_type": "code",
   "execution_count": 53,
   "id": "077417fe-8c07-4935-9098-495226c1dab6",
   "metadata": {},
   "outputs": [
    {
     "name": "stdout",
     "output_type": "stream",
     "text": [
      "root\n",
      " |-- Name: string (nullable = true)\n",
      " |-- age: integer (nullable = true)\n",
      " |-- Experience: integer (nullable = true)\n",
      " |-- Salary: integer (nullable = true)\n",
      "\n"
     ]
    }
   ],
   "source": [
    "training.printSchema()"
   ]
  },
  {
   "cell_type": "code",
   "execution_count": 56,
   "id": "c72fe610-42dd-4d32-8eeb-da113dab27cc",
   "metadata": {},
   "outputs": [
    {
     "data": {
      "text/plain": [
       "['Name', 'age', 'Experience', 'Salary']"
      ]
     },
     "execution_count": 56,
     "metadata": {},
     "output_type": "execute_result"
    }
   ],
   "source": [
    "training.columns"
   ]
  },
  {
   "cell_type": "markdown",
   "id": "cfa64f52-04fb-434f-89ae-b8cd09e6e6a6",
   "metadata": {},
   "source": [
    "### USUALMENTE HACEMOS UN PREPROCESAMIENTO DE DATOS ANTES\n",
    "[Age,Experience]---> new feature --> independent feature"
   ]
  },
  {
   "cell_type": "code",
   "execution_count": 57,
   "id": "b9855413-7888-47c0-bb75-d30e922d01fc",
   "metadata": {},
   "outputs": [],
   "source": [
    "from pyspark.ml.feature import VectorAssembler\n",
    "featureassembler = VectorAssembler(inputCols=[\"age\",\"Experience\"],outputCol=\"Independent Features\")"
   ]
  },
  {
   "cell_type": "code",
   "execution_count": 58,
   "id": "e17c7000-d1e2-4fb9-8878-13325920ffc2",
   "metadata": {},
   "outputs": [],
   "source": [
    "output=featureassembler.transform(training)"
   ]
  },
  {
   "cell_type": "code",
   "execution_count": 59,
   "id": "83b531ab-4117-438d-bf73-2125faf3c542",
   "metadata": {},
   "outputs": [
    {
     "name": "stdout",
     "output_type": "stream",
     "text": [
      "+------+---+----------+------+--------------------+\n",
      "|  Name|age|Experience|Salary|Independent Features|\n",
      "+------+---+----------+------+--------------------+\n",
      "|  Alex| 31|        10| 30000|         [31.0,10.0]|\n",
      "| Maria| 30|         8| 25000|          [30.0,8.0]|\n",
      "| Wendy| 29|         4| 20000|          [29.0,4.0]|\n",
      "|Silvia| 24|         3| 20000|          [24.0,3.0]|\n",
      "|   Paz| 21|         1| 15000|          [21.0,1.0]|\n",
      "|  Ciro| 23|         2| 18000|          [23.0,2.0]|\n",
      "+------+---+----------+------+--------------------+\n",
      "\n"
     ]
    }
   ],
   "source": [
    "output.show()"
   ]
  },
  {
   "cell_type": "code",
   "execution_count": 60,
   "id": "0df2c4cc-9bea-4173-aa44-535dba53edc2",
   "metadata": {},
   "outputs": [
    {
     "data": {
      "text/plain": [
       "['Name', 'age', 'Experience', 'Salary', 'Independent Features']"
      ]
     },
     "execution_count": 60,
     "metadata": {},
     "output_type": "execute_result"
    }
   ],
   "source": [
    " output.columns"
   ]
  },
  {
   "cell_type": "code",
   "execution_count": 61,
   "id": "f50e909c-231e-47a9-bd1c-e977ee250eb6",
   "metadata": {},
   "outputs": [],
   "source": [
    "finalized_data= output.select(\"Independent Features\",\"Salary\")"
   ]
  },
  {
   "cell_type": "code",
   "execution_count": 62,
   "id": "c28f2a7b-1b01-4b96-8579-56da217111a4",
   "metadata": {},
   "outputs": [
    {
     "name": "stdout",
     "output_type": "stream",
     "text": [
      "+--------------------+------+\n",
      "|Independent Features|Salary|\n",
      "+--------------------+------+\n",
      "|         [31.0,10.0]| 30000|\n",
      "|          [30.0,8.0]| 25000|\n",
      "|          [29.0,4.0]| 20000|\n",
      "|          [24.0,3.0]| 20000|\n",
      "|          [21.0,1.0]| 15000|\n",
      "|          [23.0,2.0]| 18000|\n",
      "+--------------------+------+\n",
      "\n"
     ]
    }
   ],
   "source": [
    "finalized_data.show()"
   ]
  },
  {
   "cell_type": "code",
   "execution_count": 63,
   "id": "10ad4b8a-fa68-4d41-ab34-47af4ad211e9",
   "metadata": {},
   "outputs": [],
   "source": [
    "  from pyspark.ml.regression import LinearRegression\n",
    "### train test split\n",
    "train_data,test_data = finalized_data.randomSplit([0.75,0.25])\n",
    "regressor = LinearRegression(featuresCol='Independent Features',labelCol='Salary')\n",
    "regressor= regressor.fit(train_data)"
   ]
  },
  {
   "cell_type": "code",
   "execution_count": 64,
   "id": "10886155-407c-4b3d-b05b-d8fd4d90e369",
   "metadata": {},
   "outputs": [
    {
     "data": {
      "text/plain": [
       "DenseVector([125.0, 1375.0])"
      ]
     },
     "execution_count": 64,
     "metadata": {},
     "output_type": "execute_result"
    }
   ],
   "source": [
    "### Coefficients\n",
    "regressor.coefficients"
   ]
  },
  {
   "cell_type": "code",
   "execution_count": 65,
   "id": "29e1c4da-d19b-4279-99fb-0510ca86c1b1",
   "metadata": {},
   "outputs": [
    {
     "data": {
      "text/plain": [
       "12375.0"
      ]
     },
     "execution_count": 65,
     "metadata": {},
     "output_type": "execute_result"
    }
   ],
   "source": [
    "### intercepts\n",
    "regressor.intercept"
   ]
  },
  {
   "cell_type": "code",
   "execution_count": 66,
   "id": "3a66f89b-48cd-450f-a178-26af87039b95",
   "metadata": {},
   "outputs": [
    {
     "data": {
      "text/plain": [
       "pyspark.sql.dataframe.DataFrame"
      ]
     },
     "execution_count": 66,
     "metadata": {},
     "output_type": "execute_result"
    }
   ],
   "source": [
    "type(train_data)"
   ]
  },
  {
   "cell_type": "code",
   "execution_count": 67,
   "id": "caf7e730-e567-44bc-aa48-edde9b57b1fc",
   "metadata": {},
   "outputs": [
    {
     "data": {
      "text/plain": [
       "pyspark.sql.dataframe.DataFrame"
      ]
     },
     "execution_count": 67,
     "metadata": {},
     "output_type": "execute_result"
    }
   ],
   "source": [
    "type(test_data)"
   ]
  },
  {
   "cell_type": "code",
   "execution_count": 68,
   "id": "092ce914-a5b9-4f83-86e1-33a73c832bc1",
   "metadata": {},
   "outputs": [],
   "source": [
    "### prediction\n",
    "from pyspark.ml.evaluation import RegressionEvaluator\n",
    "pred_results = regressor.transform(test_data)"
   ]
  },
  {
   "cell_type": "code",
   "execution_count": 69,
   "id": "2fbb3494-ce52-40d0-9143-4cb4088eafb7",
   "metadata": {},
   "outputs": [
    {
     "name": "stdout",
     "output_type": "stream",
     "text": [
      "+--------------------+------+------------------+\n",
      "|Independent Features|Salary|        prediction|\n",
      "+--------------------+------+------------------+\n",
      "|          [21.0,1.0]| 15000|16374.999999999996|\n",
      "|          [24.0,3.0]| 20000|           19500.0|\n",
      "|          [29.0,4.0]| 20000|           21500.0|\n",
      "+--------------------+------+------------------+\n",
      "only showing top 3 rows\n",
      "\n"
     ]
    }
   ],
   "source": [
    "pred_results.show(3)"
   ]
  },
  {
   "cell_type": "code",
   "execution_count": 76,
   "id": "ae5ca0f3-8634-4c1f-939d-88b9f87cf818",
   "metadata": {},
   "outputs": [],
   "source": [
    "rmse =  RegressionEvaluator(labelCol= 'Salary',predictionCol='prediction',metricName='rmse')\n",
    "mae =  RegressionEvaluator(labelCol= 'Salary',predictionCol='prediction',metricName='mae')\n"
   ]
  },
  {
   "cell_type": "code",
   "execution_count": 75,
   "id": "88b9eacc-df0e-432d-a044-97718fc11158",
   "metadata": {},
   "outputs": [
    {
     "data": {
      "text/plain": [
       "1492.1670482891643"
      ]
     },
     "execution_count": 75,
     "metadata": {},
     "output_type": "execute_result"
    }
   ],
   "source": [
    "rmse.evaluate(pred_results)"
   ]
  },
  {
   "cell_type": "code",
   "execution_count": 77,
   "id": "09b91eab-4952-4c79-a4dc-bf3b844b3670",
   "metadata": {},
   "outputs": [
    {
     "data": {
      "text/plain": [
       "1374.999999999999"
      ]
     },
     "execution_count": 77,
     "metadata": {},
     "output_type": "execute_result"
    }
   ],
   "source": [
    "mae.evaluate(pred_results)"
   ]
  },
  {
   "cell_type": "code",
   "execution_count": null,
   "id": "0da28905-3c87-4e5b-9781-3e3407de2b13",
   "metadata": {},
   "outputs": [],
   "source": []
  }
 ],
 "metadata": {
  "kernelspec": {
   "display_name": "Python 3 (ipykernel)",
   "language": "python",
   "name": "python3"
  },
  "language_info": {
   "codemirror_mode": {
    "name": "ipython",
    "version": 3
   },
   "file_extension": ".py",
   "mimetype": "text/x-python",
   "name": "python",
   "nbconvert_exporter": "python",
   "pygments_lexer": "ipython3",
   "version": "3.9.18"
  }
 },
 "nbformat": 4,
 "nbformat_minor": 5
}
