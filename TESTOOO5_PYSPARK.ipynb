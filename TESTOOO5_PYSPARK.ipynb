{
 "cells": [
  {
   "cell_type": "markdown",
   "id": "2425239c-2f4f-4da8-8931-c8875499c310",
   "metadata": {},
   "source": [
    "<img src=\"https://i.pinimg.com/originals/ee/2e/24/ee2e246795a13abc1fe01b28776626ef.jpg\" alt= \"LOGO CAT\" width=400 height=400 align = \"right\">\n",
    "\n",
    "<br>\n",
    "<h1><font color=\"#7F000E\" size=5>INSTITUTO GEOFISICO DEL PERU</font></h1>\n",
    "<h1><font color=\"#7F000R\" size=6> SPARK Y PYTHON CON PYSPARK - DATABRICKS</font></h1>\n",
    "<h1><font color=\"#7F000E\" size=4> QUINTA PRUEBA Y EJEMPLOS\n",
    " </font></h1>\n",
    "<br>\n",
    "<br>\n",
    "<div style=\"text-align:left\">\n",
    "<font color=\"#7F000E\" size=3> Ing. Alexander Valdez</font><br>\n",
    "<font color=\"#7F000E\" size=3> Libertad Financiera </font><br>\n",
    "<font color=\"#7F000e\" size=3> Quinta Clase </font><br>\n",
    "</div>"
   ]
  },
  {
   "cell_type": "markdown",
   "id": "20ce3f0c-7b8f-4c00-a854-dfe09e9df810",
   "metadata": {},
   "source": [
    "---"
   ]
  },
  {
   "cell_type": "markdown",
   "id": "d7789d31-55e9-4f93-97b6-bff0b424a080",
   "metadata": {},
   "source": [
    "DataBricks es una plataforma donde puedes trabajar con ApacheSpark. Una cosa particularmente especial de esta plataforma es que tambien te proporciona instancias de Cluster. Entonces si tienes una gran cantidad de conjunto de datos, probablemente quieras distribuir el procesamiento paralelo, o probablemente quieras distribuirlo en multiples clusters puedes hacerlo con los bloques de datos.\n",
    "\n",
    "Dos formas:\n",
    "- Versión comunitaria.\n",
    "- Versión paga(AWS Y Azure), puedes usar tambien el backend con bloque de datos.\n",
    "\n",
    "Te ayuda a implementar el flujo de ML, y este flujo de ML es con respecto a la canalizacion de CI CD. Asi que tambien se pueden realizar este tipo de experimentos.\n",
    "\n",
    "https://www.databricks.com/\n",
    "Intentaremos mas adelante extraer los datos del deposito S3 lo que es la unidad de almacenamiento en AWS"
   ]
  },
  {
   "cell_type": "markdown",
   "id": "3536d838-4200-4d5d-8a75-fa5953c0e237",
   "metadata": {},
   "source": [
    "DATABRICS ES una plataforma de analisis de datos abierta y unificada para ingenieria de datos, ciencia de datos, aprendizaje automatico y analitica. **BIG DATA**\n",
    "Existen tres tipos de plataformas en la nube: AWS, MICROSOFT AZURE, GOOGLECLOUD\n",
    "\n",
    "* Despues de registrarnos, seleccionar la opcion **Start with Community Edition**\n",
    "* Opciones para escoger: Notebook,Data import, Auto ML, QuickStartTutorial, Transform data\n",
    "\n",
    "\n",
    "Pasos:\n",
    "1. Crear a Cluster simbolo +\n",
    "2. Tenemos opciones como instalar librerias desde PyPI, MAVEN y diferentes espacioes de trabajos.\n",
    "3. Crear tabla y luego uload file excel, luego le damos crear tabla en notebook.\n",
    "4. Eliminamos 4 y 5 cmd.\n",
    "\n",
    "En la version o cuenta comunitaria solo podemos crear un cluster. En la version de paga podemos tener varios cluster y tambien necesitamos usar algunas nubes.\n",
    "---\n",
    "Conjunto de datos de propinas, personas que van al restaurante.El ejemplo muestra la cantidad de propina que dan basados en la factura. Ejemplo de regresion lineal."
   ]
  },
  {
   "cell_type": "code",
   "execution_count": null,
   "id": "d8dcc325-93de-4f71-8061-8e8ced998cc3",
   "metadata": {},
   "outputs": [],
   "source": []
  },
  {
   "cell_type": "code",
   "execution_count": null,
   "id": "e2a939b6-495f-4a93-ab11-b1e3192d1611",
   "metadata": {},
   "outputs": [],
   "source": []
  },
  {
   "cell_type": "code",
   "execution_count": null,
   "id": "fa77aea6-02a8-43a3-b4e2-a1a65e299f3f",
   "metadata": {},
   "outputs": [],
   "source": []
  },
  {
   "cell_type": "code",
   "execution_count": null,
   "id": "1647b4f7-40d4-4e8e-97fa-ae042deb7248",
   "metadata": {},
   "outputs": [],
   "source": []
  },
  {
   "cell_type": "code",
   "execution_count": null,
   "id": "83dbbe93-83f3-4196-8195-31cf7f7ad569",
   "metadata": {},
   "outputs": [],
   "source": []
  },
  {
   "cell_type": "code",
   "execution_count": null,
   "id": "adeef4e3-6e65-4baf-8023-16e00888cfe1",
   "metadata": {},
   "outputs": [],
   "source": []
  },
  {
   "cell_type": "code",
   "execution_count": null,
   "id": "a9a8eb4b-076f-4a11-83d5-cf9fa56eef24",
   "metadata": {},
   "outputs": [],
   "source": []
  },
  {
   "cell_type": "code",
   "execution_count": null,
   "id": "4ff2501b-8915-42ef-9a03-ef4020eca1d1",
   "metadata": {},
   "outputs": [],
   "source": []
  }
 ],
 "metadata": {
  "kernelspec": {
   "display_name": "Python 3 (ipykernel)",
   "language": "python",
   "name": "python3"
  },
  "language_info": {
   "codemirror_mode": {
    "name": "ipython",
    "version": 3
   },
   "file_extension": ".py",
   "mimetype": "text/x-python",
   "name": "python",
   "nbconvert_exporter": "python",
   "pygments_lexer": "ipython3",
   "version": "3.9.18"
  }
 },
 "nbformat": 4,
 "nbformat_minor": 5
}
