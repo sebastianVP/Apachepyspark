{
 "cells": [
  {
   "cell_type": "markdown",
   "id": "2cbd4009-1bfb-4e97-a3c0-a1c2f3bdbc04",
   "metadata": {},
   "source": [
    "<img src=\"https://i.pinimg.com/originals/ee/2e/24/ee2e246795a13abc1fe01b28776626ef.jpg\" alt= \"LOGO CAT\" width=400 height=400 align = \"right\">\n",
    "\n",
    "<br>\n",
    "<h1><font color=\"#7F000E\" size=5>INSTITUTO GEOFISICO DEL PERU</font></h1>\n",
    "<h1><font color=\"#7F000R\" size=6> SPARK Y PYTHON CON PYSPARK </font></h1>\n",
    "<h1><font color=\"#7F000E\" size=4> TERCERA PRUEBA Y EJEMPLOS\n",
    " </font></h1>\n",
    "<br>\n",
    "<br>\n",
    "<div style=\"text-align:left\">\n",
    "<font color=\"#7F000E\" size=3> Ing. Alexander Valdez</font><br>\n",
    "<font color=\"#7F000E\" size=3> Libertad Financiera </font><br>\n",
    "<font color=\"#7F000e\" size=3> Tercera Clase </font><br>\n",
    "</div>"
   ]
  },
  {
   "cell_type": "markdown",
   "id": "281a7899-37c6-4d4f-b1ba-a840016859ca",
   "metadata": {},
   "source": [
    "# PySpark GroupBy And Aggregate Functions"
   ]
  },
  {
   "cell_type": "code",
   "execution_count": 5,
   "id": "7cf6a8be-f073-46f0-a6e5-765cd4f89061",
   "metadata": {},
   "outputs": [],
   "source": [
    "from pyspark.sql import SparkSession"
   ]
  },
  {
   "cell_type": "code",
   "execution_count": 6,
   "id": "23ffdcc7-4285-4389-87a0-4c5d02fd916a",
   "metadata": {},
   "outputs": [],
   "source": [
    "spark= SparkSession.builder.appName('Agg').getOrCreate()"
   ]
  },
  {
   "cell_type": "code",
   "execution_count": 7,
   "id": "6c450381-7e08-4e27-b5b0-bfd576beb75f",
   "metadata": {},
   "outputs": [
    {
     "data": {
      "text/html": [
       "\n",
       "            <div>\n",
       "                <p><b>SparkSession - in-memory</b></p>\n",
       "                \n",
       "        <div>\n",
       "            <p><b>SparkContext</b></p>\n",
       "\n",
       "            <p><a href=\"http://DESKTOP-G5VMGK2:4041\">Spark UI</a></p>\n",
       "\n",
       "            <dl>\n",
       "              <dt>Version</dt>\n",
       "                <dd><code>v3.5.0</code></dd>\n",
       "              <dt>Master</dt>\n",
       "                <dd><code>local[*]</code></dd>\n",
       "              <dt>AppName</dt>\n",
       "                <dd><code>Agg</code></dd>\n",
       "            </dl>\n",
       "        </div>\n",
       "        \n",
       "            </div>\n",
       "        "
      ],
      "text/plain": [
       "<pyspark.sql.session.SparkSession at 0x177a64bb9a0>"
      ]
     },
     "execution_count": 7,
     "metadata": {},
     "output_type": "execute_result"
    }
   ],
   "source": [
    "spark"
   ]
  },
  {
   "cell_type": "code",
   "execution_count": 10,
   "id": "33b3bccd-5784-4119-a2fb-d327e035a6d7",
   "metadata": {},
   "outputs": [],
   "source": [
    "df_pyspark= spark.read.csv('Book3.csv',header=True,inferSchema=True)"
   ]
  },
  {
   "cell_type": "code",
   "execution_count": 11,
   "id": "fef7de89-78eb-4e12-ae5b-4146b9bfb3c4",
   "metadata": {},
   "outputs": [
    {
     "name": "stdout",
     "output_type": "stream",
     "text": [
      "+------+------------+------+\n",
      "|  Name| Departments|salary|\n",
      "+------+------------+------+\n",
      "|  Alex|Data Science| 30000|\n",
      "|  Alex|         IOT| 25000|\n",
      "| Wendy|    Big Data| 20000|\n",
      "|   Paz|    Big Data| 20000|\n",
      "|  Ciro|Data Science| 15000|\n",
      "|Silvia|Data Science| 18000|\n",
      "|Silvia|         IOT| 18000|\n",
      "|Silvia|    Big Data| 18000|\n",
      "|  Copo|Data Science| 10000|\n",
      "|  Copo|    Big Data|  2000|\n",
      "+------+------------+------+\n",
      "\n"
     ]
    }
   ],
   "source": [
    "df_pyspark.show()"
   ]
  },
  {
   "cell_type": "code",
   "execution_count": 12,
   "id": "c1b397be-e9a1-40ef-9e6b-f1daf2229819",
   "metadata": {},
   "outputs": [
    {
     "name": "stdout",
     "output_type": "stream",
     "text": [
      "root\n",
      " |-- Name: string (nullable = true)\n",
      " |-- Departments: string (nullable = true)\n",
      " |-- salary: integer (nullable = true)\n",
      "\n"
     ]
    }
   ],
   "source": [
    "df_pyspark.printSchema()"
   ]
  },
  {
   "cell_type": "code",
   "execution_count": 17,
   "id": "f1d4b8b1-3ff6-45db-87a5-3dc1afdafa96",
   "metadata": {},
   "outputs": [
    {
     "name": "stdout",
     "output_type": "stream",
     "text": [
      "+------+-----------+\n",
      "|  Name|sum(salary)|\n",
      "+------+-----------+\n",
      "|  Ciro|      15000|\n",
      "|  Copo|      12000|\n",
      "|  Alex|      55000|\n",
      "|Silvia|      54000|\n",
      "|   Paz|      20000|\n",
      "| Wendy|      20000|\n",
      "+------+-----------+\n",
      "\n"
     ]
    }
   ],
   "source": [
    "## Groupby\n",
    "### Grouped to find the maximum salary\n",
    "df_pyspark.groupBy('Name').sum().show()"
   ]
  },
  {
   "cell_type": "code",
   "execution_count": 19,
   "id": "00272454-21b6-4a70-b68d-a00b208da76d",
   "metadata": {},
   "outputs": [
    {
     "name": "stdout",
     "output_type": "stream",
     "text": [
      "+------------+-----------+\n",
      "| Departments|sum(salary)|\n",
      "+------------+-----------+\n",
      "|         IOT|      43000|\n",
      "|    Big Data|      60000|\n",
      "|Data Science|      73000|\n",
      "+------------+-----------+\n",
      "\n"
     ]
    }
   ],
   "source": [
    "### Groupby Department which gives maximum salary\n",
    "df_pyspark.groupBy('Departments').sum().show()"
   ]
  },
  {
   "cell_type": "code",
   "execution_count": 20,
   "id": "e429fe61-459d-417d-9013-6216ed52dd50",
   "metadata": {},
   "outputs": [
    {
     "name": "stdout",
     "output_type": "stream",
     "text": [
      "+------------+-----------+\n",
      "| Departments|avg(salary)|\n",
      "+------------+-----------+\n",
      "|         IOT|    21500.0|\n",
      "|    Big Data|    15000.0|\n",
      "|Data Science|    18250.0|\n",
      "+------------+-----------+\n",
      "\n"
     ]
    }
   ],
   "source": [
    "df_pyspark.groupBy('Departments').mean().show()"
   ]
  },
  {
   "cell_type": "code",
   "execution_count": 21,
   "id": "123cad03-3bc0-4b01-aae1-a6e89a4ec1b7",
   "metadata": {},
   "outputs": [
    {
     "name": "stdout",
     "output_type": "stream",
     "text": [
      "+------------+-----+\n",
      "| Departments|count|\n",
      "+------------+-----+\n",
      "|         IOT|    2|\n",
      "|    Big Data|    4|\n",
      "|Data Science|    4|\n",
      "+------------+-----+\n",
      "\n"
     ]
    }
   ],
   "source": [
    "df_pyspark.groupBy('Departments').count().show()"
   ]
  },
  {
   "cell_type": "code",
   "execution_count": 25,
   "id": "6a66c863-6824-49b1-b4b3-2ef2121500b1",
   "metadata": {},
   "outputs": [
    {
     "name": "stdout",
     "output_type": "stream",
     "text": [
      "+-----------+\n",
      "|sum(Salary)|\n",
      "+-----------+\n",
      "|     176000|\n",
      "+-----------+\n",
      "\n"
     ]
    }
   ],
   "source": [
    "df_pyspark.agg({'Salary':'Sum'}).show()"
   ]
  },
  {
   "cell_type": "code",
   "execution_count": 24,
   "id": "169814c1-1a90-4208-a821-6891484cad73",
   "metadata": {},
   "outputs": [
    {
     "name": "stdout",
     "output_type": "stream",
     "text": [
      "+------+-----------+\n",
      "|  Name|max(salary)|\n",
      "+------+-----------+\n",
      "|  Ciro|      15000|\n",
      "|  Copo|      10000|\n",
      "|  Alex|      30000|\n",
      "|Silvia|      18000|\n",
      "|   Paz|      20000|\n",
      "| Wendy|      20000|\n",
      "+------+-----------+\n",
      "\n"
     ]
    }
   ],
   "source": [
    "df_pyspark.groupBy('Name').max().show()"
   ]
  },
  {
   "cell_type": "code",
   "execution_count": 26,
   "id": "562e45a3-986c-487b-95d8-790da99cca5e",
   "metadata": {},
   "outputs": [
    {
     "name": "stdout",
     "output_type": "stream",
     "text": [
      "+------+------------+------+\n",
      "|  Name| Departments|salary|\n",
      "+------+------------+------+\n",
      "|  Alex|Data Science| 30000|\n",
      "|  Alex|         IOT| 25000|\n",
      "| Wendy|    Big Data| 20000|\n",
      "|   Paz|    Big Data| 20000|\n",
      "|  Ciro|Data Science| 15000|\n",
      "|Silvia|Data Science| 18000|\n",
      "|Silvia|         IOT| 18000|\n",
      "|Silvia|    Big Data| 18000|\n",
      "|  Copo|Data Science| 10000|\n",
      "|  Copo|    Big Data|  2000|\n",
      "+------+------------+------+\n",
      "\n"
     ]
    }
   ],
   "source": [
    "df_pyspark.show()"
   ]
  },
  {
   "cell_type": "code",
   "execution_count": 30,
   "id": "0acae7c8-b44e-431d-8475-e5fd3ddd9b67",
   "metadata": {},
   "outputs": [
    {
     "name": "stdout",
     "output_type": "stream",
     "text": [
      "+------+-----------+\n",
      "|  Name|sum(salary)|\n",
      "+------+-----------+\n",
      "|  Ciro|      15000|\n",
      "|  Copo|      12000|\n",
      "|  Alex|      55000|\n",
      "|Silvia|      54000|\n",
      "|   Paz|      20000|\n",
      "| Wendy|      20000|\n",
      "+------+-----------+\n",
      "\n"
     ]
    }
   ],
   "source": [
    "df_pyspark.groupBy('Name').sum().show()"
   ]
  },
  {
   "cell_type": "code",
   "execution_count": 32,
   "id": "fa858e15-7ce5-4023-985d-6fa2574af8b9",
   "metadata": {},
   "outputs": [
    {
     "name": "stdout",
     "output_type": "stream",
     "text": [
      "+------+-----------+\n",
      "|  Name|min(salary)|\n",
      "+------+-----------+\n",
      "|  Ciro|      15000|\n",
      "|  Copo|       2000|\n",
      "|  Alex|      25000|\n",
      "|Silvia|      18000|\n",
      "|   Paz|      20000|\n",
      "| Wendy|      20000|\n",
      "+------+-----------+\n",
      "\n"
     ]
    }
   ],
   "source": [
    "df_pyspark.groupBy('Name').min().show()\n",
    "# los sueldos minimos por nombre"
   ]
  },
  {
   "cell_type": "code",
   "execution_count": 34,
   "id": "7cc7a9ed-036f-41f5-be6e-fd7e9b8b1aab",
   "metadata": {},
   "outputs": [
    {
     "name": "stdout",
     "output_type": "stream",
     "text": [
      "+------+-----------+\n",
      "|  Name|max(salary)|\n",
      "+------+-----------+\n",
      "|  Ciro|      15000|\n",
      "|  Copo|      10000|\n",
      "|  Alex|      30000|\n",
      "|Silvia|      18000|\n",
      "|   Paz|      20000|\n",
      "| Wendy|      20000|\n",
      "+------+-----------+\n",
      "\n"
     ]
    }
   ],
   "source": [
    "df_pyspark.groupBy('Name').max().show()\n",
    "# los sueldos maximos por nombre"
   ]
  },
  {
   "cell_type": "code",
   "execution_count": null,
   "id": "36656232-f0b7-44ae-9422-bf1814f61755",
   "metadata": {},
   "outputs": [],
   "source": []
  }
 ],
 "metadata": {
  "kernelspec": {
   "display_name": "Python 3 (ipykernel)",
   "language": "python",
   "name": "python3"
  },
  "language_info": {
   "codemirror_mode": {
    "name": "ipython",
    "version": 3
   },
   "file_extension": ".py",
   "mimetype": "text/x-python",
   "name": "python",
   "nbconvert_exporter": "python",
   "pygments_lexer": "ipython3",
   "version": "3.9.18"
  }
 },
 "nbformat": 4,
 "nbformat_minor": 5
}
