{
 "cells": [
  {
   "cell_type": "markdown",
   "id": "0e21dd0f",
   "metadata": {},
   "source": [
    "<img src=\"https://i.pinimg.com/originals/ee/2e/24/ee2e246795a13abc1fe01b28776626ef.jpg\" alt= \"LOGO CAT\" width=400 height=400 align = \"right\">\n",
    "\n",
    "<br>\n",
    "<h1><font color=\"#7F000E\" size=5>INSTITUTO GEOFISICO DEL PERU</font></h1>\n",
    "<h1><font color=\"#7F000R\" size=6> SPARK Y PYTHON CON PYSPARK </font></h1>\n",
    "<h1><font color=\"#7F000E\" size=4> PRIMERAS PRUEBAS Y EJEMPLOS\n",
    " </font></h1>\n",
    "<br>\n",
    "<br>\n",
    "<div style=\"text-align:left\">\n",
    "<font color=\"#7F000E\" size=3> Ing. Alexander Valdez</font><br>\n",
    "<font color=\"#7F000E\" size=3> Libertad Financiera 20:00-22:30pm </font><br>\n",
    "<font color=\"#7F000e\" size=3> Primera Clase </font><br>\n",
    "</div>"
   ]
  },
  {
   "cell_type": "code",
   "execution_count": null,
   "id": "9af4c70c",
   "metadata": {},
   "outputs": [],
   "source": [
    "!pip install pyspark\n"
   ]
  },
  {
   "cell_type": "code",
   "execution_count": 42,
   "id": "0d67b7fd",
   "metadata": {},
   "outputs": [],
   "source": [
    "from pyspark import SparkContext"
   ]
  },
  {
   "cell_type": "code",
   "execution_count": 43,
   "id": "4251cb05",
   "metadata": {},
   "outputs": [
    {
     "ename": "ValueError",
     "evalue": "Cannot run multiple SparkContexts at once; existing SparkContext(app=pyspark-shell, master=local[*]) created by __init__ at C:\\Users\\soporte\\AppData\\Local\\Temp\\ipykernel_16440\\1542122174.py:1 ",
     "output_type": "error",
     "traceback": [
      "\u001b[1;31m---------------------------------------------------------------------------\u001b[0m",
      "\u001b[1;31mValueError\u001b[0m                                Traceback (most recent call last)",
      "Cell \u001b[1;32mIn[43], line 1\u001b[0m\n\u001b[1;32m----> 1\u001b[0m sc \u001b[38;5;241m=\u001b[39m \u001b[43mSparkContext\u001b[49m\u001b[43m(\u001b[49m\u001b[43m)\u001b[49m\n",
      "File \u001b[1;32m~\\anaconda3\\envs\\SPARK_TEST\\lib\\site-packages\\pyspark\\context.py:201\u001b[0m, in \u001b[0;36mSparkContext.__init__\u001b[1;34m(self, master, appName, sparkHome, pyFiles, environment, batchSize, serializer, conf, gateway, jsc, profiler_cls, udf_profiler_cls, memory_profiler_cls)\u001b[0m\n\u001b[0;32m    195\u001b[0m \u001b[38;5;28;01mif\u001b[39;00m gateway \u001b[38;5;129;01mis\u001b[39;00m \u001b[38;5;129;01mnot\u001b[39;00m \u001b[38;5;28;01mNone\u001b[39;00m \u001b[38;5;129;01mand\u001b[39;00m gateway\u001b[38;5;241m.\u001b[39mgateway_parameters\u001b[38;5;241m.\u001b[39mauth_token \u001b[38;5;129;01mis\u001b[39;00m \u001b[38;5;28;01mNone\u001b[39;00m:\n\u001b[0;32m    196\u001b[0m     \u001b[38;5;28;01mraise\u001b[39;00m \u001b[38;5;167;01mValueError\u001b[39;00m(\n\u001b[0;32m    197\u001b[0m         \u001b[38;5;124m\"\u001b[39m\u001b[38;5;124mYou are trying to pass an insecure Py4j gateway to Spark. This\u001b[39m\u001b[38;5;124m\"\u001b[39m\n\u001b[0;32m    198\u001b[0m         \u001b[38;5;124m\"\u001b[39m\u001b[38;5;124m is not allowed as it is a security risk.\u001b[39m\u001b[38;5;124m\"\u001b[39m\n\u001b[0;32m    199\u001b[0m     )\n\u001b[1;32m--> 201\u001b[0m \u001b[43mSparkContext\u001b[49m\u001b[38;5;241;43m.\u001b[39;49m\u001b[43m_ensure_initialized\u001b[49m\u001b[43m(\u001b[49m\u001b[38;5;28;43mself\u001b[39;49m\u001b[43m,\u001b[49m\u001b[43m \u001b[49m\u001b[43mgateway\u001b[49m\u001b[38;5;241;43m=\u001b[39;49m\u001b[43mgateway\u001b[49m\u001b[43m,\u001b[49m\u001b[43m \u001b[49m\u001b[43mconf\u001b[49m\u001b[38;5;241;43m=\u001b[39;49m\u001b[43mconf\u001b[49m\u001b[43m)\u001b[49m\n\u001b[0;32m    202\u001b[0m \u001b[38;5;28;01mtry\u001b[39;00m:\n\u001b[0;32m    203\u001b[0m     \u001b[38;5;28mself\u001b[39m\u001b[38;5;241m.\u001b[39m_do_init(\n\u001b[0;32m    204\u001b[0m         master,\n\u001b[0;32m    205\u001b[0m         appName,\n\u001b[1;32m   (...)\u001b[0m\n\u001b[0;32m    215\u001b[0m         memory_profiler_cls,\n\u001b[0;32m    216\u001b[0m     )\n",
      "File \u001b[1;32m~\\anaconda3\\envs\\SPARK_TEST\\lib\\site-packages\\pyspark\\context.py:449\u001b[0m, in \u001b[0;36mSparkContext._ensure_initialized\u001b[1;34m(cls, instance, gateway, conf)\u001b[0m\n\u001b[0;32m    446\u001b[0m     callsite \u001b[38;5;241m=\u001b[39m SparkContext\u001b[38;5;241m.\u001b[39m_active_spark_context\u001b[38;5;241m.\u001b[39m_callsite\n\u001b[0;32m    448\u001b[0m     \u001b[38;5;66;03m# Raise error if there is already a running Spark context\u001b[39;00m\n\u001b[1;32m--> 449\u001b[0m     \u001b[38;5;28;01mraise\u001b[39;00m \u001b[38;5;167;01mValueError\u001b[39;00m(\n\u001b[0;32m    450\u001b[0m         \u001b[38;5;124m\"\u001b[39m\u001b[38;5;124mCannot run multiple SparkContexts at once; \u001b[39m\u001b[38;5;124m\"\u001b[39m\n\u001b[0;32m    451\u001b[0m         \u001b[38;5;124m\"\u001b[39m\u001b[38;5;124mexisting SparkContext(app=\u001b[39m\u001b[38;5;132;01m%s\u001b[39;00m\u001b[38;5;124m, master=\u001b[39m\u001b[38;5;132;01m%s\u001b[39;00m\u001b[38;5;124m)\u001b[39m\u001b[38;5;124m\"\u001b[39m\n\u001b[0;32m    452\u001b[0m         \u001b[38;5;124m\"\u001b[39m\u001b[38;5;124m created by \u001b[39m\u001b[38;5;132;01m%s\u001b[39;00m\u001b[38;5;124m at \u001b[39m\u001b[38;5;132;01m%s\u001b[39;00m\u001b[38;5;124m:\u001b[39m\u001b[38;5;132;01m%s\u001b[39;00m\u001b[38;5;124m \u001b[39m\u001b[38;5;124m\"\u001b[39m\n\u001b[0;32m    453\u001b[0m         \u001b[38;5;241m%\u001b[39m (\n\u001b[0;32m    454\u001b[0m             currentAppName,\n\u001b[0;32m    455\u001b[0m             currentMaster,\n\u001b[0;32m    456\u001b[0m             callsite\u001b[38;5;241m.\u001b[39mfunction,\n\u001b[0;32m    457\u001b[0m             callsite\u001b[38;5;241m.\u001b[39mfile,\n\u001b[0;32m    458\u001b[0m             callsite\u001b[38;5;241m.\u001b[39mlinenum,\n\u001b[0;32m    459\u001b[0m         )\n\u001b[0;32m    460\u001b[0m     )\n\u001b[0;32m    461\u001b[0m \u001b[38;5;28;01melse\u001b[39;00m:\n\u001b[0;32m    462\u001b[0m     SparkContext\u001b[38;5;241m.\u001b[39m_active_spark_context \u001b[38;5;241m=\u001b[39m instance\n",
      "\u001b[1;31mValueError\u001b[0m: Cannot run multiple SparkContexts at once; existing SparkContext(app=pyspark-shell, master=local[*]) created by __init__ at C:\\Users\\soporte\\AppData\\Local\\Temp\\ipykernel_16440\\1542122174.py:1 "
     ]
    }
   ],
   "source": [
    "sc = SparkContext()"
   ]
  },
  {
   "cell_type": "code",
   "execution_count": 3,
   "id": "4b46a029",
   "metadata": {},
   "outputs": [
    {
     "name": "stdout",
     "output_type": "stream",
     "text": [
      "Overwriting ejemplo.txt\n"
     ]
    }
   ],
   "source": [
    "%%writefile ejemplo.txt\n",
    "primera linea\n",
    "segunda linea\n",
    "tercera linea\n",
    "cuarta linea"
   ]
  },
  {
   "cell_type": "code",
   "execution_count": 5,
   "id": "ee86cf7f-cd70-4bbc-9db3-a4514f86c020",
   "metadata": {},
   "outputs": [],
   "source": [
    "textFile=sc.textFile('ejemplo.txt')"
   ]
  },
  {
   "cell_type": "code",
   "execution_count": 6,
   "id": "983f0177-04d4-484b-b818-b88962a20f32",
   "metadata": {},
   "outputs": [
    {
     "data": {
      "text/plain": [
       "ejemplo.txt MapPartitionsRDD[3] at textFile at <unknown>:0"
      ]
     },
     "execution_count": 6,
     "metadata": {},
     "output_type": "execute_result"
    }
   ],
   "source": [
    "textFile"
   ]
  },
  {
   "cell_type": "code",
   "execution_count": 7,
   "id": "2d7f29f0-1949-4620-91d9-28eaa7a13c95",
   "metadata": {},
   "outputs": [
    {
     "data": {
      "text/plain": [
       "['primera linea', 'segunda linea', 'tercera linea', 'cuarta linea']"
      ]
     },
     "execution_count": 7,
     "metadata": {},
     "output_type": "execute_result"
    }
   ],
   "source": [
    "textFile.collect()"
   ]
  },
  {
   "cell_type": "markdown",
   "id": "a5f15009",
   "metadata": {},
   "source": [
    "# PRIMER RDD #"
   ]
  },
  {
   "cell_type": "code",
   "execution_count": 9,
   "id": "b8682d2e-d4b3-4c32-ba35-9c0139d4329e",
   "metadata": {},
   "outputs": [],
   "source": [
    "from platform import python_version"
   ]
  },
  {
   "cell_type": "code",
   "execution_count": 10,
   "id": "34693502",
   "metadata": {},
   "outputs": [
    {
     "name": "stdout",
     "output_type": "stream",
     "text": [
      "3.9.18\n"
     ]
    }
   ],
   "source": [
    "print(python_version())"
   ]
  },
  {
   "cell_type": "code",
   "execution_count": 11,
   "id": "547bcf06",
   "metadata": {},
   "outputs": [
    {
     "data": {
      "text/plain": [
       "['primera linea', 'segunda linea', 'tercera linea', 'cuarta linea']"
      ]
     },
     "execution_count": 11,
     "metadata": {},
     "output_type": "execute_result"
    }
   ],
   "source": [
    "textFile.collect()# coger, visualizar los datos , contenido de los RDD"
   ]
  },
  {
   "cell_type": "code",
   "execution_count": 12,
   "id": "a215fd1e",
   "metadata": {},
   "outputs": [
    {
     "data": {
      "text/plain": [
       "4"
      ]
     },
     "execution_count": 12,
     "metadata": {},
     "output_type": "execute_result"
    }
   ],
   "source": [
    "textFile.count()"
   ]
  },
  {
   "cell_type": "code",
   "execution_count": 13,
   "id": "d1d8caec",
   "metadata": {},
   "outputs": [
    {
     "data": {
      "text/plain": [
       "'primera linea'"
      ]
     },
     "execution_count": 13,
     "metadata": {},
     "output_type": "execute_result"
    }
   ],
   "source": [
    "textFile.first()"
   ]
  },
  {
   "cell_type": "markdown",
   "id": "610d6f81-2edf-4f8b-894d-d7eaaa23e4c5",
   "metadata": {},
   "source": [
    "# TRANSFORMACION "
   ]
  },
  {
   "cell_type": "markdown",
   "id": "0bbde4ac-b8d2-4c9a-9fff-e650c3c2cd0d",
   "metadata": {},
   "source": [
    "Filtrar la palabra segunda"
   ]
  },
  {
   "cell_type": "code",
   "execution_count": 14,
   "id": "a27e7761-936d-4383-9164-a62d5c796e57",
   "metadata": {},
   "outputs": [],
   "source": [
    "segunda= textFile.filter(lambda linea: 'segunda' in linea)"
   ]
  },
  {
   "cell_type": "code",
   "execution_count": 15,
   "id": "4f735cef-f0ba-425e-87a2-566d0c0a4ea4",
   "metadata": {},
   "outputs": [
    {
     "data": {
      "text/plain": [
       "PythonRDD[6] at RDD at PythonRDD.scala:53"
      ]
     },
     "execution_count": 15,
     "metadata": {},
     "output_type": "execute_result"
    }
   ],
   "source": [
    "segunda"
   ]
  },
  {
   "cell_type": "code",
   "execution_count": 16,
   "id": "de8a341d-4366-40b4-9565-02641781cf1a",
   "metadata": {},
   "outputs": [
    {
     "data": {
      "text/plain": [
       "['segunda linea']"
      ]
     },
     "execution_count": 16,
     "metadata": {},
     "output_type": "execute_result"
    }
   ],
   "source": [
    "segunda.collect()"
   ]
  },
  {
   "cell_type": "markdown",
   "id": "fe73d536-450a-4858-abc4-e089d2e235a5",
   "metadata": {},
   "source": [
    "# SEGUNDA PARTE DEL JUPYTER NOTEBOOK\n"
   ]
  },
  {
   "cell_type": "code",
   "execution_count": 17,
   "id": "fdfc18c3-4873-4caf-b94d-0008545e6912",
   "metadata": {},
   "outputs": [],
   "source": [
    "from pyspark import SparkContext# no se puede Cannot run multiple SparkContexts at once"
   ]
  },
  {
   "cell_type": "code",
   "execution_count": 19,
   "id": "376d80ff-a088-4168-892f-c5f279000c40",
   "metadata": {},
   "outputs": [],
   "source": [
    "#sc= SparkContext()"
   ]
  },
  {
   "cell_type": "code",
   "execution_count": 44,
   "id": "68460e44-3fa7-406c-9ac7-44c856260e13",
   "metadata": {},
   "outputs": [],
   "source": [
    "lista=[1,2,3,4,5]"
   ]
  },
  {
   "cell_type": "code",
   "execution_count": 45,
   "id": "adc14a16-438b-4b20-a97e-09c02c20096a",
   "metadata": {},
   "outputs": [],
   "source": [
    "rdd = sc.parallelize(lista)"
   ]
  },
  {
   "cell_type": "code",
   "execution_count": 46,
   "id": "a3c0aaab-1886-44d0-92ae-3b60cb60c168",
   "metadata": {},
   "outputs": [
    {
     "data": {
      "text/plain": [
       "[1, 2, 3, 4, 5]"
      ]
     },
     "execution_count": 46,
     "metadata": {},
     "output_type": "execute_result"
    }
   ],
   "source": [
    "rdd.collect()"
   ]
  },
  {
   "cell_type": "markdown",
   "id": "4677f6b3-8bc3-46d0-89bd-c775c7141aa1",
   "metadata": {},
   "source": [
    "# filter () filtra los elementos de un rdd\n",
    "\n",
    "- rdd: colecciones de elementos tolerantes a fallos y capaces de operar en paralelo, que son la principal abstracción de datos de Apache Spark"
   ]
  },
  {
   "cell_type": "code",
   "execution_count": 47,
   "id": "88c3b960-1525-4215-b784-2687d2e81f3a",
   "metadata": {},
   "outputs": [],
   "source": [
    "filtrado_rdd = rdd.filter(lambda x: x>1)"
   ]
  },
  {
   "cell_type": "code",
   "execution_count": 48,
   "id": "bb59cf63-099d-46e2-8691-ba0da0297fb7",
   "metadata": {},
   "outputs": [
    {
     "data": {
      "text/plain": [
       "[2, 3, 4, 5]"
      ]
     },
     "execution_count": 48,
     "metadata": {},
     "output_type": "execute_result"
    }
   ],
   "source": [
    "filtrado_rdd.collect()"
   ]
  },
  {
   "cell_type": "markdown",
   "id": "f3046de7-c857-4016-9f66-ddd3a6c8c0a9",
   "metadata": {},
   "source": [
    "# map() aplica una funcion a los elementos de un RDD"
   ]
  },
  {
   "cell_type": "code",
   "execution_count": 49,
   "id": "956e62cc-ce82-426e-ada2-421525aa5500",
   "metadata": {},
   "outputs": [],
   "source": [
    "def suma1(x):\n",
    "    return (x+1)"
   ]
  },
  {
   "cell_type": "code",
   "execution_count": 50,
   "id": "6d5f4040-abfd-49b3-be90-4ee8076561f7",
   "metadata": {},
   "outputs": [],
   "source": [
    "filtrado_sumado_rdd = filtrado_rdd.map(suma1)"
   ]
  },
  {
   "cell_type": "code",
   "execution_count": 51,
   "id": "d1d8e0ff-99c0-4dd9-bb30-10c1cd9ee0b0",
   "metadata": {},
   "outputs": [
    {
     "data": {
      "text/plain": [
       "[3, 4, 5, 6]"
      ]
     },
     "execution_count": 51,
     "metadata": {},
     "output_type": "execute_result"
    }
   ],
   "source": [
    "filtrado_sumado_rdd.collect()"
   ]
  },
  {
   "cell_type": "code",
   "execution_count": 52,
   "id": "a0a9097a-62da-472a-931b-e4e8a31c16a9",
   "metadata": {},
   "outputs": [],
   "source": [
    "cuadrado_rdd= (filtrado_rdd\n",
    "               .map(suma1)\n",
    "               .map(lambda x: (x,x**2)))"
   ]
  },
  {
   "cell_type": "code",
   "execution_count": 53,
   "id": "a4a4d97b-dfb0-4f27-951f-7f4142eba369",
   "metadata": {},
   "outputs": [
    {
     "data": {
      "text/plain": [
       "[(3, 9), (4, 16), (5, 25), (6, 36)]"
      ]
     },
     "execution_count": 53,
     "metadata": {},
     "output_type": "execute_result"
    }
   ],
   "source": [
    "cuadrado_rdd.collect()"
   ]
  },
  {
   "cell_type": "markdown",
   "id": "858bcede-22f2-42b4-a000-3fc899d7bdfc",
   "metadata": {},
   "source": [
    "# 5) flatMap es igual que map() pero te convierte el resultado a una lista simple\n",
    "\n",
    "El resultado te  lo aplana te lo convierte en una lista simple, en el caso anterior como vemos ya no se muestran 2 por elemento."
   ]
  },
  {
   "cell_type": "code",
   "execution_count": 54,
   "id": "4daae199-86a1-4267-8a19-7e53734bcc67",
   "metadata": {},
   "outputs": [],
   "source": [
    "cuadrado_rdd= (filtrado_rdd\n",
    "               .map(suma1)\n",
    "               .flatMap(lambda x: (x,x**2)))"
   ]
  },
  {
   "cell_type": "code",
   "execution_count": 55,
   "id": "5a4b086d-f316-43b1-a8b1-b491e93ec6cf",
   "metadata": {},
   "outputs": [
    {
     "data": {
      "text/plain": [
       "[3, 9, 4, 16, 5, 25, 6, 36]"
      ]
     },
     "execution_count": 55,
     "metadata": {},
     "output_type": "execute_result"
    }
   ],
   "source": [
    "cuadrado_rdd.collect()\n"
   ]
  },
  {
   "cell_type": "markdown",
   "id": "435c5b05-627c-4740-9cc6-c88f378afae0",
   "metadata": {},
   "source": [
    "#  6) PAIR RDDS - CLAVE DE VALOR\n",
    "Los pair RDDS son unos datos estructurados muy utilizados en BIG DATA y se caracterizan por tener una clave y un valor.\n",
    "\n",
    "rdd: coleccion de elementos tolerantes a fallos y capaces de operar en paralelo."
   ]
  },
  {
   "cell_type": "code",
   "execution_count": 1,
   "id": "6c2fe014-ba1d-4c28-8378-bafb42331406",
   "metadata": {},
   "outputs": [],
   "source": [
    "# INICIAMOS SIEMPRE \n",
    "from pyspark import SparkContext\n",
    "sc= SparkContext()"
   ]
  },
  {
   "cell_type": "markdown",
   "id": "9def2021-c5d1-4346-af69-c3a31e688d3a",
   "metadata": {},
   "source": [
    "## CREANDO UN PAIR RDD A PARTIR DE UNA LISTA DE TUPLAS"
   ]
  },
  {
   "cell_type": "code",
   "execution_count": 2,
   "id": "3eaf4197-8af4-4d57-931e-54e6f20893c5",
   "metadata": {},
   "outputs": [],
   "source": [
    "lista_tuplas = [('a',1),('b',2),('c',3)]"
   ]
  },
  {
   "cell_type": "code",
   "execution_count": 57,
   "id": "313d7281-6494-4aae-be90-b7f44b053f04",
   "metadata": {},
   "outputs": [
    {
     "data": {
      "text/plain": [
       "[('a', 1), ('b', 2), ('c', 3)]"
      ]
     },
     "execution_count": 57,
     "metadata": {},
     "output_type": "execute_result"
    }
   ],
   "source": [
    "lista_tuplas"
   ]
  },
  {
   "cell_type": "code",
   "execution_count": 3,
   "id": "8dafc3b4-27c8-4f7f-8ec3-80b5b57df22c",
   "metadata": {},
   "outputs": [],
   "source": [
    "pair_rdd =sc.parallelize(lista_tuplas)"
   ]
  },
  {
   "cell_type": "code",
   "execution_count": 4,
   "id": "f116023b-e11d-4623-8236-81c42bc04a8d",
   "metadata": {},
   "outputs": [
    {
     "data": {
      "text/plain": [
       "[('a', 1), ('b', 2), ('c', 3)]"
      ]
     },
     "execution_count": 4,
     "metadata": {},
     "output_type": "execute_result"
    }
   ],
   "source": [
    "pair_rdd.collect()"
   ]
  },
  {
   "cell_type": "markdown",
   "id": "0cdc03e0-14ef-4c05-b472-00ab40020329",
   "metadata": {},
   "source": [
    "### UTILIZANDO ZIP"
   ]
  },
  {
   "cell_type": "code",
   "execution_count": 6,
   "id": "821401ed-1999-4812-b9de-888284301fdd",
   "metadata": {},
   "outputs": [
    {
     "data": {
      "text/plain": [
       "\u001b[1;31mInit signature:\u001b[0m \u001b[0mrange\u001b[0m\u001b[1;33m(\u001b[0m\u001b[0mself\u001b[0m\u001b[1;33m,\u001b[0m \u001b[1;33m/\u001b[0m\u001b[1;33m,\u001b[0m \u001b[1;33m*\u001b[0m\u001b[0margs\u001b[0m\u001b[1;33m,\u001b[0m \u001b[1;33m**\u001b[0m\u001b[0mkwargs\u001b[0m\u001b[1;33m)\u001b[0m\u001b[1;33m\u001b[0m\u001b[1;33m\u001b[0m\u001b[0m\n",
       "\u001b[1;31mDocstring:\u001b[0m     \n",
       "range(stop) -> range object\n",
       "range(start, stop[, step]) -> range object\n",
       "\n",
       "Return an object that produces a sequence of integers from start (inclusive)\n",
       "to stop (exclusive) by step.  range(i, j) produces i, i+1, i+2, ..., j-1.\n",
       "start defaults to 0, and stop is omitted!  range(4) produces 0, 1, 2, 3.\n",
       "These are exactly the valid indices for a list of 4 elements.\n",
       "When step is given, it specifies the increment (or decrement).\n",
       "\u001b[1;31mType:\u001b[0m           type\n",
       "\u001b[1;31mSubclasses:\u001b[0m     "
      ]
     },
     "metadata": {},
     "output_type": "display_data"
    }
   ],
   "source": [
    "?range"
   ]
  },
  {
   "cell_type": "code",
   "execution_count": 25,
   "id": "3d27acd5-b219-4e85-83f3-2b2c63a4a5ab",
   "metadata": {},
   "outputs": [],
   "source": [
    "pair_rdd2 =sc.parallelize(zip((['a','b','c']),range(1,4,1)))## start , stop , range"
   ]
  },
  {
   "cell_type": "code",
   "execution_count": null,
   "id": "e9935f39-4be7-4d4b-a14c-f1bf8bd9b8c9",
   "metadata": {},
   "outputs": [],
   "source": [
    "pair_rdd2.collect()"
   ]
  },
  {
   "cell_type": "markdown",
   "id": "d76a23b4-d797-4d1a-b70c-8e7acdc065fc",
   "metadata": {},
   "source": [
    "### EJEMPLO UTILIZANDO UN ARCHIVO"
   ]
  },
  {
   "cell_type": "code",
   "execution_count": 15,
   "id": "54e6a881-5ad7-436c-8a7d-57fffe82bc82",
   "metadata": {},
   "outputs": [],
   "source": [
    "rdd_celestina = sc.textFile(\"La Celestina.txt\")"
   ]
  },
  {
   "cell_type": "code",
   "execution_count": 16,
   "id": "62dd8d50-9893-462d-9df4-f42c4e56e843",
   "metadata": {},
   "outputs": [],
   "source": [
    "pair_rdd_celestina = rdd_celestina.map(lambda x: (x.split(\" \")[0],x))"
   ]
  },
  {
   "cell_type": "code",
   "execution_count": 17,
   "id": "6dcc58a8-51dc-4c3a-9fda-4b293dc2e6b3",
   "metadata": {},
   "outputs": [
    {
     "data": {
      "text/plain": [
       "[('**This',\n",
       "  '**This is a COPYRIGHTED Project Gutenberg Etext, Details Below**'),\n",
       " ('The', 'The Project Gutenberg Etext of La Celestina by Fernando de Rojas'),\n",
       " ('', ''),\n",
       " ('Copyright', 'Copyright 1998 R. S. Rudder'),\n",
       " ('', ''),\n",
       " ('Please', 'Please take a look at the important information in this header.'),\n",
       " ('We', 'We encourage you to keep this file on your own disk, keeping an'),\n",
       " ('electronic',\n",
       "  'electronic path open for the next readers.  Do not remove this.'),\n",
       " ('', ''),\n",
       " ('', ''),\n",
       " ('**Welcome',\n",
       "  '**Welcome To The World of Free Plain Vanilla Electronic Texts**'),\n",
       " ('', ''),\n",
       " ('**Etexts',\n",
       "  '**Etexts Readable By Both Humans and By Computers, Since 1971**'),\n",
       " ('', ''),\n",
       " ('*These', '*These Etexts Prepared By Hundreds of Volunteers and Donations*'),\n",
       " ('', ''),\n",
       " ('Information',\n",
       "  'Information on contacting Project Gutenberg to get Etexts, and'),\n",
       " ('further',\n",
       "  'further information is included below.  We need your donations.'),\n",
       " ('', ''),\n",
       " ('', ''),\n",
       " ('LA', 'LA CELESTINA [In Spanish]'),\n",
       " ('', ''),\n",
       " ('by', 'by Fernando de Rojas'),\n",
       " ('', ''),\n",
       " ('(Edicion', '(Edicion y Notas de Robert S. Rudder)'),\n",
       " ('(Edition', '(Edition and notes by Robert S. Rudder)'),\n",
       " ('Copyright', 'Copyright 1998 R. S. Rudder'),\n",
       " ('', ''),\n",
       " ('January,', 'January, 1999  [Etext #1619]'),\n",
       " ('', ''),\n",
       " ('', ''),\n",
       " ('The', 'The Project Gutenberg Etext of La Celestina, by Fernando de Rojas'),\n",
       " ('*******This',\n",
       "  '*******This file should be named clstn10.txt or clstn10.zip******'),\n",
       " ('', ''),\n",
       " ('Corrected',\n",
       "  'Corrected EDITIONS of our etexts get a new NUMBER, clstn11.txt'),\n",
       " ('VERSIONS',\n",
       "  'VERSIONS based on separate sources get new LETTER, clstn10a.txt'),\n",
       " ('', ''),\n",
       " ('The', 'The official release date of all Project Gutenberg Etexts is at'),\n",
       " ('Midnight,',\n",
       "  'Midnight, Central Time, of the last day of the stated month.  A'),\n",
       " ('preliminary',\n",
       "  'preliminary version may often be posted for suggestion, comment'),\n",
       " ('and', 'and editing by those who wish to do so.  To be sure you have an'),\n",
       " ('up', 'up to date first edition [xxxxx10x.xxx] please check file sizes'),\n",
       " ('in', 'in the first week of the next month.  Since our ftp program has'),\n",
       " ('a', 'a bug in it that scrambles the date [tried to fix and failed] a'),\n",
       " ('look', 'look at the file size will have to do, but we will try to see a'),\n",
       " ('new', 'new copy has at least one byte more or less.'),\n",
       " ('', ''),\n",
       " ('', ''),\n",
       " ('Information', 'Information about Project Gutenberg (one page)'),\n",
       " ('', ''),\n",
       " ('We', 'We produce about two million dollars for each hour we work.  The'),\n",
       " ('fifty', 'fifty hours is one conservative estimate for how long it we take'),\n",
       " ('to', 'to get any etext selected, entered, proofread, edited, copyright'),\n",
       " ('searched',\n",
       "  'searched and analyzed, the copyright letters written, etc.  This'),\n",
       " ('projected',\n",
       "  'projected audience is one hundred million readers.  If our value'),\n",
       " ('per', 'per text is nominally estimated at one dollar, then we produce 2'),\n",
       " ('million',\n",
       "  'million dollars per hour this year we, will have to do four text'),\n",
       " ('files', 'files per month:  thus upping our productivity from one million.'),\n",
       " ('The', 'The Goal of Project Gutenberg is to Give Away One Trillion Etext'),\n",
       " ('Files', 'Files by the December 31, 2001.  [10,000 x 100,000,000=Trillion]'),\n",
       " ('This', 'This is ten thousand titles each to one hundred million readers,'),\n",
       " ('which', 'which is 10% of the expected number of computer users by the end'),\n",
       " ('of', 'of the year 2001.'),\n",
       " ('', ''),\n",
       " ('We', 'We need your donations more than ever!'),\n",
       " ('', ''),\n",
       " ('All', 'All donations should be made to \"Project Gutenberg/CMU\": and are'),\n",
       " ('tax', 'tax deductible to the extent allowable by law. (CMU = Carnegie - '),\n",
       " ('Mellon', 'Mellon University). '),\n",
       " ('', ''),\n",
       " ('For', 'For these and other matters, please mail to:'),\n",
       " ('', ''),\n",
       " ('Project', 'Project Gutenberg'),\n",
       " ('P.', 'P. O. Box  2782'),\n",
       " ('Champaign,', 'Champaign, IL 61825'),\n",
       " ('', ''),\n",
       " ('Internet:', 'Internet:      dircompg@pobox.com'),\n",
       " ('CompuServe:', 'CompuServe:    >internet:dircompg@pobox.com'),\n",
       " ('Attmail:', 'Attmail:       internet!pobox.com!dircompg'),\n",
       " ('', ''),\n",
       " ('When', 'When all other email fails try our Michael S. Hart, Executive'),\n",
       " ('Director:', 'Director:'),\n",
       " ('hart@pobox.com', 'hart@pobox.com (internet)'),\n",
       " ('', ''),\n",
       " ('We', 'We would prefer to send you this information by email'),\n",
       " ('(Internet,', '(Internet, Bitnet, Compuserve, ATTMAIL or MCImail).'),\n",
       " ('', ''),\n",
       " ('******', '******'),\n",
       " ('If', 'If you have an FTP program (or emulator), please'),\n",
       " ('FTP', 'FTP directly to the Project Gutenberg archives:'),\n",
       " ('[Mac', '[Mac users, do NOT point and click. . .type]'),\n",
       " ('', ''),\n",
       " ('ftp', 'ftp mrcnext.cso.uiuc.edu'),\n",
       " ('login:', 'login:  anonymous'),\n",
       " ('password:', 'password:  your@login'),\n",
       " ('cd', 'cd etext/etext90 though etext/etext97'),\n",
       " ('or', 'or cd etext97 [for new books] '),\n",
       " ('or', 'or cd etext/articles '),\n",
       " ('dir', 'dir [to see files]'),\n",
       " ('get', 'get or mget [to get files. . .set bin for zip files]'),\n",
       " ('get', 'get INDEX100.GUT'),\n",
       " ('get', 'get INDEX200.GUT'),\n",
       " ('for', 'for a list of books'),\n",
       " ('and', 'and'),\n",
       " ('get', 'get NEW.GUT for general information'),\n",
       " ('and', 'and'),\n",
       " ('mget', 'mget GUT* for newsletters.'),\n",
       " ('', ''),\n",
       " ('**Information',\n",
       "  '**Information prepared by the Project Gutenberg legal advisor**'),\n",
       " ('(Three', '(Three Pages)'),\n",
       " ('', ''),\n",
       " ('***START**', '***START** SMALL PRINT! for COPYRIGHT PROTECTED ETEXTS ***'),\n",
       " ('TITLE', 'TITLE AND COPYRIGHT NOTICE:'),\n",
       " ('', ''),\n",
       " ('LA', 'LA CELESTINA [In Spanish]'),\n",
       " ('', ''),\n",
       " ('by', 'by Fernando de Rojas'),\n",
       " ('', ''),\n",
       " ('(Edicion', '(Edicion y Notas de Robert S. Rudder)'),\n",
       " ('(Edition', '(Edition and notes by Robert S. Rudder)'),\n",
       " ('Copyright', 'Copyright 1998 R. S. Rudder'),\n",
       " ('', ''),\n",
       " ('This', 'This etext is distributed by Professor Michael S. Hart through'),\n",
       " ('the', 'the Project Gutenberg Association at Carnegie-Mellon University'),\n",
       " ('(the',\n",
       "  '(the \"Project\") under the Project\\'s \"Project Gutenberg\" trademark'),\n",
       " ('and', \"and with the permission of the etext's copyright owner.\"),\n",
       " ('', ''),\n",
       " ('LICENSE', 'LICENSE'),\n",
       " ('You', 'You can (and are encouraged!) to copy and distribute this'),\n",
       " ('Project', 'Project Gutenberg-tm etext.  Since, unlike many other of the'),\n",
       " (\"Project's\", \"Project's etexts, it is copyright protected, and since the\"),\n",
       " ('materials', \"materials and methods you use will effect the Project's\"),\n",
       " ('reputation,', 'reputation,'),\n",
       " ('your', 'your right to copy and distribute it is limited by the copyright'),\n",
       " ('laws', 'laws and by the conditions of this \"Small Print!\" statement.'),\n",
       " ('', ''),\n",
       " ('', '  [A]  ALL COPIES: The Project permits you to distribute'),\n",
       " ('copies', 'copies of this etext electronically or on any machine readable'),\n",
       " ('medium', 'medium now known or hereafter discovered so long as you:'),\n",
       " ('', ''),\n",
       " ('', '     (1)  Honor the refund and replacement provisions of this'),\n",
       " ('\"Small', '\"Small Print!\" statement; and'),\n",
       " ('', ''),\n",
       " ('', '     (2)  Pay a royalty to the Project of 20% of the net'),\n",
       " ('profits', 'profits you derive calculated using the method you already use'),\n",
       " ('to', \"to calculate your applicable taxes.  If you don't derive\"),\n",
       " ('profits,',\n",
       "  'profits, no royalty is due.  Royalties are payable to \"Project'),\n",
       " ('Gutenberg', 'Gutenberg Association/Carnegie Mellon-University\" within'),\n",
       " ('the', 'the 60 days following each date you prepare (or were legally'),\n",
       " ('required', 'required to prepare) your annual (or equivalent periodic) tax'),\n",
       " ('return.', 'return.'),\n",
       " ('', ''),\n",
       " ('', '  [B]  EXACT AND MODIFIED COPIES: The copies you distribute'),\n",
       " ('must', 'must either be exact copies of this etext, including this'),\n",
       " ('Small', 'Small Print statement, or can be in binary, compressed, mark-'),\n",
       " ('up,', 'up, or proprietary form (including any form resulting from'),\n",
       " ('word', 'word processing or hypertext software), so long as *EITHER*:'),\n",
       " ('', ''),\n",
       " ('', '     (1)  The etext, when displayed, is clearly readable, and'),\n",
       " ('does', 'does *not* contain characters other than those intended by the'),\n",
       " ('author', 'author of the work, although tilde (~), asterisk (*) and'),\n",
       " ('underline', 'underline (_) characters may be used to convey punctuation'),\n",
       " ('intended', 'intended by the author, and additional characters may be used'),\n",
       " ('to', 'to indicate hypertext links; OR'),\n",
       " ('', ''),\n",
       " ('', '     (2)  The etext is readily convertible by the reader at no'),\n",
       " ('expense', 'expense into plain ASCII, EBCDIC or equivalent form by the'),\n",
       " ('program', 'program that displays the etext (as is the case, for instance,'),\n",
       " ('with', 'with most word processors); OR'),\n",
       " ('', ''),\n",
       " ('', '     (3)  You provide or agree to provide on request at no'),\n",
       " ('additional',\n",
       "  'additional cost, fee or expense, a copy of the etext in plain'),\n",
       " ('ASCII.', 'ASCII.'),\n",
       " ('', ''),\n",
       " ('LIMITED', 'LIMITED WARRANTY; DISCLAIMER OF DAMAGES'),\n",
       " ('This', 'This etext may contain a \"Defect\" in the form of incomplete,'),\n",
       " ('inaccurate',\n",
       "  'inaccurate or corrupt data, transcription errors, a copyright'),\n",
       " ('or', 'or other infringement, a defective or damaged disk, computer'),\n",
       " ('virus,', 'virus, or codes that damage or cannot be read by your'),\n",
       " ('equipment.', 'equipment.  But for the \"Right of Replacement or Refund\"'),\n",
       " ('described', 'described below, the Project (and any other party you may'),\n",
       " ('receive', 'receive this etext from as a PROJECT GUTENBERG-tm etext)'),\n",
       " ('disclaims', 'disclaims all liability to you for damages, costs and'),\n",
       " ('expenses,', 'expenses, including legal fees, and YOU HAVE NO REMEDIES FOR'),\n",
       " ('NEGLIGENCE', 'NEGLIGENCE OR UNDER STRICT LIABILITY, OR FOR BREACH OF'),\n",
       " ('WARRANTY', 'WARRANTY OR CONTRACT, INCLUDING BUT NOT LIMITED TO INDIRECT,'),\n",
       " ('CONSEQUENTIAL,',\n",
       "  'CONSEQUENTIAL, PUNITIVE OR INCIDENTAL DAMAGES, EVEN IF YOU'),\n",
       " ('GIVE', 'GIVE NOTICE OF THE POSSIBILITY OF SUCH DAMAGES.'),\n",
       " ('', ''),\n",
       " ('If', 'If you discover a Defect in this etext within 90 days of'),\n",
       " ('receiving', 'receiving it, you can receive a refund of the money (if any)'),\n",
       " ('you', 'you paid for it by sending an explanatory note within that'),\n",
       " ('time', 'time to the person you received it from.  If you received it'),\n",
       " ('on', 'on a physical medium, you must return it with your note, and'),\n",
       " ('such', 'such person may choose to alternatively give you a replacement'),\n",
       " ('copy.', 'copy.  If you received it electronically, such person may'),\n",
       " ('choose', 'choose to alternatively give you a second opportunity to'),\n",
       " ('receive', 'receive it electronically.'),\n",
       " ('', ''),\n",
       " ('THIS', 'THIS ETEXT IS OTHERWISE PROVIDED TO YOU \"AS-IS\".  NO OTHER'),\n",
       " ('WARRANTIES',\n",
       "  'WARRANTIES OF ANY KIND, EXPRESS OR IMPLIED, ARE MADE TO YOU AS'),\n",
       " ('TO', 'TO THE ETEXT OR ANY MEDIUM IT MAY BE ON, INCLUDING BUT NOT'),\n",
       " ('LIMITED', 'LIMITED TO WARRANTIES OF MERCHANTABILITY OR FITNESS FOR A'),\n",
       " ('PARTICULAR',\n",
       "  'PARTICULAR PURPOSE.  Some states do not allow disclaimers of'),\n",
       " ('implied', 'implied warranties or the exclusion or limitation of'),\n",
       " ('consequential',\n",
       "  'consequential damages, so the above disclaimers and exclusions'),\n",
       " ('may', 'may not apply to you, and you may have other legal rights.'),\n",
       " ('', ''),\n",
       " ('INDEMNITY', 'INDEMNITY'),\n",
       " ('You', 'You will indemnify and hold the Project, its directors,'),\n",
       " ('officers,',\n",
       "  'officers, members and agents harmless from all liability, cost'),\n",
       " ('and', 'and expense, including legal fees, that arise directly or'),\n",
       " ('indirectly', 'indirectly from any of the following that you do or cause:'),\n",
       " ('[1]', '[1] distribution of this etext, [2] alteration, modification,'),\n",
       " ('or', 'or addition to the etext, or [3] any Defect.'),\n",
       " ('', ''),\n",
       " ('WHAT', \"WHAT IF YOU *WANT* TO SEND MONEY EVEN IF YOU DON'T HAVE TO?\"),\n",
       " ('Project', 'Project Gutenberg is dedicated to increasing the number of'),\n",
       " ('public', 'public domain and licensed works that can be freely distributed'),\n",
       " ('in', 'in machine readable form.  The Project gratefully accepts'),\n",
       " ('contributions',\n",
       "  'contributions in money, time, scanning machines, OCR software,'),\n",
       " ('public', 'public domain etexts, royalty free copyright licenses,'),\n",
       " ('and', 'and whatever else you can think of.  Money should be paid to'),\n",
       " ('\"Project', '\"Project Gutenberg Association/Carnegie-Mellon University\".'),\n",
       " ('', ''),\n",
       " ('*SMALL', '*SMALL PRINT! Ver.04.29.93 FOR COPYRIGHT PROTECTED ETEXTS*END*'),\n",
       " ('', ''),\n",
       " ('', ''),\n",
       " ('', ''),\n",
       " ('', ''),\n",
       " ('', ''),\n",
       " ('**This',\n",
       "  '**This is a COPYRIGHTED Project Gutenberg Etext, Details Below**'),\n",
       " ('The', 'The Project Gutenberg Etext of La Celestina by Fernando de Rojas'),\n",
       " ('', ''),\n",
       " ('Copyright', 'Copyright 1998 R. S. Rudder'),\n",
       " ('', ''),\n",
       " ('', ''),\n",
       " ('', ''),\n",
       " ('', ''),\n",
       " ('', ''),\n",
       " ('LA', 'LA CELESTINA'),\n",
       " ('', ''),\n",
       " ('por', 'por'),\n",
       " ('', ''),\n",
       " ('Fernando', 'Fernando de Rojas'),\n",
       " ('', ''),\n",
       " ('(Edicion', '(Edicion y Notas de Robert S. Rudder)'),\n",
       " ('', ''),\n",
       " ('Copyright', 'Copyright 1998 R. S. Rudder'),\n",
       " ('', ''),\n",
       " ('', ''),\n",
       " ('', ''),\n",
       " ('', ''),\n",
       " ('I.', 'I. Introduccion'),\n",
       " ('', ''),\n",
       " ('II.', 'II. La Celestina'),\n",
       " ('', ''),\n",
       " ('III', 'III Glosario y Notas'),\n",
       " ('', ''),\n",
       " ('', ''),\n",
       " ('', ''),\n",
       " ('', ''),\n",
       " ('INTRODUCCION', 'INTRODUCCION'),\n",
       " ('', ''),\n",
       " ('Si', 'Si bien es cierto que \"La Celestina\" nos deja con muchas dudas'),\n",
       " ('sobre',\n",
       "  'sobre la personalidad de los personajes, esta misma vaguedad hace'),\n",
       " ('que', 'que la obra parezca mas realista, permitiendo incluso una lectura'),\n",
       " ('moderna.',\n",
       "  'moderna. Poco sabemos tambien sobre la autoria de la obra; sabemos'),\n",
       " ('que', 'que Fernando de Rojas, el unico autor conocido, fue un judio'),\n",
       " ('converso,',\n",
       "  'converso, nacido en Montalban, y que estudio en la Universidad de'),\n",
       " ('Salamanca.', 'Salamanca. Despues de haber escrito esta obra maestra en su'),\n",
       " ('juventud,',\n",
       "  'juventud, simplemente desaparecio de la escena literaria: fue a'),\n",
       " ('Talavera',\n",
       "  'Talavera para ejercer el oficio de abogado, y alli murio en 1541.'),\n",
       " ('', ''),\n",
       " ('El', 'El lugar de la accion de la obra no tiene semejanza geografica'),\n",
       " ('especifica',\n",
       "  'especifica con ningun pueblo de Espana.  Quedan tambien como meras'),\n",
       " ('sombras',\n",
       "  'sombras varios grupos de personajes (la muchedumbre que asiste al'),\n",
       " ('ajusticiamiento',\n",
       "  'ajusticiamiento de Sempronio y Parmeno; los vecinos congregados'),\n",
       " ('alrededor',\n",
       "  'alrededor de Pleberio cuando este da su discurso final). Y aunque'),\n",
       " ('las', 'las descripciones fisicas de los personajes centrales de la obra'),\n",
       " ('no', 'no son nada mas que bosquejos, hay una gran profundidad en sus'),\n",
       " ('personalidades.',\n",
       "  'personalidades.  Los dos personajes centrales cuyas vidas y'),\n",
       " ('destinos',\n",
       "  'destinos se enlazan apasionadamente, Calisto y Melibea, comparten'),\n",
       " ('una', 'una historia que se extiende mas alla de los confines de \"La'),\n",
       " ('Celestina\".',\n",
       "  'Celestina\".  Desde sus primeras palabras vemos que se han conocido'),\n",
       " ('antes', 'antes del comienzo de la obra:  \"en tan conueniente lugar que mi'),\n",
       " ('secreto',\n",
       "  'secreto dolor manifestarte pudiesse.  sin dubda encomparablemente'),\n",
       " ('es', 'es mayor tal galardon que el seruicio: sacrificio: deuocion e'),\n",
       " ('obras',\n",
       "  'obras pias que por este lugar alcanzar tengo yo a dios ofrescido.\" '),\n",
       " ('Estas', 'Estas vidas que se mueven tanto dentro como fuera de la obra,'),\n",
       " ('encontraran', 'encontraran su eco mas de cien anos despues en el arte de'),\n",
       " ('Velazquez',\n",
       "  'Velazquez donde hay figuras que aparecen dentro y fuera de la'),\n",
       " ('pintura.', 'pintura.'),\n",
       " ('', ''),\n",
       " ('Para', 'Para esta edicion electronica se han utilizado las cuatro'),\n",
       " ('siguientes', 'siguientes versiones de \"La Celestina\":'),\n",
       " ('', ''),\n",
       " ('1.', '1. \"Comedia de Calisto y Melibea\", Burgos, 1499.  16 actos. '),\n",
       " ('Facsimile.', 'Facsimile.'),\n",
       " ('', ''),\n",
       " ('2.', '2. \"Comedia de Calisto y Melibea\", Toledo, 1500.  16 actos,'),\n",
       " ('Facsimile.',\n",
       "  'Facsimile. Esta edicion tiene una carta del \"autor a un su amigo\",'),\n",
       " ('donde', 'donde dice que encontro el primer acto, y que escribio los demas'),\n",
       " ('actos', 'actos en quince dias de vacaciones.  Tambien hay versos de \"El'),\n",
       " ('autor', 'autor escusandose de su yerro en esta obra que escriuio...\" los'),\n",
       " ('cuales', 'cuales son un acrostico que revela lo siguiente: \"El bachjller'),\n",
       " ('fernando', 'fernando de royas acabo la comedia de calysto y melybea y fve'),\n",
       " ('nascjdo', 'nascjdo en la puebla de montalvan.\"'),\n",
       " ('', ''),\n",
       " ('3.', '3.  \"Comedia de Calisto y Melibea\", Sevilla, 1501.  Edicion de'),\n",
       " ('Foulche-Delbosc',\n",
       "  'Foulche-Delbosc (1900).  Semejante a la edicion de Toledo, 1500,'),\n",
       " ('con', 'con unas variaciones en la \"carta\" y en los primeros versos.'),\n",
       " ('', ''),\n",
       " ('4.', '4. \"Tragicomedia de Calisto y Melibea\", Valencia, 1514.  21 actos'),\n",
       " ('y', 'y otras interpolaciones.  Facsimile.'),\n",
       " ('', ''),\n",
       " ('He', 'He mantenido la ortografia y puntuacion de los facsimiles para dar'),\n",
       " ('un', 'un sentido autentico a esta version electronica.  Los cinco actos'),\n",
       " ('y', 'y otras interpolaciones anadidos en la edicion de Valencia (1514)'),\n",
       " ('estan', 'estan marcados entre comillas (\").  Las unicas concesiones a la'),\n",
       " ('puntuacion',\n",
       "  'puntuacion moderna son el uso, de vez en cuando, de la coma (,),'),\n",
       " ('el', 'el punto y coma (;), y la exclamacion (!); estas tres no existen'),\n",
       " ('en', 'en los facsimiles. Tampoco he podido usar el tilde a causa de los'),\n",
       " ('limites', 'limites de este modo de transmision, y el lector tendra que'),\n",
       " ('ponerlo.',\n",
       "  'ponerlo.  En cuanto al acento, esta transmision electronica no'),\n",
       " ('permite', 'permite tal cosa, pero tampoco existe en los facsimiles.'),\n",
       " ('', ''),\n",
       " ('Mi', 'Mi sincero agradecimiento al Profesor Juan de Castro, Magdalena de'),\n",
       " ('Castro,', 'Castro, y Gloria Arjona.'),\n",
       " ('', ''),\n",
       " ('Robert', 'Robert S. Rudder'),\n",
       " ('California', 'California State University, Los Angeles'),\n",
       " ('Junio,', 'Junio, 1998'),\n",
       " ('', ''),\n",
       " ('', ''),\n",
       " ('', ''),\n",
       " ('', ''),\n",
       " ('', ''),\n",
       " ('[LA', '[LA CELESTINA]'),\n",
       " ('', ''),\n",
       " ('\"TRAGI\"', '\"TRAGI\" COMEDIA'),\n",
       " ('DE', 'DE CALISTO Y MELIBEA'),\n",
       " ('', ''),\n",
       " ('\"nueuamente', '\"nueuamente reuista'),\n",
       " ('y', 'y emendada con addicion de los'),\n",
       " ('argumentos', 'argumentos de cada vn auto en principio.\" la'),\n",
       " ('qual', 'qual contiene demas de su agradable e'),\n",
       " ('dulce', 'dulce estilo muchas sentencias filosofales:'),\n",
       " ('e', 'e auisos muy necessarios para'),\n",
       " ('mancebos:', 'mancebos: mostrandoles los enganos que estan'),\n",
       " ('encerrados', 'encerrados en siruientes e alcahuetas.'),\n",
       " ('', ''),\n",
       " ('', ''),\n",
       " ('', ''),\n",
       " ('\"EL', '\"EL AUCTOR'),\n",
       " ('', ''),\n",
       " ('A', 'A VN SU AMIGO.'),\n",
       " ('', ''),\n",
       " ('', ''),\n",
       " ('Suelen', 'Suelen los que de sus tierras absentes se hallan considerar: de'),\n",
       " ('que', 'que cosa aquel lugar donde parten mayor inopia, o falta padezca:'),\n",
       " ('para',\n",
       "  'para con la tal seruir a los conterraneos de quien en algun tiempo'),\n",
       " ('beneficio',\n",
       "  'beneficio recebido tienen: e viendo que legitima obligacion a'),\n",
       " ('inuestigar', 'inuestigar lo semejante me compelia: para pagar las muchas'),\n",
       " ('mercedes', 'mercedes de vuestra libre liberalidad recebidas: assaz vezes'),\n",
       " ('retraydo',\n",
       "  'retraydo en mi camara acostado sobre mi propia mano: echando mis'),\n",
       " ('sentidos',\n",
       "  'sentidos por ventores: e mi juyzio a bolar: me venia a la memoria:'),\n",
       " ('no', 'no solo la necessidad que nuestra comun patria tiene de la'),\n",
       " ('presente',\n",
       "  'presente obra por la muchedumbre de galanes: e enamorados mancebos'),\n",
       " ('que', 'que posee: pero avn en particular vuestra misma persona: cuya'),\n",
       " ('juuentud',\n",
       "  'juuentud de amor ser presa: se me representa auer visto: e del'),\n",
       " ('cruelmente',\n",
       "  'cruelmente lastimada: a causa de le faltar defensiuas armas para'),\n",
       " ('resistir', 'resistir sus fuegos:  Las quales halle esculpidas en estos'),\n",
       " ('papeles:',\n",
       "  'papeles: no fabricadas en las grandes herrerias de Milan: mas en'),\n",
       " ('los', 'los claros ingenios de doctos varones castellanos formadas:  e'),\n",
       " ('como', 'como mirasse su primor: sotil artificio: su fuerte e claro metal:'),\n",
       " ('su', 'su modo e manera de lauor: su estilo elegante: jamas en nuestra'),\n",
       " ('castellana',\n",
       "  'castellana lengua visto ni oydo.  Leylo tres o quatro vezes: e'),\n",
       " ('tantas', 'tantas quantas mas lo leya: tanta mas necessidad me ponia de'),\n",
       " ('releerlo:', 'releerlo: e tanto mas me agradaua: y en su processo nueuas'),\n",
       " ('sentencias',\n",
       "  'sentencias sentia:  vi no solo ser dulce en su principal hystoria:'),\n",
       " ('o', 'o ficion toda junta. pero avn de algunas sus particularidades'),\n",
       " ('salian', 'salian deleytables fontezicas de filosofia: de otros agradables'),\n",
       " ('donayres:',\n",
       "  'donayres: de otros auisos e consejos contra lisonjeros e malos'),\n",
       " ('siruientes:',\n",
       "  'siruientes: e falsas mugeres hechizeras.  vi que no tenia su firma'),\n",
       " ('del', 'del autor: el qual segun algunos dizen fue Juan de Mena: e segun'),\n",
       " ('otros', 'otros Rodrigo Cota.  pero quien quier que fuesse: es digno de'),\n",
       " ('recordable',\n",
       "  'recordable memoria por la sotil inuencion: por la gran copia de'),\n",
       " ('sentencias',\n",
       "  'sentencias entrexeridas: que so color de donayres tiene: gran'),\n",
       " ('filosofo', 'filosofo era.  e pues el con temor de detractores e nocibles'),\n",
       " ('lenguas',\n",
       "  'lenguas mas aparejadas a reprehender que a saber inuentar: quiso'),\n",
       " ('celar',\n",
       "  'celar e encubrir su nombre: no me culpeys si en el fin baxo que lo'),\n",
       " ('pongo', 'pongo no espressare el mio: mayormente que siendo jurista yo:'),\n",
       " ('avnque',\n",
       "  'avnque obra discreta: es agena de mi facultad. e quien lo supiesse'),\n",
       " ('diria:',\n",
       "  'diria: que no por recreacion de mi principal estudio: del qual yo'),\n",
       " ('mas', 'mas me precio como es la verdad lo hiziesse: antes distraydo de'),\n",
       " ('los', 'los derechos en esta nueua labor me entremetiesse: pero avnque no'),\n",
       " ('acierten', 'acierten seria pago de mi osadia.  assimesmo pensarian que no'),\n",
       " ('quinze',\n",
       "  'quinze dias de vnas vacaciones: mientra mis socios en sus tierras'),\n",
       " ('en', 'en acabarlo me detuuiesse como es lo cierto pero avn mas tiempo: e'),\n",
       " ('menos',\n",
       "  'menos acepto: para desculpa de lo qual todo no solo a vos: pero a'),\n",
       " ('quantos', 'quantos lo leyeren: offrezco los siguientes metros.  E porque'),\n",
       " ('conozcays',\n",
       "  'conozcays donde comienzan mis maldoladas razones [e acaban las del'),\n",
       " ('antiguo',\n",
       "  'antiguo autor, en la margen hallareys una cruz; y es el fin de la'),\n",
       " ('primera',\n",
       "  'primera cena.]  acorde que todo lo del antiguo autor: fuesse sin'),\n",
       " ('diuision',\n",
       "  'diuision en vn aucto: o cena incluso hasta el segundo auto donde'),\n",
       " ('dize.', 'dize. Hermanos mios &c. Uale.\"'),\n",
       " ('', ''),\n",
       " ('', ''),\n",
       " ('', ''),\n",
       " ('EL', 'EL AUTOR'),\n",
       " ('', ''),\n",
       " ('ESCUSANDOSE', 'ESCUSANDOSE DE SU YERRO EN ESTA OBRA'),\n",
       " ('QUE', 'QUE ESCRIUIO, CONTRA Sl ARGUYE E COMPARA.'),\n",
       " ('', ''),\n",
       " ('El', 'El silencio escuda y suele encobrir'),\n",
       " ('las', 'las faltas de ingenio & las torpes lenguas:'),\n",
       " ('blason,', 'blason, que es contrario: publica sus menguas'),\n",
       " ('al', 'al que mucho habla sin mucho sentir.'),\n",
       " ('como', 'como la hormiga que dexa de yr:'),\n",
       " ('holgando', 'holgando por tierra, con la prouision:'),\n",
       " ('jactose', 'jactose con alas de su perdicion:'),\n",
       " ('lleuaronla', 'lleuaronla en alto, no sabe dondyr.'),\n",
       " ('', ''),\n",
       " ('Prosigue', 'Prosigue'),\n",
       " ('', ''),\n",
       " ('El', 'El ayre gozando ageno y estrano:'),\n",
       " ('rapina', 'rapina es ya hecha de aues que buelan:'),\n",
       " ('fuertes', 'fuertes mas que ella, por ceuo la lleuan:'),\n",
       " ('en', 'en las nueuas alas estaua su dano:'),\n",
       " ('razon', 'razon es que aplique mi pluma este engano,'),\n",
       " ('no', 'no dissimulando con los que arguyen'),\n",
       " ('assi,', 'assi, que a mi mesmo mis alas destruyen:'),\n",
       " ('nublosas', 'nublosas & flacas, nascidas de ogano.'),\n",
       " ('', ''),\n",
       " ('Prosigue', 'Prosigue'),\n",
       " ('', ''),\n",
       " ('Donde', 'Donde esta gozar pensaua volando'),\n",
       " ('oyo', 'oyo aqui escriuiendo cobrar mas honor,'),\n",
       " ('de', 'de lo vno & lo otro nascio disfauor,'),\n",
       " ('ella', 'ella es comida y a mi estan cortando.'),\n",
       " ('reproches,', 'reproches, reuistas y tachas callando'),\n",
       " ('obstara:', 'obstara: y a los danos de inuidia & murmuros'),\n",
       " ('y', 'y assi nauegando los puertos seguros'),\n",
       " ('atras', 'atras quedan todos ya quanto mas ando.'),\n",
       " ('', ''),\n",
       " ('Prosigue.', 'Prosigue.'),\n",
       " ('', ''),\n",
       " ('Si', 'Si bien discerneys mi limpio motiuo,'),\n",
       " ('a', 'a qual se adereza de aquestos estremos,'),\n",
       " ('con', 'con qual participa, quien rige sus remos'),\n",
       " ('amor', 'amor aplazible o desamor esquiuo:'),\n",
       " ('buscad', 'buscad bien el fin de aquesto que escriuo,'),\n",
       " ('o', 'o del principio leed su argumento;'),\n",
       " ('leeldo', 'leeldo y vereys que avnque dulce cuento,'),\n",
       " ('amantes', 'amantes que os muestra salir de catiuo.'),\n",
       " ('', ''),\n",
       " ('Comparacion.', 'Comparacion.'),\n",
       " ('', ''),\n",
       " ('Como', 'Como al doliente que pildora amarga'),\n",
       " ('o', 'o huye, o recela. o no puede tragar,'),\n",
       " ('metenla', 'metenla dentro de dulce manjar,'),\n",
       " ('enganase', 'enganase el gusto, la salud se alarga:'),\n",
       " ('desta', 'desta manera la pluma se embarga,'),\n",
       " ('imponiendo', 'imponiendo dichos lasciuos, rientes,'),\n",
       " ('atrae', 'atrae los oydos de penadas gentes,'),\n",
       " ('de', 'de grado escarmientan y arrojan su carga.'),\n",
       " ('', ''),\n",
       " ('Buelue', 'Buelue a su proposito.'),\n",
       " ('', ''),\n",
       " ('Este', 'Este mi desseo cargado de antojos'),\n",
       " ('compuso', 'compuso tal fin quel principio desata,'),\n",
       " ('acordo', 'acordo de dorar con oro de lata'),\n",
       " ('lo', 'lo mas fino oro, que vio con sus ojos:'),\n",
       " ('y', 'y encima de rosas sembrar mill abrojos,'),\n",
       " ('suplico', 'suplico pues suplan discretos mi falta,'),\n",
       " ('teman', 'teman grosseros; y en obra tan alta,'),\n",
       " ('o', 'o vean y callen, o no den enojos.'),\n",
       " ('', ''),\n",
       " ('', ''),\n",
       " ('', ''),\n",
       " ('Prosigue', 'Prosigue dando razon'),\n",
       " ('porque', 'porque se mouio a acabar esta obra.'),\n",
       " ('', ''),\n",
       " ('Yo', 'Yo vi en Salamanca la obra presente;'),\n",
       " ('mouime', 'mouime a acabarla por estas razones,'),\n",
       " ('es', 'es la primera, que esto en vacaciones;'),\n",
       " ('la', 'la otra que oy su inuentor ser sciente:'),\n",
       " ('y', 'y es la final, ver ya la mas gente'),\n",
       " ('buelta', 'buelta y mezclada en vicios de amor;'),\n",
       " ('estos', 'estos amantes les pornan temor'),\n",
       " ('a', 'a fiar de alcahueta, ni de mal siruiente.'),\n",
       " ('', ''),\n",
       " ('Y', 'Y assi que esta obra a mi flaco entender'),\n",
       " ('fue', 'fue tanto breue, quanto muy sutil,'),\n",
       " ('vi', 'vi que portaua sentencias dos mill'),\n",
       " ('en', 'en forro de gracias, labor de plazer:'),\n",
       " ('no', 'no hizo Dedalo en su officio e saber'),\n",
       " ('alguna', 'alguna mas prima entretalladura,'),\n",
       " ('si', 'si fin diera en esta su propia escriptura'),\n",
       " ('corta:', 'corta: vn gran hombre y de mucho valer.'),\n",
       " ('', ''),\n",
       " ('', ''),\n",
       " ('Jamas', 'Jamas yo no vi terenciana,'),\n",
       " ('despues', 'despues que me acuerdo, ni nadie la vido,'),\n",
       " ('obra', 'obra de estilo tan alto y subido'),\n",
       " ('en', 'en lengua comun vulgar castellana.'),\n",
       " ('no', 'no tiene sentencia de donde no mana'),\n",
       " ('loable', 'loable a su autor y eterna memoria.'),\n",
       " ('al', 'al qual Jesu Christo reciba en su gloria'),\n",
       " ('por', 'por su passion sancta que a todos nos sana.'),\n",
       " ('', ''),\n",
       " ('Amonesta', 'Amonesta a los que aman que siruan a dios'),\n",
       " ('y', 'y dexen las malas cogitaciones y vicios de amor.'),\n",
       " ('', ''),\n",
       " ('Uosotros', 'Uosotros que amays, tomad este enxemplo,'),\n",
       " ('este', 'este fino arnes con que os defendays;'),\n",
       " ('bolued', 'bolued ya las riendas, porque nos perdays;'),\n",
       " ('load', 'load siempre a dios visitando su templo;'),\n",
       " ('andad', 'andad sobre auiso, no seays en dexemplo'),\n",
       " ('de', 'de muertos y biuos y propios culpados;'),\n",
       " ('estando', 'estando en el mundo yazeys sepultados;'),\n",
       " ('muy', 'muy gran dolor siento quando esto contemplo.'),\n",
       " ('', ''),\n",
       " ('Fin', 'Fin'),\n",
       " ('', ''),\n",
       " ('Oluidemos', 'Oluidemos los vicios que assi nos prendieron;'),\n",
       " ('no', 'no confiemos en vana esperanza,'),\n",
       " ('temamos', 'temamos aquel que espinas y lanza,'),\n",
       " ('azotes', 'azotes y clauos su sangre vertieron;'),\n",
       " ('la', 'la su santa faz herida escupieron;'),\n",
       " ('vinagre', 'vinagre con hiel fue su potacion;'),\n",
       " ('a', 'a cada costado consintio vn ladron;'),\n",
       " ('nos', 'nos lleue le ruego con los quel creyeron. [Toledo 1500, Sevilla'),\n",
       " ('1501]', '1501]'),\n",
       " ('', ''),\n",
       " ('', ''),\n",
       " ('', ''),\n",
       " ('', ''),\n",
       " ('', ''),\n",
       " ('', ''),\n",
       " ('\"EL', '\"EL AUTOR ESCUSANDOSE DE SU YERRO EN ESTA'),\n",
       " ('OBRA', 'OBRA QUE ESCRIUIO CONTRA Sl ARGUYE E COMPARA.'),\n",
       " ('', ''),\n",
       " ('El', 'El silencio escuda y suele encubrir'),\n",
       " ('la', 'la falta de ingenio e torpeza de lenguas'),\n",
       " ('blason', 'blason que es contrario: publica sus menguas'),\n",
       " ('a', 'a quien mucho habla sin mucho sentir:'),\n",
       " ('como', 'como hormiga que dexa de yr'),\n",
       " ('holgando', 'holgando por tierra con la prouision'),\n",
       " ('jactose', 'jactose con alas de su perdicion'),\n",
       " ('lleuaronla', 'lleuaronla en alto no sabe donde yr.'),\n",
       " ('', ''),\n",
       " ('Prosigue.', 'Prosigue.'),\n",
       " ('', ''),\n",
       " ('El', 'El ayre gozando ageno y estrano'),\n",
       " ('rapina', 'rapina es ya hecha de aues que buelan'),\n",
       " ('fuertes', 'fuertes mas que ella por ceuo la lleuan'),\n",
       " ('en', 'en las nueuas alas estaua su dano:'),\n",
       " ('razon', 'razon es que aplique a mi pluma este engano'),\n",
       " ('no', 'no despreciando a los que me arguyen'),\n",
       " ('assi', 'assi que a mi mismo mis alas destruyen'),\n",
       " ('nublosas', 'nublosas e flacas nascidas de ogano.'),\n",
       " ('', ''),\n",
       " ('Prosigue.', 'Prosigue.'),\n",
       " ('', ''),\n",
       " ('Donde', 'Donde esta gozar pensaua bolando'),\n",
       " ('o', 'o yo de screuir cobrar mas honor'),\n",
       " ('del', 'del vno del otro nascio disfauor'),\n",
       " ('ella', 'ella es comida e a mi estan cortando:'),\n",
       " ('reproches', 'reproches reuistas e tachas callando'),\n",
       " ('obstara:', 'obstara: e los danos de inuidia e murmuros'),\n",
       " ('insisto', 'insisto remando e los puertos seguros'),\n",
       " ('atras', 'atras quedan todos ya quanto mas ando.'),\n",
       " ('', ''),\n",
       " ('Prosigue.', 'Prosigue.'),\n",
       " ('', ''),\n",
       " ('Si', 'Si bien quereys ver mi limpio motiuo'),\n",
       " ('a', 'a qual se endereza de aquestos estremos'),\n",
       " ('con', 'con qual participa quien rige sus remos'),\n",
       " ('Apollo:', 'Apollo: Diana / o Cupido altiuo:'),\n",
       " ('buscad', 'buscad bien el fin de aquesto que escriuo'),\n",
       " ('o', 'o del principio leed su argumento'),\n",
       " ('leeldo', 'leeldo vereys: que avnque dulce cuento'),\n",
       " ('amantes', 'amantes que os muestra salir de catiuo.'),\n",
       " ('', ''),\n",
       " ('Comparacion.', 'Comparacion.'),\n",
       " ('', ''),\n",
       " ('Como', 'Como el doliente que pildora amarga'),\n",
       " ('o', 'o la recela: o no puede tragar'),\n",
       " ('metela', 'metela dentro de dulce manjar'),\n",
       " ('enganase', 'enganase el gusto la salud se alarga:'),\n",
       " ('desta', 'desta manera mi pluma se embarga'),\n",
       " ('imponiendo', 'imponiendo dichos lasciuos rientes'),\n",
       " ('atrae', 'atrae los oydos de penadas gentes.'),\n",
       " ('de', 'de grado escarmientan e arrojan su carga.'),\n",
       " ('', ''),\n",
       " ('Buelue', 'Buelue a su proposito.'),\n",
       " ('', ''),\n",
       " ('Estando', 'Estando cercado de dubdas e antojos'),\n",
       " ('compuse', 'compuse tal fin quel principio desata'),\n",
       " ('acorde', 'acorde dorar con oro de lata'),\n",
       " ('lo', 'lo mas fino tibar que vi con mis ojos:'),\n",
       " ('y', 'y encima de rosas sembrar mill abrojos'),\n",
       " ('suplico', 'suplico pues suplan discretos mi falta'),\n",
       " ('teman', 'teman grosseros y en obra tan alta'),\n",
       " ('o', 'o vean e callen: o no den enojos.'),\n",
       " ('', ''),\n",
       " ('', ''),\n",
       " ('', ''),\n",
       " ('Prosigue', 'Prosigue dando razones'),\n",
       " ('porque', 'porque se mouio a acabar esta obra.'),\n",
       " ('', ''),\n",
       " ('yo', 'yo vi en Salamanca la obra presente'),\n",
       " ('mouime', 'mouime acabarla por estas razones'),\n",
       " ('es', 'es la primera que esto en vacaciones'),\n",
       " ('la', 'la otra inuentar [imitar] la persona prudente:'),\n",
       " ('y', 'y es la final ver ya la mas gente'),\n",
       " ('buelta', 'buelta e mezclada en vicios de amor'),\n",
       " ('estos', 'estos amantes les pornan temor'),\n",
       " ('a', 'a fiar de alcahueta ni falso siruiente.'),\n",
       " ('', ''),\n",
       " ('y', 'y assi que esta obra en el proceder'),\n",
       " ('fue', 'fue tanto breue quanto muy sotil'),\n",
       " ('vi', 'vi que portaua sentencias dos mill'),\n",
       " ('en', 'en forro de gracias lauor de plazer:'),\n",
       " ('no', 'no hizo Dedalo cierto a mi ver'),\n",
       " ('alguna', 'alguna mas prima entretalladura'),\n",
       " ('si', 'si fin diera en esta su propia escriptura'),\n",
       " ('Cota', 'Cota o Mena con su gran saber.'),\n",
       " ('', ''),\n",
       " ('', ''),\n",
       " ('Jamas', 'Jamas yo no vide en lengua romana'),\n",
       " ('despues', 'despues que me acuerdo: ni nadie la vido'),\n",
       " ('obra', 'obra de estilo tan alto e sobido'),\n",
       " ('en', 'en tusca: ni griega: ni en castellana:'),\n",
       " ('no', 'no trae sentencia de donde no mana'),\n",
       " ('loable', 'loable a su autor y eterna memoria'),\n",
       " ('al', 'al qual Jesucristo reciba en su gloria'),\n",
       " ('por', 'por su passion santa que a todos nos sana.'),\n",
       " ('', ''),\n",
       " ('Amonesta', 'Amonesta a los que aman que siruan a dios'),\n",
       " ('y', 'y dexen las malas cogitacions e vicios de amor.'),\n",
       " ('', ''),\n",
       " ('Uos', 'Uos los que amays tomad este enxemplo'),\n",
       " ('este', 'este fino arnes con que os defendays'),\n",
       " ('bolued', 'bolued ya las riendas porque no os perdays'),\n",
       " ('load', 'load siempre a dios visitando su templo'),\n",
       " ('andad', 'andad sobre auiso no seays dexemplo'),\n",
       " ('de', 'de muertos e biuos e propios culpados'),\n",
       " ('estando', 'estando en el mundo yazeys sepultados'),\n",
       " ('muy', 'muy gran dolor siento quando esto contemplo.'),\n",
       " ('', ''),\n",
       " ('', ''),\n",
       " ('Fin.', 'Fin.'),\n",
       " ('', ''),\n",
       " ('O', 'O damas: matronas: mancebos: casados:'),\n",
       " ('notad', 'notad bien la vida que aquestos hizieron'),\n",
       " ('tened', 'tened por espejo su fin qual huuieron'),\n",
       " ('a', 'a otro que amores dad vuestros cuydados'),\n",
       " ('limpiad', 'limpiad ya los ojos los ciegos errados'),\n",
       " ('virtudes', 'virtudes sembrando con casto biuir'),\n",
       " ('a', 'a todo correr deueys de huyr'),\n",
       " ('no', 'no os lance Cupido sus tiros dorados.  [Valencia, 1514]'),\n",
       " ('', ''),\n",
       " ('', ''),\n",
       " ('', ''),\n",
       " ('', ''),\n",
       " ('Todas', 'Todas las cosas ser criadas a manera de contienda o batalla dize'),\n",
       " ('aquel', 'aquel gran sabio Eraclito en este modo. Omnia secundum litem'),\n",
       " ('fiunt.',\n",
       "  'fiunt. Sentencia a mi ver digna de perpetua y recordable memoria:'),\n",
       " ('e', 'e como sea cierto que toda palabra del hombre sciente este'),\n",
       " ('prenada:',\n",
       "  'prenada: desta se puede dezir: que de muy hinchada y llena quiere'),\n",
       " ('rebentar:',\n",
       "  'rebentar: echando de si tan crescidos ramos y hojas: que del menor'),\n",
       " ('pimpollo',\n",
       "  'pimpollo se sacaria harto fruto entre personas discretas.  Pero'),\n",
       " ('como', 'como mi pobre saber no baste a mas de roer sus secas cortezas de'),\n",
       " ('los', 'los dichos de aquellos que por claror de sus ingenios merescieron'),\n",
       " ('ser', 'ser aprouados: con lo poco que de alli alcanzare satisfare al'),\n",
       " ('proposito', 'proposito deste perbreue prologo.  Halle esta sentencia'),\n",
       " ('corroborada',\n",
       "  'corroborada por aquel gran orador e poeta laureado Francisco'),\n",
       " ('Petrarcha',\n",
       "  'Petrarcha diziendo. Sine lite atque offensione nihil genuit natura'),\n",
       " ('parens.',\n",
       "  'parens.  Sin lid e offension ninguna cosa engendro la natura madre'),\n",
       " ('de', 'de todo.  Dize mas adelante. Sic est enim et sic propemodum'),\n",
       " ('vniversa',\n",
       "  'vniversa testantur: rapido stellae obviant firmamento: contraria'),\n",
       " ('inuicem',\n",
       "  'inuicem elementa confligunt. terrae tremunt. maria fluctuant aer'),\n",
       " ('quatitur.',\n",
       "  'quatitur. crepant flammae. bellum immortale venti gerunt. tempora'),\n",
       " ('temporibus',\n",
       "  'temporibus concertant. secum singula: nobiscum omnia.  Que quiere'),\n",
       " ('dezir:', 'dezir: en verdad assi es e assi todas las cosas desto dan'),\n",
       " ('testimonio:', 'testimonio: las estrellas se encuentran en el arrebatado'),\n",
       " ('firmamento',\n",
       "  'firmamento del cielo: los aduersos elementos vnos con otros rompen'),\n",
       " ('pelea.', 'pelea. tremen las tierras: ondean las mares: el ayre se sacude:'),\n",
       " ('suenan',\n",
       "  'suenan las llamas: los vientos entre si traen perpetua guerra: los'),\n",
       " ('tiempos',\n",
       "  'tiempos con tiempos contienden e litigan entre si: vno a vno: e'),\n",
       " ('todos', 'todos contra nosotros.  El verano vemos que nos aquexa con calor'),\n",
       " ('demasiado.',\n",
       "  'demasiado.  El inuierno con frio y aspereza. assi que esto nos'),\n",
       " ('paresce',\n",
       "  'paresce reuolucion temporal: esto con que nos sostenemos: esto con'),\n",
       " ('que', 'que nos criamos e biuimos: si comienza a ensoberuecerse mas de lo'),\n",
       " ('acostumbrado:',\n",
       "  'acostumbrado: no es sino guerra.  E quanto se ha de temer'),\n",
       " ('manifiestase',\n",
       "  'manifiestase por los grandes terremotos: e toruellinos: por los'),\n",
       " ('naufragios:',\n",
       "  'naufragios: y encendios: assi celestiales como terrenales por la'),\n",
       " ('fuerza',\n",
       "  'fuerza de los aguaduchos: por aquel bramar de truenos: por aquel'),\n",
       " ('temeroso',\n",
       "  'temeroso impetu de rayos: aquellos cursos e recursos de las nuues:'),\n",
       " ('de', 'de cuyos abiertos mouimientos: para saber la secreta causa de que'),\n",
       " ('proceden:', 'proceden: no es menor la dissension de los filosofos en las'),\n",
       " ('escuelas:',\n",
       "  'escuelas: que de las ondas en la mar. Pues entre los animales'),\n",
       " ('ningun',\n",
       "  'ningun genero carece de guerra: pesces: fieras: aues: serpientes:'),\n",
       " ('de', 'de lo qual todo: vna especie a otra persigue.  El leon al lobo. '),\n",
       " ('El', 'El lobo la cabra: el perro la liebre: e si no paresciesse conseja'),\n",
       " ('de', 'de tras el fuego yo llegaria mas al cabo esta cuenta.  El elefante'),\n",
       " ('animal',\n",
       "  'animal tan poderoso e fuerte se espanta e huye de la vista de vn'),\n",
       " ('suziuelo',\n",
       "  'suziuelo raton e avn de solo oyrle toma gran temor.  entre las'),\n",
       " ('serpientes', 'serpientes el basilisco crio la natura tan ponzonoso e'),\n",
       " ('conquistador',\n",
       "  'conquistador de todas las otras: que con su siluo las asombra: e'),\n",
       " ('con', 'con su venida las ahuyenta e disparze: con su vista las mata.  La'),\n",
       " ('biuora',\n",
       "  'biuora reptilia: o serpiente enconada al tiempo del concebir: por'),\n",
       " ('la', 'la boca de la hembra metida la cabeza del macho: y ella con el'),\n",
       " ('gran', 'gran dulzor aprietale tanto que le mata e quedando prenada: el'),\n",
       " ('primer', 'primer hijo rompe las yjares de la madre: por do todos salen y'),\n",
       " ('ella', 'ella muerta queda: el quasi como vengador de la paterna muerte. '),\n",
       " ('que', 'que mayor lid: que mayor conquista: ni guerra que engendrar en su'),\n",
       " ('cuerpo', 'cuerpo quien coma sus entranas?  Pues no menos dissensiones'),\n",
       " ('naturales',\n",
       "  'naturales creemos hauer en los pescados: pues es cosa cierta gozar'),\n",
       " ('la', 'la mar de tantas formas de pesces: quantas la tierra: y el ayre'),\n",
       " ('cria', 'cria de aues: e animalias: e muchas mas.  Aristotiles e Plinio'),\n",
       " ('cuentan',\n",
       "  'cuentan marauillas de vn pequeno pece llamado echeneis: quanto sea'),\n",
       " ('apta', 'apta su propriedad para diuersos generos de lides: especialmente'),\n",
       " ('tiene',\n",
       "  'tiene vna: que si allega a vna nao: o carraca la detiene que no se'),\n",
       " ('puede',\n",
       "  'puede menear avnque vaya muy rezio por las aguas. de lo qual haze'),\n",
       " ('Lucano', 'Lucano mencion diziendo. Non puppim retinens Euro tendente'),\n",
       " ('rudentes.',\n",
       "  'rudentes. In mediis echeneis aquis.  No falta alli el pece dicho'),\n",
       " ('echeneis',\n",
       "  'echeneis que detiene las fustas quando el viento Euro estiende las'),\n",
       " ('cuerdas', 'cuerdas en medio de la mar.  O natural contienda digna de'),\n",
       " ('admiracion',\n",
       "  'admiracion poder mas vn pequeno pece que vn gran nauio con toda la'),\n",
       " ('fuerza', 'fuerza de los vientos.  Pues si discurrimos por las aues: e por'),\n",
       " ('sus', 'sus menudas enemistades bien affirmaremos ser todas las cosas'),\n",
       " ('criadas', 'criadas a manera de contienda las mas biuen de rapina: como'),\n",
       " ('halcones',\n",
       "  'halcones / e aguilas / e gauilanes hasta los grosseros milanos'),\n",
       " ('insultan', 'insultan dentro en nuestras moradas los domesticos pollos: e'),\n",
       " ('debaxo', 'debaxo las alas de sus madres los vienen a cazar. De vna ave'),\n",
       " ('llamada',\n",
       "  'llamada Rocho que nace en el Indico mar de Oriente se dize ser de'),\n",
       " ('grandeza',\n",
       "  'grandeza jamas oyda e que lleva sobre su pico fasta las nuues no'),\n",
       " ('solo',\n",
       "  'solo vn hombre: o diez: pero vn nauio cargado de todas sus xarcias'),\n",
       " ('e', 'e gente.  E como los miseros navegantes esten assi suspensos en el'),\n",
       " ('ayre', 'ayre con el meneo de su buelo caen: e reciben crueles muertes.'),\n",
       " ('pues',\n",
       "  'pues que diremos entre los hombres e a quien todo lo sobredicho es'),\n",
       " ('subjeto:', 'subjeto: quien explanara sus guerras / sus enemistades / sus'),\n",
       " ('embidias',\n",
       "  'embidias / sus aceleramientos e mouimientos e descontentamientos:'),\n",
       " ('aquel',\n",
       "  'aquel mudar de trajes: aquel derribar e renouar edificios: e otros'),\n",
       " ('muchos', 'muchos affectos diuersos e variedades que desta nuestra flaca'),\n",
       " ('humanidad',\n",
       "  'humanidad nos prouienen: e pues es antigua querella e visitada de'),\n",
       " ('largos', 'largos tiempos no quiero marauillarme si esta presente obra ha'),\n",
       " ('seydo', 'seydo instrumento de lid: o contienda a sus lectores: para'),\n",
       " ('ponerlos',\n",
       "  'ponerlos en differencias: dando cada vno sentencia sobre ella a'),\n",
       " ('sabor',\n",
       "  'sabor de su voluntad.  Unos dezian que era prolixa / otros breue /'),\n",
       " ('otros',\n",
       "  'otros agradable / otros escura. de manera que cortarla a medida de'),\n",
       " ('tantas', 'tantas y tan differentes condiciones a solo dios pertenesce. '),\n",
       " ('Mayormente',\n",
       "  'Mayormente pues ella con todas las otras cosas que al mundo son'),\n",
       " ('van', 'van debaxo de la vandera desta notable sentencia que avn la mesma'),\n",
       " ('vida', 'vida de los hombres si bien lo miramos desde la primera hedad'),\n",
       " ('hasta', 'hasta que blanquean las canas es batalla: los ninos con los'),\n",
       " ('juegos:',\n",
       "  'juegos: los mozos con las letras: los mancebos con los deleytes:'),\n",
       " ('los', 'los viejos con mill especies de enfermedades pelean: y estos'),\n",
       " ('papeles',\n",
       "  'papeles con todas las edades.  La primera los borra e rompe.  La'),\n",
       " ('segunda', 'segunda no los sabe bien leer.  La tercera que es la alegre'),\n",
       " ('juuentud',\n",
       "  'juuentud e mancebia discorda: vnos les roen los huessos que no'),\n",
       " ('tienen',\n",
       "  'tienen virtud: que es la hystoria toda junta no aprouechandose de'),\n",
       " ('las', 'las particularidades haziendola cuenta de camino. otros pican los'),\n",
       " ('donayres',\n",
       "  'donayres y refranes comunes: loandolos con toda atencion: dexando'),\n",
       " ('passar', 'passar por alto lo que haze mas al caso e vtilidad suya.  Pero'),\n",
       " ('aquellos',\n",
       "  'aquellos para cuyo verdadero plazer es todo: desechan el cuento de'),\n",
       " ('la', 'la hystoria para contar: coligen la suma para su prouecho: rien lo'),\n",
       " ('donoso:', 'donoso: las sentencias e dichos de philosophos guardan en su'),\n",
       " ('memoria', 'memoria para trasponer en lugares conuenibles a sus autos e'),\n",
       " ('propositos:',\n",
       "  'propositos: assi que quando diez personas se juntaren a oyr esta'),\n",
       " ('Comedia',\n",
       "  'Comedia en quien quepa esta differencia de condiciones como suele'),\n",
       " ('acaescer:',\n",
       "  'acaescer: quien negara que aya contienda en cosa que de tantas'),\n",
       " ('maneras',\n",
       "  'maneras se entienda: que avn los impressores han dado sus punturas'),\n",
       " ('poniendo',\n",
       "  'poniendo rubricas: o sumarios al principio de cada auto narrando'),\n",
       " ('en', 'en breue lo que dentro contenia: vna cosa bien escusada segun lo'),\n",
       " ('que', 'que los antiguos scriptores vsaron.  Otros han litigado sobre el'),\n",
       " ('nombre:',\n",
       "  'nombre: diziendo que no se auia de llamar Comedia: pues acabaua en'),\n",
       " ('tristeza:',\n",
       "  'tristeza: sino que se llamasse Tragedia.  El primer autor quiso'),\n",
       " ('darle',\n",
       "  'darle denominacion del principio que fue plazer e llamola Comedia. '),\n",
       " ('yo', 'yo viendo estas discordias entre estos estremos parti agora por'),\n",
       " ('medio', 'medio la porfia: e llamela Tragicomedia.  Assi que viendo estas'),\n",
       " ('conquistas:',\n",
       "  'conquistas: estos dissonos e varios juyzios: mire a donde la mayor'),\n",
       " ('parte',\n",
       "  'parte acostaua e halle que querian que se alargasse en el processo'),\n",
       " ('de', 'de su deleyte destos amantes. sobre lo qual fuy muy importunado de'),\n",
       " ('manera',\n",
       "  'manera que acorde avnque contra mi voluntad meter segunda vez la'),\n",
       " ('pluma', 'pluma en tan estrana lauor e tan agena de mi facultad: hurtando'),\n",
       " ('algunos',\n",
       "  'algunos ratos a mi principal estudio con otras horas destinadas'),\n",
       " ('para', 'para recreacion: puesto que no han de faltar nueuos detractores a'),\n",
       " ('la', 'la nueua adicion.\"'),\n",
       " ('', ''),\n",
       " ('', ''),\n",
       " ('', ''),\n",
       " ('SIGUESE', 'SIGUESE LA COMEDIA \"O TRAGICOMEDIA\"'),\n",
       " ('DE', 'DE CALISTO Y MELIBEA: COMPUESTA EN REPREHENSION DE LOS LOCOS'),\n",
       " ('ENAMORADOS',\n",
       "  'ENAMORADOS QUE VENCIDOS EN SU DESORDENADO APETITO A SUS AMIGAS'),\n",
       " ('LLAMAN', 'LLAMAN E DIZEN SER SU DIOS.  ASSI MISMO FECHA EN AUISO DE LOS'),\n",
       " ('ENGANOS', 'ENGANOS DE LAS ALCAHUETAS E MALOS Y LISONJEROS SIRUIENTES.'),\n",
       " ('', ''),\n",
       " ('ARGUMENTO.', 'ARGUMENTO.'),\n",
       " ('', ''),\n",
       " ('Calisto', 'Calisto fue de noble linaje: de claro ingenio: de gentil'),\n",
       " ('disposicion:',\n",
       "  'disposicion: de linda crianza: dotado de muchas gracias, de estado'),\n",
       " ('mediano:', 'mediano: fue preso en el amor de Melibea, muger moza, muy'),\n",
       " ('generosa,',\n",
       "  'generosa, de alta y serenissima sangre: sublimada en prospero'),\n",
       " ('estado,',\n",
       "  'estado, vna sola heredera a su padre Pleberio: y de su madre Alisa'),\n",
       " ('muy', 'muy amada: por solicitud del pungido Calisto vencido el casto'),\n",
       " ('proposito',\n",
       "  'proposito della: entreueniendo Celestina mala y astuta muger con'),\n",
       " ('dos', 'dos seruientes del vencido Calisto enganados, e por esta tornados'),\n",
       " ('desleales:', 'desleales: presa su fidelidad con anzuelo de cobdicia y de'),\n",
       " ('deleyte,',\n",
       "  'deleyte, vinieron los amantes e los que les ministraron en amargo'),\n",
       " ('e', 'e desastrado fin.  Para comienzo de lo qual dispuso el aduersa'),\n",
       " ('fortuna',\n",
       "  'fortuna lugar oportuno donde a la presencia de Calisto se presento'),\n",
       " ('la', 'la deseada Melibea.'),\n",
       " ('', ''),\n",
       " ('', ''),\n",
       " ('ARGUMENTO', 'ARGUMENTO'),\n",
       " ('DEL', 'DEL PRIMER AUTO DESTA COMEDIA.'),\n",
       " ('', ''),\n",
       " ('Entrando', 'Entrando Calisto vna huerta empos de un falcon suyo hallo y a'),\n",
       " ('Melibea', 'Melibea de cuyo amor preso comenzole de hablar: de la qual'),\n",
       " ('rigorosamente',\n",
       "  'rigorosamente despedido: fue para su casa muy sangustiado.  hablo'),\n",
       " ('con', 'con vn criado suyo llamado Sempronio. el qual despues de muchas'),\n",
       " ('razones',\n",
       "  'razones le enderezo a vna vieja llamada Celestina: en cuya casa'),\n",
       " ('tenia', 'tenia el mesmo criado vna enamorada llamada Elicia: la qual'),\n",
       " ('viniendo',\n",
       "  'viniendo Sempronio a casa de Celestina con el negocio de su amo'),\n",
       " ('tenia', 'tenia a otro consigo llamado Crito: al qual escondieron. '),\n",
       " ('Entretanto',\n",
       "  'Entretanto que Sempronio esta negociando con Celestina: Calisto'),\n",
       " ('esta', 'esta razonando con otro criado suyo por nombre Parmeno: el qual'),\n",
       " ('razonamiento',\n",
       "  'razonamiento dura fasta que llega Sempronio e Celestina a casa de'),\n",
       " ('Calisto.',\n",
       "  'Calisto.  Parmeno fue conoscido de Celestina: la qual mucho le'),\n",
       " ('dize',\n",
       "  'dize de los fechos e conoscimiento de su madre induziendole a amor'),\n",
       " ('e', 'e concordia de Sempronio.'),\n",
       " ('', ''),\n",
       " ('CALISTO.', 'CALISTO.  MELIBEA.  SEMPRONIO.  CELESTINA. ELICIA.  CRITO. '),\n",
       " ('PARMENO.', 'PARMENO.'),\n",
       " ('', ''),\n",
       " ('', ''),\n",
       " ('CALISTO.--En', 'CALISTO.--En esto veo, Melibea, la grandeza de dios. '),\n",
       " ('MELIBEA.--en', 'MELIBEA.--en que, Calisto? '),\n",
       " ('CAL.--en', 'CAL.--en dar poder a natura que de tan perfeta hermosura te'),\n",
       " ('dotasse:',\n",
       "  'dotasse: e fazer a mi inmerito tanta merced que verte alcanzasse:'),\n",
       " ('e', 'e en tan conueniente lugar que mi secreto dolor manifestarte'),\n",
       " ('pudiesse.',\n",
       "  'pudiesse. sin dubda encomparablemente es mayor tal galardon que el'),\n",
       " ('seruicio:',\n",
       "  'seruicio: sacrificio: deuocion e obras pias que por este lugar'),\n",
       " ('alcanzar',\n",
       "  'alcanzar tengo yo a dios ofrescido.  Ni otro poder mi voluntad'),\n",
       " ('humana',\n",
       "  'humana puede conplir. quien vido en esta vida cuerpo glorificado'),\n",
       " ('de', 'de ningun hombre como agora el mio?  Por cierto los gloriosos'),\n",
       " ('sanctos',\n",
       "  'sanctos que se deleytan en la vision diuina no gozan mas que yo'),\n",
       " ('agora', 'agora en el acatamiento tuyo. Mas, o triste, que en esto'),\n",
       " ('deferimos:',\n",
       "  'deferimos: que ellos puramente se glorifican sin temor de caer de'),\n",
       " ('tal', 'tal bienauenturanza: e yo misto me alegro con recelo del esquiuo'),\n",
       " ('tormento', 'tormento que tu absencia me ha de causar. '),\n",
       " ('MELIB.--por', 'MELIB.--por grand premio tienes esto, Calisto? '),\n",
       " ('CAL.--tengolo',\n",
       "  'CAL.--tengolo por tanto en verdad, que si dios me diesse en el'),\n",
       " ('cielo', 'cielo la silla sobre sus sanctos, no lo ternia por tanta'),\n",
       " ('felicidad.', 'felicidad. '),\n",
       " ('MELIB.--pues',\n",
       "  'MELIB.--pues avn mas ygual galardon te dare yo, si perseueras. '),\n",
       " ('CAL.--o', 'CAL.--o bienauenturadas orejas mias, que indignamente tan gran'),\n",
       " ('palabra', 'palabra haueys oydo. '),\n",
       " ('MELIB.--mas',\n",
       "  'MELIB.--mas desauenturadas de que me acabes de oyr: porque la paga'),\n",
       " ('sera', 'sera tan fiera qual la merece tu loco atreuimiento; e el intento'),\n",
       " ('de', 'de tus palabras, Calisto, ha seydo: de ingenio de tal hombre como'),\n",
       " ('tu,', 'tu, hauer de salir para se perder en la virtud de tal muger como'),\n",
       " ('yo.', 'yo. Vete, vete de ay, torpe: que no puede mi paciencia tollerar'),\n",
       " ('que', 'que aya subido en corazon humano comigo el ylicito amor comunicar'),\n",
       " ('su', 'su deleyte. '),\n",
       " ('CAL.--yre',\n",
       "  'CAL.--yre como aquel contra quien solamente la aduersa fortuna'),\n",
       " ('pone', 'pone su estudio con odio cruel. Sempronio: Sempronio: Sempronio:'),\n",
       " ('donde', 'donde esta este maldito? '),\n",
       " ('SEMPRONIO.--aqui',\n",
       "  'SEMPRONIO.--aqui estoy, senor, curando destos cauallos. '),\n",
       " ('CAL.--pues', 'CAL.--pues como sales de la sala? '),\n",
       " ('SEMP.--abatiose',\n",
       "  'SEMP.--abatiose el girifalte, e vinele enderezar en el alcandara. '),\n",
       " ('CAL.--assi',\n",
       "  'CAL.--assi los diablos te ganen: assi por infortunio arrebatado'),\n",
       " ('perezcas',\n",
       "  'perezcas / o perpetuo intollerable tormento consigas: el qual en'),\n",
       " ('grado', 'grado incomparable a la penosa e desastrada muerte que espero'),\n",
       " ('traspassa.',\n",
       "  'traspassa.  Anda, anda, maluado, abre la camara e endereza la'),\n",
       " ('cama.', 'cama. '),\n",
       " ('SEMP.--senor,', 'SEMP.--senor, luego.  hecho es. '),\n",
       " ('CAL.--cierra',\n",
       "  'CAL.--cierra la ventana e dexa la tiniebla acompanar al triste, e'),\n",
       " ('al', 'al desdichado la ceguedad: mis pensamientos tristes no son dignos'),\n",
       " ('de', 'de luz.  O bienauenturada muerte aquella que deseada a los'),\n",
       " ('afligidos',\n",
       "  'afligidos viene.  O si viniessedes agora, Eras e Crato, medicos,'),\n",
       " ('sentiriades',\n",
       "  'sentiriades mi mal.  O piedad de silencio, inspira en el Pleberico'),\n",
       " ('corazon:', 'corazon: porque sin esperanza de salud no embie el espiritu'),\n",
       " ('perdido', 'perdido con el desastrado Piramo e de la desdichada Tisbe. '),\n",
       " ('SEMP.--que', 'SEMP.--que cosa es? '),\n",
       " ('CAL.--vete',\n",
       "  'CAL.--vete de ay, no me fables: sino quiza ante del tiempo de mi'),\n",
       " ('rabiosa', 'rabiosa muerte mis manos causaran tu arrebatado fin. '),\n",
       " ('SEMP.--yre,', 'SEMP.--yre, pues solo quieres padecer tu mal. '),\n",
       " ('CAL.--ve', 'CAL.--ve con el diablo. '),\n",
       " ('SEMP.--no',\n",
       "  'SEMP.--no creo, segun pienso, yr comigo el que contigo queda.  O'),\n",
       " ('desauentura.',\n",
       "  'desauentura.  O subito mal: qual fue tan contrario acontescimiento'),\n",
       " ('que', 'que assi tan presto robo el alegria deste hombre: e lo que peor'),\n",
       " ('es,', 'es, junto con ella el seso?  dexarle he solo?  o entrare alla?  Si'),\n",
       " ('le', 'le dexo, matarse ha.  si entro alla, matarme ha.  Quedese, no me'),\n",
       " ('curo:',\n",
       "  'curo: mas vale que muera aquel a quien es enojosa la vida: que no'),\n",
       " ('yo,', 'yo, que huelgo con ella.  Avnque por al no deseasse viuir: sino'),\n",
       " ('por', 'por ver a mi Elicia me deuria guardar de peligros.  pero si se'),\n",
       " ('mata',\n",
       "  'mata sin otro testigo: yo quedo obligado a dar cuenta de su vida. '),\n",
       " ('Quiero', 'Quiero entrar.  Mas puesto que entre, no quiere consolacion ni'),\n",
       " ('consejo.', 'consejo.  asaz es senal mortal no querer sanar.  Con todo,'),\n",
       " ('quierole',\n",
       "  'quierole dexar vn poco: desbraue. madure.  que oydo he dezir que'),\n",
       " ('es', 'es peligro abrir o apremiar las postemas duras: porque mas se'),\n",
       " ('enconan.',\n",
       "  'enconan.  este vn poco.  dexemos llorar al que dolor tiene: que'),\n",
       " ('las', 'las lagrimas e sospiros mucho desenconan el corazon dolorido.  E'),\n",
       " ('avn', 'avn si delante me tiene, mas comigo se encendera.  que el sol mas'),\n",
       " ('arde', 'arde donde puede reuerberar. la vista a quien objecto no se'),\n",
       " ('antepone,', 'antepone, cansa: e quando aquel es cerca, aguzase: por esso'),\n",
       " ('quierome',\n",
       "  'quierome sofrir vn poco: si entretanto se matare: muera.  quiza'),\n",
       " ('con', 'con algo me quedare que otro no lo sabe: con que mude el pelo'),\n",
       " ('malo.', 'malo.  Avnque malo es esperar salud en muerte agena.  Y quiza me'),\n",
       " ('engana',\n",
       "  'engana el diablo: e si muere matarme han: e yran alla la soga e el'),\n",
       " ('calderon.',\n",
       "  'calderon.  Por otra parte dizen los sabios que es grande descanso'),\n",
       " ('a', 'a los afligidos tener con quien puedan sus cuytas llorar.  Y que'),\n",
       " ('la', 'la llaga interior mas empece.  Pues en estos estremos en que estoy'),\n",
       " ('perplexo:',\n",
       "  'perplexo: lo mas sano es entrar e sofrirle e consolarle: porque si'),\n",
       " ('possible',\n",
       "  'possible es sanar sin arte ni aparejo: mas ligero es guarescer por'),\n",
       " ('arte:', 'arte: e por cura. '),\n",
       " ('CAL.--Sempronio.', 'CAL.--Sempronio. '),\n",
       " ('SEMP.--senor.', 'SEMP.--senor. '),\n",
       " ('CAL.--dame', 'CAL.--dame aca el laud. '),\n",
       " ('SEMP.--senor,', 'SEMP.--senor, vesle aqui. '),\n",
       " ('CAL.--qual', 'CAL.--qual dolor puede ser tal:'),\n",
       " ('que', 'que se yguale con mi mal? '),\n",
       " ('SEMP.--destemplado', 'SEMP.--destemplado esta esse laud. '),\n",
       " ('CAL.--como',\n",
       "  'CAL.--como templara el destemplado?  como sentira el armonia aquel'),\n",
       " ('que', 'que consigo esta tan discorde?  aquel a quien la voluntad a la'),\n",
       " ('razon', 'razon no obedece?  quien tiene dentro del pecho aguijones, paz:'),\n",
       " ('guerra:', 'guerra: tregua: amor: enemistad: injurias, pecados: sospechas,'),\n",
       " ('todo', 'todo a vna causa?  Pero tane e canta la mas triste cancion que'),\n",
       " ('sepas.', 'sepas. '),\n",
       " ('SEMP.--mira', 'SEMP.--mira Nero de Tarpeya'),\n",
       " ('a', 'a Roma como se ardia:'),\n",
       " ('gritos', 'gritos dan ninos e viejos:'),\n",
       " ('e', 'e el de nada se dolia. '),\n",
       " ('CAL.--mayor',\n",
       "  'CAL.--mayor es mi fuego: e menor la piedad de quien yo agora digo.'),\n",
       " ('SEMP.--no', 'SEMP.--no me engano yo, que loco esta este mi amo. '),\n",
       " ('CAL.--que', 'CAL.--que estas murmurando, Sempronio? '),\n",
       " ('SEMP.--no', 'SEMP.--no digo nada. '),\n",
       " ('CAL.--di', 'CAL.--di lo que dizes, no temas. '),\n",
       " ('SEMP.--digo',\n",
       "  'SEMP.--digo que como puede ser mayor el fuego que atormenta vn'),\n",
       " ('viuo,', 'viuo, que el que quemo tal cibdad e tanta multitud de gente? '),\n",
       " ('CAL.--como?',\n",
       "  'CAL.--como?  yo te lo dire: mayor es la llama que dura ochenta'),\n",
       " ('anos',\n",
       "  'anos que la que en vn dia passa: e mayor la que mata vna anima que'),\n",
       " ('la', 'la que quema cient mill cuerpos.  Como de la aparencia a la'),\n",
       " ('existencia:',\n",
       "  'existencia: como de lo viuo a lo pintado: como de la sombra a lo'),\n",
       " ('real:', 'real: tanta diferencia ay del fuego que dizes al que me quema. '),\n",
       " ('Por', 'Por cierto si el del purgatorio es tal: mas querria que mi spiritu'),\n",
       " ('fuesse',\n",
       "  'fuesse con los de los brutos animales: que por medio de aquel yr a'),\n",
       " ('la', 'la gloria de los sanctos. '),\n",
       " ('SEMP.--algo',\n",
       "  'SEMP.--algo es lo que digo.  a mas ha de yr este hecho: no basta'),\n",
       " ('loco,', 'loco, sino ereje. '),\n",
       " ('CAL.--no',\n",
       "  'CAL.--no te digo que fables alto quando fablares?  Que dizes? '),\n",
       " ('SEMP.--digo',\n",
       "  'SEMP.--digo que nunca dios quiera tal: que es especie de heregia'),\n",
       " ('lo', 'lo que agora dixiste. '),\n",
       " ('CAL.--porque?', 'CAL.--porque? '),\n",
       " ('SEMP.--porque',\n",
       "  'SEMP.--porque lo que dizes contradize la cristiana religion. '),\n",
       " ('CAL.--que', 'CAL.--que a mi? '),\n",
       " ('SEMP.--tu', 'SEMP.--tu no eres cristiano? '),\n",
       " ('CAL.--yo?',\n",
       "  'CAL.--yo?  Melibeo soy.  e a Melibea adoro e en Melibea creo: e a'),\n",
       " ('Melibea', 'Melibea amo. '),\n",
       " ('SEMP.--tu',\n",
       "  'SEMP.--tu te lo diras.  como Melibea es grande: no cabe en el'),\n",
       " ('corazon',\n",
       "  'corazon de mi amo: que por la boca le sale a borbollones.  No es'),\n",
       " ('mas', 'mas menester: bien se de que pie coxqueas: yo te sanare. '),\n",
       " ('CAL.--increyble', 'CAL.--increyble cosa prometes. '),\n",
       " ('SEMP.--antes',\n",
       "  'SEMP.--antes facil.  Que el comienzo de la salud es conoscer'),\n",
       " ('hombre', 'hombre la dolencia del enfermo. '),\n",
       " ('CAL.--qual',\n",
       "  'CAL.--qual consejo puede regir lo que en si no tiene orden ni'),\n",
       " ('consejo?', 'consejo? '),\n",
       " ('SEMP.--ha',\n",
       "  'SEMP.--ha ha ha.  esto es el fuego de Calisto?  Estas son sus'),\n",
       " ('congoxas?',\n",
       "  'congoxas? Como si solamente el amor contra el asestara sus tiros. '),\n",
       " ('O', 'O soberano dios, quan altos son tus misterios.  Quanta premia'),\n",
       " ('pusiste',\n",
       "  'pusiste en el amor: que es necessaria turbacion en el amante.  Su'),\n",
       " ('limite',\n",
       "  'limite posiste por marauilla: paresce al amante que atras queda. '),\n",
       " ('todos',\n",
       "  'todos passan, todos rompen: pungidos e esgarrochados como ligeros'),\n",
       " ('toros:',\n",
       "  'toros: sin freno saltan por las barreras.  Mandaste al hombre por'),\n",
       " ('la', 'la muger dexar el padre e la madre: agora no solo aquello, mas a'),\n",
       " ('ti', 'ti e a tu ley desamparan, como agora Calisto, del qual no me'),\n",
       " ('marauillo:',\n",
       "  'marauillo: pues los sabios, los santos, los profetas por el te'),\n",
       " ('oluidaron.', 'oluidaron. '),\n",
       " ('CAL.--Sempronio.', 'CAL.--Sempronio. '),\n",
       " ('SEMP.--senor.', 'SEMP.--senor. '),\n",
       " ('CAL.--no', 'CAL.--no me dexes. '),\n",
       " ('SEMP.--de', 'SEMP.--de otro temple esta esta gayta. '),\n",
       " ('CAL.--que', 'CAL.--que te paresce de mi mal? '),\n",
       " ('SEMP.--que', 'SEMP.--que amas a Melibea. '),\n",
       " ('CAL.--e', 'CAL.--e no otra cosa? '),\n",
       " ('SEMP.--harto',\n",
       "  'SEMP.--harto mal es tener la voluntad en vn solo lugar catiua. '),\n",
       " ('CAL.--poco', 'CAL.--poco sabes de firmeza. '),\n",
       " ('SEMP.--la',\n",
       "  'SEMP.--la perseuerancia en el mal no es constancia mas dureza / o'),\n",
       " ('pertinacia',\n",
       "  'pertinacia la llaman en mi tierra.  Vosotros los filosofos de'),\n",
       " ('Cupido', 'Cupido llamalda como quisierdes. '),\n",
       " ('CAL.--torpe',\n",
       "  'CAL.--torpe cosa es mentir \"el\" que ensena a otro; pues que tu te'),\n",
       " ('precias', 'precias de loar a tu amiga Elicia. '),\n",
       " ('SEMP.--haz', 'SEMP.--haz tu lo que bien digo: y no lo que mal hago. '),\n",
       " ('CAL.--que', 'CAL.--que me reprobas? '),\n",
       " ...]"
      ]
     },
     "execution_count": 17,
     "metadata": {},
     "output_type": "execute_result"
    }
   ],
   "source": [
    "pair_rdd_celestina.collect()"
   ]
  },
  {
   "cell_type": "code",
   "execution_count": 19,
   "id": "5a3feb70-98a8-49d1-bf79-8dff64b1aa79",
   "metadata": {},
   "outputs": [
    {
     "data": {
      "text/plain": [
       "[('remedio',\n",
       "  'remedio otro darias sin temor: pues te pido le muestres, quedando'),\n",
       " ('', ''),\n",
       " ('_Socrates_', '_Socrates_ **** Filosofo y maestro ateniense (470 - 399'),\n",
       " ('', ''),\n",
       " ('AREU.--no',\n",
       "  'AREU.--no es sino mi mala dicha.  maldicion mala que mis padres me'),\n",
       " ('', ''),\n",
       " ('', ''),\n",
       " ('CAL.--de', 'CAL.--de que gana va el diablo!  no ay cierto tan mal seruido'),\n",
       " ('_octauo_', '_octauo_ **** octavo'),\n",
       " ('_sabido_', '_sabido_ **** que sabe mucho'),\n",
       " ('debaxo', 'debaxo de cuyas culpas: la razonable mia podra passar sin'),\n",
       " ('', ''),\n",
       " ('DETEMA', 'DETEMA I, 89).'),\n",
       " ('_hazer_', '_hazer_ **** hacer; suponer;'),\n",
       " ('vista',\n",
       "  'vista tu discrecion, me recelaua.  mirando tu virtud e humanidad,')]"
      ]
     },
     "execution_count": 19,
     "metadata": {},
     "output_type": "execute_result"
    }
   ],
   "source": [
    "pair_rdd_celestina.takeSample(False,15)"
   ]
  },
  {
   "cell_type": "markdown",
   "id": "2a8b403d-2a60-4725-bd97-e5a4dcc60017",
   "metadata": {},
   "source": [
    "### keyby()"
   ]
  },
  {
   "cell_type": "code",
   "execution_count": 26,
   "id": "3c593f8a-d7c4-4c1c-9d17-a0b34360e742",
   "metadata": {},
   "outputs": [],
   "source": [
    "rdd = sc.parallelize(range(5))"
   ]
  },
  {
   "cell_type": "code",
   "execution_count": 27,
   "id": "8982c483-efd1-4829-8d48-d9ea86f7c5de",
   "metadata": {},
   "outputs": [
    {
     "data": {
      "text/plain": [
       "[0, 1, 2, 3, 4]"
      ]
     },
     "execution_count": 27,
     "metadata": {},
     "output_type": "execute_result"
    }
   ],
   "source": [
    "rdd.collect()"
   ]
  },
  {
   "cell_type": "code",
   "execution_count": 28,
   "id": "07332dec-02e6-4a84-8f8e-7839b04abdd2",
   "metadata": {},
   "outputs": [],
   "source": [
    "pair_rdd =rdd.keyBy(lambda x: x+1)"
   ]
  },
  {
   "cell_type": "code",
   "execution_count": 29,
   "id": "ab9892ec-a5a4-4de8-b668-38be30e9bc02",
   "metadata": {},
   "outputs": [
    {
     "data": {
      "text/plain": [
       "[(1, 0), (2, 1), (3, 2), (4, 3), (5, 4)]"
      ]
     },
     "execution_count": 29,
     "metadata": {},
     "output_type": "execute_result"
    }
   ],
   "source": [
    "pair_rdd.collect()"
   ]
  },
  {
   "cell_type": "markdown",
   "id": "c766acc8-6cfc-4894-ac33-7d391c259367",
   "metadata": {},
   "source": [
    "### zipWithIndex"
   ]
  },
  {
   "cell_type": "code",
   "execution_count": 30,
   "id": "46aabd54-ceb7-4aab-84ee-4a3130c4de9a",
   "metadata": {},
   "outputs": [],
   "source": [
    "rdd = sc.parallelize(['a','b','c','d','e'])"
   ]
  },
  {
   "cell_type": "code",
   "execution_count": 31,
   "id": "4cd6c9b7-5615-4095-bf18-812a938e3a89",
   "metadata": {},
   "outputs": [],
   "source": [
    "pair_rdd =rdd.zipWithIndex()"
   ]
  },
  {
   "cell_type": "code",
   "execution_count": 32,
   "id": "4120fe38-7937-4aea-acee-994029bab950",
   "metadata": {},
   "outputs": [
    {
     "data": {
      "text/plain": [
       "[('a', 0), ('b', 1), ('c', 2), ('d', 3), ('e', 4)]"
      ]
     },
     "execution_count": 32,
     "metadata": {},
     "output_type": "execute_result"
    }
   ],
   "source": [
    "pair_rdd.collect()"
   ]
  },
  {
   "cell_type": "markdown",
   "id": "7658d96b-9fba-4056-ad28-c58eee585b80",
   "metadata": {},
   "source": [
    "## zipWithUniqueId"
   ]
  },
  {
   "cell_type": "code",
   "execution_count": 15,
   "id": "ee89f683-420f-4f43-9e31-a0a9e00908be",
   "metadata": {},
   "outputs": [],
   "source": [
    "rdd = sc.parallelize(['a','b','c','d','e'],3)"
   ]
  },
  {
   "cell_type": "code",
   "execution_count": 16,
   "id": "acb1c074-cfb7-4516-9234-36c81e17aef6",
   "metadata": {},
   "outputs": [
    {
     "data": {
      "text/plain": [
       "[('a', 0), ('b', 1), ('c', 4), ('d', 2), ('e', 5)]"
      ]
     },
     "execution_count": 16,
     "metadata": {},
     "output_type": "execute_result"
    }
   ],
   "source": [
    "rdd.zipWithUniqueId().collect()"
   ]
  },
  {
   "cell_type": "code",
   "execution_count": 17,
   "id": "d46da55a-d07f-4c85-9f21-7850892550fe",
   "metadata": {},
   "outputs": [
    {
     "data": {
      "text/plain": [
       "[[('a', 0)], [('b', 1), ('c', 4)], [('d', 2), ('e', 5)]]"
      ]
     },
     "execution_count": 17,
     "metadata": {},
     "output_type": "execute_result"
    }
   ],
   "source": [
    "rdd.zipWithUniqueId().glom().collect()"
   ]
  },
  {
   "cell_type": "markdown",
   "id": "c799ceb5-d3bf-4de7-bef6-ebc7d21196bb",
   "metadata": {},
   "source": [
    "# zip() con dos RDDs"
   ]
  },
  {
   "cell_type": "code",
   "execution_count": 2,
   "id": "8077e9f3-e28d-49d0-9287-9e7f2a91d7f7",
   "metadata": {},
   "outputs": [],
   "source": [
    "# INICIAMOS SIEMPRE \n",
    "from pyspark import SparkContext\n",
    "sc= SparkContext()"
   ]
  },
  {
   "cell_type": "code",
   "execution_count": 5,
   "id": "c2347979-2446-4cb3-b6c5-328d2c99c872",
   "metadata": {},
   "outputs": [],
   "source": [
    "rdd1 = sc.parallelize(range(5),3)"
   ]
  },
  {
   "cell_type": "code",
   "execution_count": 9,
   "id": "126ccf2d-15d7-45bc-a8fe-fb6e9e02464e",
   "metadata": {},
   "outputs": [],
   "source": [
    "rdd2 =sc.parallelize(range(100,105,1),3)"
   ]
  },
  {
   "cell_type": "code",
   "execution_count": 6,
   "id": "c8b102da-8440-4efb-b1d0-0707c58a91d6",
   "metadata": {},
   "outputs": [
    {
     "data": {
      "text/plain": [
       "[0, 1, 2, 3, 4]"
      ]
     },
     "execution_count": 6,
     "metadata": {},
     "output_type": "execute_result"
    }
   ],
   "source": [
    "rdd1.collect()"
   ]
  },
  {
   "cell_type": "code",
   "execution_count": 8,
   "id": "73892340-731d-4bb7-a764-4c91a99b24d0",
   "metadata": {},
   "outputs": [
    {
     "data": {
      "text/plain": [
       "[[0], [1, 2], [3, 4]]"
      ]
     },
     "execution_count": 8,
     "metadata": {},
     "output_type": "execute_result"
    }
   ],
   "source": [
    "rdd1.glom().collect()"
   ]
  },
  {
   "cell_type": "code",
   "execution_count": 11,
   "id": "d51bc5d0-4573-4d80-8e71-a282e1c0d92c",
   "metadata": {},
   "outputs": [
    {
     "data": {
      "text/plain": [
       "[[100], [101, 102], [103, 104]]"
      ]
     },
     "execution_count": 11,
     "metadata": {},
     "output_type": "execute_result"
    }
   ],
   "source": [
    "rdd2.glom().collect()"
   ]
  },
  {
   "cell_type": "code",
   "execution_count": 12,
   "id": "fb0b0341-0707-41f9-a830-b09c4ab09a2e",
   "metadata": {},
   "outputs": [],
   "source": [
    "pair_rdd =rdd1.zip(rdd2)"
   ]
  },
  {
   "cell_type": "code",
   "execution_count": 13,
   "id": "9adfb016-584b-4955-a1a8-672e332d18b7",
   "metadata": {},
   "outputs": [
    {
     "data": {
      "text/plain": [
       "[[(0, 100)], [(1, 101), (2, 102)], [(3, 103), (4, 104)]]"
      ]
     },
     "execution_count": 13,
     "metadata": {},
     "output_type": "execute_result"
    }
   ],
   "source": [
    "pair_rdd.glom().collect()"
   ]
  },
  {
   "cell_type": "markdown",
   "id": "48f1f50d-24b0-4ef4-8139-322e4680b061",
   "metadata": {},
   "source": [
    "# PERSISTENCIA"
   ]
  },
  {
   "cell_type": "markdown",
   "id": "98f513ba-e3ca-4ad6-8c8f-6dd889e483ff",
   "metadata": {},
   "source": [
    "La persistencia es una tecnica que se guarda el RDD en memoria en un disco, estoy ayuda en procesos iterativos para reducir el tiempo en computacion, no queremos tener que calcular todo si queremos utilizar el rdd varias veces.\n",
    "Hay 2 metodos:\n",
    "-  cache(): Guarda directamente en memoria con la opcion memoryonly(x defecto solo en memoria \n",
    "-  persist(): Similar a cache, pero te da mas opcion de guardar en disco y en diferentes formas.\n",
    "\n",
    "Hay niveles de almacenamiento:\n",
    "- MEMORY_ONLY: Default. Si el RDD no cabe en la memoria algunas particiones no se almacenaran en cache y se volveran a calcular cada vez que se necesiten. Este es el nivel por defecto.\n",
    "- MEMORY_AND_DISK: Si el RDD no cabe en la memoria almacena las particiaones que no caben en el disco y las lee desde alli cuando las necesita.\n",
    "- DISK_ONLY: Almacena las particiones RDD solo en el disco.\n",
    "- MEMORY_ONLY_2, MEMORY_AND_DISK_2:"
   ]
  },
  {
   "cell_type": "code",
   "execution_count": 19,
   "id": "250a60c0-58e4-48b2-9d9d-c470b5818b54",
   "metadata": {},
   "outputs": [],
   "source": [
    "#from pyspark import SparkContext\n",
    "#sc=SparkContext()"
   ]
  },
  {
   "cell_type": "code",
   "execution_count": 20,
   "id": "58960543-5d5e-4d85-a0f0-59d4552151ad",
   "metadata": {},
   "outputs": [],
   "source": [
    "rdd = sc.parallelize(range(100),10)"
   ]
  },
  {
   "cell_type": "code",
   "execution_count": 21,
   "id": "f42961fa-0193-4297-90eb-5b8008baec36",
   "metadata": {},
   "outputs": [
    {
     "data": {
      "text/plain": [
       "False"
      ]
     },
     "execution_count": 21,
     "metadata": {},
     "output_type": "execute_result"
    }
   ],
   "source": [
    "rdd.is_cached"
   ]
  },
  {
   "cell_type": "code",
   "execution_count": 22,
   "id": "9bdb6216-15e8-4aad-91de-6257227be446",
   "metadata": {},
   "outputs": [
    {
     "data": {
      "text/plain": [
       "PythonRDD[15] at RDD at PythonRDD.scala:53"
      ]
     },
     "execution_count": 22,
     "metadata": {},
     "output_type": "execute_result"
    }
   ],
   "source": [
    "   rdd.cache()"
   ]
  },
  {
   "cell_type": "code",
   "execution_count": 24,
   "id": "6b87ef37-9e80-42bf-a7f9-253ef34d1ad5",
   "metadata": {},
   "outputs": [
    {
     "data": {
      "text/plain": [
       "True"
      ]
     },
     "execution_count": 24,
     "metadata": {},
     "output_type": "execute_result"
    }
   ],
   "source": [
    "rdd.is_cached"
   ]
  },
  {
   "cell_type": "code",
   "execution_count": 25,
   "id": "106b9a20-e6dc-448f-9dfc-c3772e7b7536",
   "metadata": {},
   "outputs": [
    {
     "data": {
      "text/plain": [
       "StorageLevel(False, True, False, False, 1)"
      ]
     },
     "execution_count": 25,
     "metadata": {},
     "output_type": "execute_result"
    }
   ],
   "source": [
    "rdd.getStorageLevel()"
   ]
  },
  {
   "cell_type": "code",
   "execution_count": 26,
   "id": "339cd5fa-5bfd-456c-8e0a-c5b05e7aedaa",
   "metadata": {},
   "outputs": [
    {
     "name": "stdout",
     "output_type": "stream",
     "text": [
      "Memory Serialized 1x Replicated\n"
     ]
    }
   ],
   "source": [
    "print(rdd.getStorageLevel())"
   ]
  },
  {
   "cell_type": "code",
   "execution_count": 44,
   "id": "0dbaac7c-6a20-413d-9235-9fb6b826b400",
   "metadata": {},
   "outputs": [],
   "source": [
    "rdd2 = rdd.map(lambda x: x*2)"
   ]
  },
  {
   "cell_type": "code",
   "execution_count": 33,
   "id": "62ea7907-44a8-41a9-903e-f1d09d94124d",
   "metadata": {},
   "outputs": [],
   "source": [
    "#rdd2.collect()"
   ]
  },
  {
   "cell_type": "code",
   "execution_count": 45,
   "id": "c489114b-9e0c-4479-969e-99bf6806f019",
   "metadata": {},
   "outputs": [],
   "source": [
    "from pyspark import StorageLevel"
   ]
  },
  {
   "cell_type": "code",
   "execution_count": 50,
   "id": "bbb99677-1d7d-4991-bc16-8a1b97c93a98",
   "metadata": {},
   "outputs": [
    {
     "data": {
      "text/plain": [
       "PythonRDD[17] at RDD at PythonRDD.scala:53"
      ]
     },
     "execution_count": 50,
     "metadata": {},
     "output_type": "execute_result"
    }
   ],
   "source": [
    "rdd2.persist(StorageLevel.MEMORY_AND_DISK_2)"
   ]
  },
  {
   "cell_type": "code",
   "execution_count": 51,
   "id": "16d899cc-ed02-4ea5-aa07-38bc0691c9d6",
   "metadata": {},
   "outputs": [
    {
     "data": {
      "text/plain": [
       "StorageLevel(True, True, False, False, 2)"
      ]
     },
     "execution_count": 51,
     "metadata": {},
     "output_type": "execute_result"
    }
   ],
   "source": [
    "rdd2.getStorageLevel()"
   ]
  },
  {
   "cell_type": "markdown",
   "id": "06230827-1b33-478d-958b-4924b577c7d0",
   "metadata": {},
   "source": [
    "https://spark.apache.org/docs/2.1.2/api/python/_modules/pyspark/storagelevel.html"
   ]
  },
  {
   "cell_type": "code",
   "execution_count": 52,
   "id": "2932cb74-2273-4ae0-98cb-fe94a6085bce",
   "metadata": {},
   "outputs": [
    {
     "name": "stdout",
     "output_type": "stream",
     "text": [
      "Disk Memory Serialized 2x Replicated\n"
     ]
    }
   ],
   "source": [
    "print(rdd2.getStorageLevel())"
   ]
  },
  {
   "cell_type": "markdown",
   "id": "9aa5788b-d854-4638-bc55-2fcae422a848",
   "metadata": {},
   "source": [
    "# LA PERSISTENCIA NO SE HEREDA"
   ]
  },
  {
   "cell_type": "code",
   "execution_count": 53,
   "id": "c6bb7895-90e6-4e61-b62f-b4cd3f1bd20e",
   "metadata": {},
   "outputs": [],
   "source": [
    "rdd3 = rdd2.map(lambda x: x*2)"
   ]
  },
  {
   "cell_type": "code",
   "execution_count": 54,
   "id": "4595d7e2-2cb2-4c27-855c-0fc99a34bf31",
   "metadata": {},
   "outputs": [
    {
     "data": {
      "text/plain": [
       "True"
      ]
     },
     "execution_count": 54,
     "metadata": {},
     "output_type": "execute_result"
    }
   ],
   "source": [
    "rdd2.is_cached"
   ]
  },
  {
   "cell_type": "code",
   "execution_count": 55,
   "id": "f20170c2-605f-4e42-8265-55aaf8ebc9ce",
   "metadata": {},
   "outputs": [
    {
     "data": {
      "text/plain": [
       "False"
      ]
     },
     "execution_count": 55,
     "metadata": {},
     "output_type": "execute_result"
    }
   ],
   "source": [
    "rdd3.is_cached"
   ]
  },
  {
   "cell_type": "markdown",
   "id": "ebd99b01-fe4d-4315-865e-6ad3883ec8fc",
   "metadata": {},
   "source": [
    "# unpersist()\n",
    "Quitar del cache se usa unpersist, no es extrictamente necesario porque spark te  va quitando del cache de las particiones menos utilizadas."
   ]
  },
  {
   "cell_type": "code",
   "execution_count": 56,
   "id": "eb4ccbc5-0e60-46db-acf0-5a5026cbf733",
   "metadata": {},
   "outputs": [
    {
     "data": {
      "text/plain": [
       "PythonRDD[17] at RDD at PythonRDD.scala:53"
      ]
     },
     "execution_count": 56,
     "metadata": {},
     "output_type": "execute_result"
    }
   ],
   "source": [
    "rdd2.unpersist()"
   ]
  },
  {
   "cell_type": "code",
   "execution_count": 57,
   "id": "5fd7813c-7ea5-44bf-9050-b828fa74308e",
   "metadata": {},
   "outputs": [
    {
     "data": {
      "text/plain": [
       "False"
      ]
     },
     "execution_count": 57,
     "metadata": {},
     "output_type": "execute_result"
    }
   ],
   "source": [
    "rdd2.is_cached"
   ]
  },
  {
   "cell_type": "markdown",
   "id": "cc6a0ba2-1218-4325-8eb6-0a8a8a855f21",
   "metadata": {},
   "source": [
    "# PARTICIONADO"
   ]
  },
  {
   "cell_type": "markdown",
   "id": "15bcaf51-e1d2-47b9-814f-6d061cc90070",
   "metadata": {},
   "source": [
    "Ya hemos visto como crear un rdd nuevo con diferentes particiones, como norma general sparkasigna el numero de particiones automaticamente dependiendo del cluster o del bloque hdfs, por defecto es de 128 MB, las particiones entonces suele ser de este tamaño pero se puede ajustar manualmennte."
   ]
  },
  {
   "cell_type": "code",
   "execution_count": 60,
   "id": "f637f6e9-f0c8-4a90-a170-baecbf70e72c",
   "metadata": {},
   "outputs": [],
   "source": [
    "rdd =sc.parallelize([1,1,2,2,3,3,4,4],4)"
   ]
  },
  {
   "cell_type": "markdown",
   "id": "c7f1a52e-be7b-4d32-bdaa-88035d721408",
   "metadata": {},
   "source": [
    "# getNumPartitions()"
   ]
  },
  {
   "cell_type": "code",
   "execution_count": 61,
   "id": "a94c68cd-c9e5-4e2a-9981-3724906bc875",
   "metadata": {},
   "outputs": [
    {
     "data": {
      "text/plain": [
       "4"
      ]
     },
     "execution_count": 61,
     "metadata": {},
     "output_type": "execute_result"
    }
   ],
   "source": [
    "rdd.getNumPartitions()"
   ]
  },
  {
   "cell_type": "markdown",
   "id": "a95f69b5-d511-474a-97be-04293502baaf",
   "metadata": {},
   "source": [
    "# glom"
   ]
  },
  {
   "cell_type": "code",
   "execution_count": 63,
   "id": "9aa8f881-b00f-4a64-8d67-ad01b37b9737",
   "metadata": {},
   "outputs": [
    {
     "data": {
      "text/plain": [
       "[[1, 1], [2, 2], [3, 3], [4, 4]]"
      ]
     },
     "execution_count": 63,
     "metadata": {},
     "output_type": "execute_result"
    }
   ],
   "source": [
    "rdd.glom().collect()"
   ]
  },
  {
   "cell_type": "markdown",
   "id": "497f3a56-e47b-4c8e-a728-9d52bd06326f",
   "metadata": {},
   "source": [
    "# La persistencia no se hereda el particionado si."
   ]
  },
  {
   "cell_type": "code",
   "execution_count": 65,
   "id": "313db168-608c-472a-963e-b98befbaea30",
   "metadata": {},
   "outputs": [],
   "source": [
    "rdd2 = rdd.map(lambda x: x*2)"
   ]
  },
  {
   "cell_type": "code",
   "execution_count": 66,
   "id": "d76f7c5f-7d7f-40e4-860a-25e5823a4fc5",
   "metadata": {},
   "outputs": [
    {
     "data": {
      "text/plain": [
       "[[2, 2], [4, 4], [6, 6], [8, 8]]"
      ]
     },
     "execution_count": 66,
     "metadata": {},
     "output_type": "execute_result"
    }
   ],
   "source": [
    "rdd2.glom().collect()"
   ]
  },
  {
   "cell_type": "markdown",
   "id": "419d4e23-59a4-47f6-a39c-17145b1723af",
   "metadata": {},
   "source": [
    "Si el rdd tiene 4 particiones pues cualquier transformacion tambien tendra esas 4 particiones pero se puede cambiar. Por lo general se queda igual"
   ]
  },
  {
   "cell_type": "markdown",
   "id": "86b4393e-8705-4dc0-9be6-adfdc1de0af5",
   "metadata": {},
   "source": [
    "# reduceByKey()"
   ]
  },
  {
   "cell_type": "code",
   "execution_count": 67,
   "id": "6e982053-68c6-49ba-9846-97c75dc17e81",
   "metadata": {},
   "outputs": [],
   "source": [
    "pair_rdd = rdd.map(lambda x:(x,x))"
   ]
  },
  {
   "cell_type": "code",
   "execution_count": 68,
   "id": "52d186b0-7a4d-4174-9542-21c58b92a134",
   "metadata": {},
   "outputs": [
    {
     "data": {
      "text/plain": [
       "[[(1, 1), (1, 1)], [(2, 2), (2, 2)], [(3, 3), (3, 3)], [(4, 4), (4, 4)]]"
      ]
     },
     "execution_count": 68,
     "metadata": {},
     "output_type": "execute_result"
    }
   ],
   "source": [
    "pair_rdd.glom().collect()"
   ]
  },
  {
   "cell_type": "markdown",
   "id": "1a3001a9-786a-48e9-84ea-4fc59847ad45",
   "metadata": {},
   "source": [
    "Hemos convertido x en clave y valor."
   ]
  },
  {
   "cell_type": "code",
   "execution_count": 70,
   "id": "58105222-eb40-4c93-b104-64e4a2f50179",
   "metadata": {},
   "outputs": [
    {
     "data": {
      "text/plain": [
       "[[(4, 8)], [(1, 2)], [(2, 4)], [(3, 6)]]"
      ]
     },
     "execution_count": 70,
     "metadata": {},
     "output_type": "execute_result"
    }
   ],
   "source": [
    "pair_rdd.reduceByKey(lambda x,y:x+y).glom().collect()"
   ]
  },
  {
   "cell_type": "code",
   "execution_count": 71,
   "id": "9ac269ae-8caa-4bee-b1cc-7d0bfc28458b",
   "metadata": {},
   "outputs": [
    {
     "data": {
      "text/plain": [
       "[[(2, 4), (4, 8)], [(1, 2), (3, 6)]]"
      ]
     },
     "execution_count": 71,
     "metadata": {},
     "output_type": "execute_result"
    }
   ],
   "source": [
    "pair_rdd.reduceByKey(lambda x,y:x+y,2).glom().collect()"
   ]
  },
  {
   "cell_type": "markdown",
   "id": "1519af57-8175-4158-829e-3587916f1ac8",
   "metadata": {},
   "source": [
    "# FUNCIONES DE REPARTICION\n",
    "- reparticion(n) - devuelve un nuevo RDD que tiene n particiones.\n",
    "- coalesce(n) - solo permite reducir el numero de particiones.\n",
    "- partitionBy(n,[partitionFunc]) - utilizando una funcion de particion para RDDs de clave y valor."
   ]
  },
  {
   "cell_type": "code",
   "execution_count": 72,
   "id": "bb8fb568-18bd-4bcd-9301-58eba65fc6cf",
   "metadata": {},
   "outputs": [],
   "source": [
    "pair_rdd6 = pair_rdd.repartition(6)"
   ]
  },
  {
   "cell_type": "code",
   "execution_count": 81,
   "id": "a68856c9-b5e0-4caa-ac1a-a6dab6042810",
   "metadata": {},
   "outputs": [
    {
     "data": {
      "text/plain": [
       "6"
      ]
     },
     "execution_count": 81,
     "metadata": {},
     "output_type": "execute_result"
    }
   ],
   "source": [
    "pair_rdd6.getNumPartitions() # para ver el numero de particiones, el particionado si se herda"
   ]
  },
  {
   "cell_type": "code",
   "execution_count": 75,
   "id": "c3474d2d-0070-4943-a168-dcc498eaacd4",
   "metadata": {},
   "outputs": [
    {
     "data": {
      "text/plain": [
       "[[(4, 4), (4, 4)],\n",
       " [],\n",
       " [],\n",
       " [(1, 1), (1, 1)],\n",
       " [(2, 2), (2, 2)],\n",
       " [(3, 3), (3, 3)]]"
      ]
     },
     "execution_count": 75,
     "metadata": {},
     "output_type": "execute_result"
    }
   ],
   "source": [
    "pair_rdd6.glom().collect()"
   ]
  },
  {
   "cell_type": "code",
   "execution_count": 76,
   "id": "0248e2e7-3c9f-42a4-95b9-7ebfba2267df",
   "metadata": {},
   "outputs": [],
   "source": [
    "pair_rdd2=pair_rdd.coalesce(2)"
   ]
  },
  {
   "cell_type": "code",
   "execution_count": 77,
   "id": "05d9e17e-6291-4e8c-b456-d2d2cc0d58ec",
   "metadata": {},
   "outputs": [
    {
     "data": {
      "text/plain": [
       "[[(1, 1), (1, 1), (2, 2), (2, 2)], [(3, 3), (3, 3), (4, 4), (4, 4)]]"
      ]
     },
     "execution_count": 77,
     "metadata": {},
     "output_type": "execute_result"
    }
   ],
   "source": [
    "pair_rdd2.glom().collect()"
   ]
  },
  {
   "cell_type": "code",
   "execution_count": 78,
   "id": "00f5a8c4-24ec-4fc0-8f05-179ba217cd68",
   "metadata": {},
   "outputs": [],
   "source": [
    "pair_rdd3=  pair_rdd.partitionBy(3)"
   ]
  },
  {
   "cell_type": "code",
   "execution_count": 79,
   "id": "6c8ecb32-a17c-455d-93f2-dea25b8e0889",
   "metadata": {},
   "outputs": [
    {
     "data": {
      "text/plain": [
       "[[(3, 3), (3, 3)], [(1, 1), (1, 1), (4, 4), (4, 4)], [(2, 2), (2, 2)]]"
      ]
     },
     "execution_count": 79,
     "metadata": {},
     "output_type": "execute_result"
    }
   ],
   "source": [
    "pair_rdd3.glom().collect()"
   ]
  },
  {
   "cell_type": "markdown",
   "id": "f449fe22-9775-48fe-98d3-ab59d3da0eeb",
   "metadata": {},
   "source": [
    "# SPARK SQL DATAFrame"
   ]
  },
  {
   "cell_type": "markdown",
   "id": "fbcf4b77-4d93-4789-ad35-a5557f39f133",
   "metadata": {},
   "source": [
    "En vez de SparkContext vamos a utilizar SparkSession"
   ]
  },
  {
   "cell_type": "code",
   "execution_count": 82,
   "id": "43f99b64-2508-4511-9d94-880a0c8fb8e0",
   "metadata": {},
   "outputs": [],
   "source": [
    "from pyspark.sql import SparkSession"
   ]
  },
  {
   "cell_type": "code",
   "execution_count": 83,
   "id": "14e8e965-4f05-4360-88fd-4fed098903cc",
   "metadata": {},
   "outputs": [],
   "source": [
    "spark =  SparkSession.builder.appName('DataFrame').getOrCreate()"
   ]
  },
  {
   "cell_type": "code",
   "execution_count": 92,
   "id": "0853df61-6996-4cef-b2f9-87509a763335",
   "metadata": {},
   "outputs": [],
   "source": [
    "list_p = [{'John',19},{'Smith',29},{'Adam',35},{'Henry',50}]"
   ]
  },
  {
   "cell_type": "code",
   "execution_count": 89,
   "id": "befbb9d5-26b5-47f6-856e-1b018690a531",
   "metadata": {},
   "outputs": [
    {
     "name": "stdout",
     "output_type": "stream",
     "text": [
      "Collecting pandas\n",
      "  Downloading pandas-2.1.4-cp39-cp39-win_amd64.whl.metadata (18 kB)\n",
      "Collecting numpy<2,>=1.22.4 (from pandas)\n",
      "  Downloading numpy-1.26.2-cp39-cp39-win_amd64.whl.metadata (61 kB)\n",
      "     ---------------------------------------- 0.0/61.2 kB ? eta -:--:--\n",
      "     ------------------- ------------------ 30.7/61.2 kB 640.0 kB/s eta 0:00:01\n",
      "     -------------------------------------- 61.2/61.2 kB 809.0 kB/s eta 0:00:00\n",
      "Requirement already satisfied: python-dateutil>=2.8.2 in c:\\users\\soporte\\anaconda3\\envs\\spark_test\\lib\\site-packages (from pandas) (2.8.2)\n",
      "Requirement already satisfied: pytz>=2020.1 in c:\\users\\soporte\\anaconda3\\envs\\spark_test\\lib\\site-packages (from pandas) (2023.3.post1)\n",
      "Collecting tzdata>=2022.1 (from pandas)\n",
      "  Using cached tzdata-2023.3-py2.py3-none-any.whl (341 kB)\n",
      "Requirement already satisfied: six>=1.5 in c:\\users\\soporte\\anaconda3\\envs\\spark_test\\lib\\site-packages (from python-dateutil>=2.8.2->pandas) (1.16.0)\n",
      "Downloading pandas-2.1.4-cp39-cp39-win_amd64.whl (10.8 MB)\n",
      "   ---------------------------------------- 0.0/10.8 MB ? eta -:--:--\n",
      "   ---------------------------------------- 0.0/10.8 MB ? eta -:--:--\n",
      "   ---------------------------------------- 0.0/10.8 MB 325.1 kB/s eta 0:00:34\n",
      "   ---------------------------------------- 0.0/10.8 MB 325.1 kB/s eta 0:00:34\n",
      "   ---------------------------------------- 0.0/10.8 MB 196.9 kB/s eta 0:00:55\n",
      "   ---------------------------------------- 0.1/10.8 MB 302.7 kB/s eta 0:00:36\n",
      "   ---------------------------------------- 0.1/10.8 MB 450.6 kB/s eta 0:00:24\n",
      "    --------------------------------------- 0.1/10.8 MB 473.7 kB/s eta 0:00:23\n",
      "    --------------------------------------- 0.2/10.8 MB 565.6 kB/s eta 0:00:19\n",
      "    --------------------------------------- 0.2/10.8 MB 597.3 kB/s eta 0:00:18\n",
      "   - -------------------------------------- 0.3/10.8 MB 630.9 kB/s eta 0:00:17\n",
      "   - -------------------------------------- 0.3/10.8 MB 633.4 kB/s eta 0:00:17\n",
      "   - -------------------------------------- 0.4/10.8 MB 694.6 kB/s eta 0:00:16\n",
      "   - -------------------------------------- 0.4/10.8 MB 744.1 kB/s eta 0:00:14\n",
      "   - -------------------------------------- 0.4/10.8 MB 744.1 kB/s eta 0:00:14\n",
      "   - -------------------------------------- 0.5/10.8 MB 701.0 kB/s eta 0:00:15\n",
      "   - -------------------------------------- 0.5/10.8 MB 701.0 kB/s eta 0:00:15\n",
      "   - -------------------------------------- 0.5/10.8 MB 681.8 kB/s eta 0:00:16\n",
      "   -- ------------------------------------- 0.6/10.8 MB 680.1 kB/s eta 0:00:16\n",
      "   -- ------------------------------------- 0.6/10.8 MB 715.8 kB/s eta 0:00:15\n",
      "   -- ------------------------------------- 0.6/10.8 MB 700.8 kB/s eta 0:00:15\n",
      "   -- ------------------------------------- 0.7/10.8 MB 698.4 kB/s eta 0:00:15\n",
      "   -- ------------------------------------- 0.7/10.8 MB 696.5 kB/s eta 0:00:15\n",
      "   -- ------------------------------------- 0.7/10.8 MB 684.6 kB/s eta 0:00:15\n",
      "   -- ------------------------------------- 0.8/10.8 MB 703.2 kB/s eta 0:00:15\n",
      "   -- ------------------------------------- 0.8/10.8 MB 673.1 kB/s eta 0:00:15\n",
      "   -- ------------------------------------- 0.8/10.8 MB 673.1 kB/s eta 0:00:15\n",
      "   -- ------------------------------------- 0.8/10.8 MB 646.9 kB/s eta 0:00:16\n",
      "   --- ------------------------------------ 0.8/10.8 MB 639.5 kB/s eta 0:00:16\n",
      "   --- ------------------------------------ 0.8/10.8 MB 639.5 kB/s eta 0:00:16\n",
      "   --- ------------------------------------ 0.9/10.8 MB 624.9 kB/s eta 0:00:16\n",
      "   --- ------------------------------------ 0.9/10.8 MB 619.3 kB/s eta 0:00:16\n",
      "   --- ------------------------------------ 1.0/10.8 MB 648.3 kB/s eta 0:00:16\n",
      "   --- ------------------------------------ 1.0/10.8 MB 668.7 kB/s eta 0:00:15\n",
      "   ---- ----------------------------------- 1.1/10.8 MB 694.5 kB/s eta 0:00:14\n",
      "   ---- ----------------------------------- 1.1/10.8 MB 693.3 kB/s eta 0:00:14\n",
      "   ---- ----------------------------------- 1.2/10.8 MB 718.4 kB/s eta 0:00:14\n",
      "   ---- ----------------------------------- 1.2/10.8 MB 721.5 kB/s eta 0:00:14\n",
      "   ---- ----------------------------------- 1.3/10.8 MB 732.7 kB/s eta 0:00:13\n",
      "   ---- ----------------------------------- 1.3/10.8 MB 729.4 kB/s eta 0:00:13\n",
      "   ----- ---------------------------------- 1.4/10.8 MB 738.6 kB/s eta 0:00:13\n",
      "   ----- ---------------------------------- 1.4/10.8 MB 752.7 kB/s eta 0:00:13\n",
      "   ----- ---------------------------------- 1.5/10.8 MB 760.9 kB/s eta 0:00:13\n",
      "   ----- ---------------------------------- 1.5/10.8 MB 764.5 kB/s eta 0:00:13\n",
      "   ----- ---------------------------------- 1.6/10.8 MB 772.1 kB/s eta 0:00:12\n",
      "   ----- ---------------------------------- 1.6/10.8 MB 772.1 kB/s eta 0:00:12\n",
      "   ------ --------------------------------- 1.6/10.8 MB 777.5 kB/s eta 0:00:12\n",
      "   ------ --------------------------------- 1.6/10.8 MB 777.5 kB/s eta 0:00:12\n",
      "   ------ --------------------------------- 1.7/10.8 MB 767.0 kB/s eta 0:00:12\n",
      "   ------ --------------------------------- 1.8/10.8 MB 777.3 kB/s eta 0:00:12\n",
      "   ------ --------------------------------- 1.8/10.8 MB 774.8 kB/s eta 0:00:12\n",
      "   ------ --------------------------------- 1.9/10.8 MB 785.4 kB/s eta 0:00:12\n",
      "   ------- -------------------------------- 1.9/10.8 MB 788.0 kB/s eta 0:00:12\n",
      "   ------- -------------------------------- 2.0/10.8 MB 797.3 kB/s eta 0:00:12\n",
      "   ------- -------------------------------- 2.0/10.8 MB 802.8 kB/s eta 0:00:11\n",
      "   ------- -------------------------------- 2.0/10.8 MB 801.8 kB/s eta 0:00:11\n",
      "   ------- -------------------------------- 2.1/10.8 MB 805.3 kB/s eta 0:00:11\n",
      "   ------- -------------------------------- 2.1/10.8 MB 809.3 kB/s eta 0:00:11\n",
      "   ------- -------------------------------- 2.1/10.8 MB 801.9 kB/s eta 0:00:11\n",
      "   -------- ------------------------------- 2.2/10.8 MB 809.7 kB/s eta 0:00:11\n",
      "   -------- ------------------------------- 2.2/10.8 MB 804.3 kB/s eta 0:00:11\n",
      "   -------- ------------------------------- 2.3/10.8 MB 811.8 kB/s eta 0:00:11\n",
      "   -------- ------------------------------- 2.3/10.8 MB 812.1 kB/s eta 0:00:11\n",
      "   -------- ------------------------------- 2.4/10.8 MB 820.0 kB/s eta 0:00:11\n",
      "   --------- ------------------------------ 2.4/10.8 MB 817.4 kB/s eta 0:00:11\n",
      "   --------- ------------------------------ 2.5/10.8 MB 830.2 kB/s eta 0:00:11\n",
      "   --------- ------------------------------ 2.5/10.8 MB 820.0 kB/s eta 0:00:11\n",
      "   --------- ------------------------------ 2.5/10.8 MB 820.0 kB/s eta 0:00:11\n",
      "   --------- ------------------------------ 2.5/10.8 MB 801.4 kB/s eta 0:00:11\n",
      "   --------- ------------------------------ 2.6/10.8 MB 805.6 kB/s eta 0:00:11\n",
      "   --------- ------------------------------ 2.6/10.8 MB 807.2 kB/s eta 0:00:11\n",
      "   --------- ------------------------------ 2.7/10.8 MB 810.6 kB/s eta 0:00:11\n",
      "   ---------- ----------------------------- 2.7/10.8 MB 812.3 kB/s eta 0:00:10\n",
      "   ---------- ----------------------------- 2.8/10.8 MB 816.2 kB/s eta 0:00:10\n",
      "   ---------- ----------------------------- 2.8/10.8 MB 810.9 kB/s eta 0:00:10\n",
      "   ---------- ----------------------------- 2.8/10.8 MB 814.7 kB/s eta 0:00:10\n",
      "   ---------- ----------------------------- 2.9/10.8 MB 812.0 kB/s eta 0:00:10\n",
      "   ---------- ----------------------------- 2.9/10.8 MB 815.7 kB/s eta 0:00:10\n",
      "   ----------- ---------------------------- 3.0/10.8 MB 822.6 kB/s eta 0:00:10\n",
      "   ----------- ---------------------------- 3.0/10.8 MB 825.4 kB/s eta 0:00:10\n",
      "   ----------- ---------------------------- 3.1/10.8 MB 833.0 kB/s eta 0:00:10\n",
      "   ----------- ---------------------------- 3.1/10.8 MB 832.0 kB/s eta 0:00:10\n",
      "   ----------- ---------------------------- 3.2/10.8 MB 842.3 kB/s eta 0:00:10\n",
      "   ------------ --------------------------- 3.3/10.8 MB 841.0 kB/s eta 0:00:09\n",
      "   ------------ --------------------------- 3.3/10.8 MB 842.1 kB/s eta 0:00:09\n",
      "   ------------ --------------------------- 3.3/10.8 MB 842.5 kB/s eta 0:00:09\n",
      "   ------------ --------------------------- 3.4/10.8 MB 839.7 kB/s eta 0:00:09\n",
      "   ------------ --------------------------- 3.4/10.8 MB 847.6 kB/s eta 0:00:09\n",
      "   ------------ --------------------------- 3.5/10.8 MB 853.8 kB/s eta 0:00:09\n",
      "   ------------- -------------------------- 3.5/10.8 MB 854.0 kB/s eta 0:00:09\n",
      "   ------------- -------------------------- 3.6/10.8 MB 850.9 kB/s eta 0:00:09\n",
      "   ------------- -------------------------- 3.6/10.8 MB 856.0 kB/s eta 0:00:09\n",
      "   ------------- -------------------------- 3.7/10.8 MB 858.7 kB/s eta 0:00:09\n",
      "   ------------- -------------------------- 3.7/10.8 MB 863.6 kB/s eta 0:00:09\n",
      "   -------------- ------------------------- 3.8/10.8 MB 870.7 kB/s eta 0:00:09\n",
      "   -------------- ------------------------- 3.9/10.8 MB 875.3 kB/s eta 0:00:08\n",
      "   -------------- ------------------------- 3.9/10.8 MB 879.1 kB/s eta 0:00:08\n",
      "   -------------- ------------------------- 4.0/10.8 MB 882.9 kB/s eta 0:00:08\n",
      "   -------------- ------------------------- 4.0/10.8 MB 887.3 kB/s eta 0:00:08\n",
      "   --------------- ------------------------ 4.1/10.8 MB 884.9 kB/s eta 0:00:08\n",
      "   --------------- ------------------------ 4.1/10.8 MB 891.4 kB/s eta 0:00:08\n",
      "   --------------- ------------------------ 4.2/10.8 MB 892.7 kB/s eta 0:00:08\n",
      "   --------------- ------------------------ 4.2/10.8 MB 894.0 kB/s eta 0:00:08\n",
      "   --------------- ------------------------ 4.3/10.8 MB 893.6 kB/s eta 0:00:08\n",
      "   ---------------- ----------------------- 4.4/10.8 MB 896.3 kB/s eta 0:00:08\n",
      "   ---------------- ----------------------- 4.4/10.8 MB 902.4 kB/s eta 0:00:08\n",
      "   ---------------- ----------------------- 4.5/10.8 MB 904.1 kB/s eta 0:00:07\n",
      "   ---------------- ----------------------- 4.5/10.8 MB 903.8 kB/s eta 0:00:07\n",
      "   ----------------- ---------------------- 4.6/10.8 MB 909.8 kB/s eta 0:00:07\n",
      "   ----------------- ---------------------- 4.7/10.8 MB 909.8 kB/s eta 0:00:07\n",
      "   ----------------- ---------------------- 4.7/10.8 MB 912.3 kB/s eta 0:00:07\n",
      "   ----------------- ---------------------- 4.8/10.8 MB 913.2 kB/s eta 0:00:07\n",
      "   ----------------- ---------------------- 4.8/10.8 MB 921.3 kB/s eta 0:00:07\n",
      "   ------------------ --------------------- 4.9/10.8 MB 922.1 kB/s eta 0:00:07\n",
      "   ------------------ --------------------- 5.0/10.8 MB 929.3 kB/s eta 0:00:07\n",
      "   ------------------ --------------------- 5.0/10.8 MB 928.5 kB/s eta 0:00:07\n",
      "   ------------------ --------------------- 5.1/10.8 MB 931.1 kB/s eta 0:00:07\n",
      "   ------------------ --------------------- 5.1/10.8 MB 931.6 kB/s eta 0:00:07\n",
      "   ------------------- -------------------- 5.1/10.8 MB 932.8 kB/s eta 0:00:07\n",
      "   ------------------- -------------------- 5.2/10.8 MB 933.3 kB/s eta 0:00:06\n",
      "   ------------------- -------------------- 5.2/10.8 MB 929.1 kB/s eta 0:00:06\n",
      "   ------------------- -------------------- 5.3/10.8 MB 931.2 kB/s eta 0:00:06\n",
      "   ------------------- -------------------- 5.3/10.8 MB 927.1 kB/s eta 0:00:06\n",
      "   ------------------- -------------------- 5.3/10.8 MB 928.5 kB/s eta 0:00:06\n",
      "   -------------------- ------------------- 5.4/10.8 MB 929.1 kB/s eta 0:00:06\n",
      "   -------------------- ------------------- 5.5/10.8 MB 935.7 kB/s eta 0:00:06\n",
      "   -------------------- ------------------- 5.5/10.8 MB 931.1 kB/s eta 0:00:06\n",
      "   -------------------- ------------------- 5.5/10.8 MB 928.9 kB/s eta 0:00:06\n",
      "   -------------------- ------------------- 5.6/10.8 MB 930.1 kB/s eta 0:00:06\n",
      "   -------------------- ------------------- 5.6/10.8 MB 930.1 kB/s eta 0:00:06\n",
      "   -------------------- ------------------- 5.6/10.8 MB 923.3 kB/s eta 0:00:06\n",
      "   --------------------- ------------------ 5.7/10.8 MB 922.1 kB/s eta 0:00:06\n",
      "   --------------------- ------------------ 5.7/10.8 MB 926.7 kB/s eta 0:00:06\n",
      "   --------------------- ------------------ 5.8/10.8 MB 927.9 kB/s eta 0:00:06\n",
      "   --------------------- ------------------ 5.8/10.8 MB 925.0 kB/s eta 0:00:06\n",
      "   --------------------- ------------------ 5.8/10.8 MB 925.0 kB/s eta 0:00:06\n",
      "   --------------------- ------------------ 5.9/10.8 MB 924.9 kB/s eta 0:00:06\n",
      "   --------------------- ------------------ 5.9/10.8 MB 921.6 kB/s eta 0:00:06\n",
      "   ---------------------- ----------------- 6.0/10.8 MB 921.3 kB/s eta 0:00:06\n",
      "   ---------------------- ----------------- 6.0/10.8 MB 922.5 kB/s eta 0:00:06\n",
      "   ---------------------- ----------------- 6.0/10.8 MB 923.5 kB/s eta 0:00:06\n",
      "   ---------------------- ----------------- 6.1/10.8 MB 926.2 kB/s eta 0:00:06\n",
      "   ---------------------- ----------------- 6.2/10.8 MB 928.2 kB/s eta 0:00:05\n",
      "   ---------------------- ----------------- 6.2/10.8 MB 921.2 kB/s eta 0:00:06\n",
      "   ----------------------- ---------------- 6.2/10.8 MB 924.4 kB/s eta 0:00:05\n",
      "   ----------------------- ---------------- 6.3/10.8 MB 925.0 kB/s eta 0:00:05\n",
      "   ----------------------- ---------------- 6.3/10.8 MB 926.1 kB/s eta 0:00:05\n",
      "   ----------------------- ---------------- 6.4/10.8 MB 925.0 kB/s eta 0:00:05\n",
      "   ----------------------- ---------------- 6.4/10.8 MB 925.4 kB/s eta 0:00:05\n",
      "   ----------------------- ---------------- 6.5/10.8 MB 927.8 kB/s eta 0:00:05\n",
      "   ------------------------ --------------- 6.5/10.8 MB 931.8 kB/s eta 0:00:05\n",
      "   ------------------------ --------------- 6.6/10.8 MB 935.1 kB/s eta 0:00:05\n",
      "   ------------------------ --------------- 6.6/10.8 MB 932.5 kB/s eta 0:00:05\n",
      "   ------------------------ --------------- 6.7/10.8 MB 933.8 kB/s eta 0:00:05\n",
      "   ------------------------- -------------- 6.8/10.8 MB 934.8 kB/s eta 0:00:05\n",
      "   ------------------------- -------------- 6.8/10.8 MB 937.2 kB/s eta 0:00:05\n",
      "   ------------------------- -------------- 6.9/10.8 MB 938.2 kB/s eta 0:00:05\n",
      "   ------------------------- -------------- 6.9/10.8 MB 939.1 kB/s eta 0:00:05\n",
      "   ------------------------- -------------- 6.9/10.8 MB 941.9 kB/s eta 0:00:05\n",
      "   ------------------------- -------------- 7.0/10.8 MB 940.3 kB/s eta 0:00:05\n",
      "   -------------------------- ------------- 7.1/10.8 MB 942.6 kB/s eta 0:00:04\n",
      "   -------------------------- ------------- 7.1/10.8 MB 943.6 kB/s eta 0:00:04\n",
      "   -------------------------- ------------- 7.2/10.8 MB 944.5 kB/s eta 0:00:04\n",
      "   -------------------------- ------------- 7.2/10.8 MB 946.1 kB/s eta 0:00:04\n",
      "   --------------------------- ------------ 7.3/10.8 MB 949.7 kB/s eta 0:00:04\n",
      "   --------------------------- ------------ 7.3/10.8 MB 949.8 kB/s eta 0:00:04\n",
      "   --------------------------- ------------ 7.4/10.8 MB 954.6 kB/s eta 0:00:04\n",
      "   --------------------------- ------------ 7.5/10.8 MB 954.8 kB/s eta 0:00:04\n",
      "   --------------------------- ------------ 7.5/10.8 MB 956.9 kB/s eta 0:00:04\n",
      "   --------------------------- ------------ 7.5/10.8 MB 956.9 kB/s eta 0:00:04\n",
      "   ---------------------------- ----------- 7.6/10.8 MB 952.2 kB/s eta 0:00:04\n",
      "   ---------------------------- ----------- 7.6/10.8 MB 956.7 kB/s eta 0:00:04\n",
      "   ---------------------------- ----------- 7.7/10.8 MB 958.8 kB/s eta 0:00:04\n",
      "   ---------------------------- ----------- 7.8/10.8 MB 959.0 kB/s eta 0:00:04\n",
      "   ----------------------------- ---------- 7.8/10.8 MB 962.2 kB/s eta 0:00:04\n",
      "   ----------------------------- ---------- 7.9/10.8 MB 962.5 kB/s eta 0:00:04\n",
      "   ----------------------------- ---------- 8.0/10.8 MB 963.2 kB/s eta 0:00:03\n",
      "   ----------------------------- ---------- 8.0/10.8 MB 965.8 kB/s eta 0:00:03\n",
      "   ----------------------------- ---------- 8.0/10.8 MB 965.2 kB/s eta 0:00:03\n",
      "   ------------------------------ --------- 8.1/10.8 MB 968.4 kB/s eta 0:00:03\n",
      "   ------------------------------ --------- 8.1/10.8 MB 967.7 kB/s eta 0:00:03\n",
      "   ------------------------------ --------- 8.2/10.8 MB 969.1 kB/s eta 0:00:03\n",
      "   ------------------------------ --------- 8.3/10.8 MB 968.0 kB/s eta 0:00:03\n",
      "   ------------------------------ --------- 8.3/10.8 MB 967.4 kB/s eta 0:00:03\n",
      "   ------------------------------ --------- 8.4/10.8 MB 967.6 kB/s eta 0:00:03\n",
      "   ------------------------------- -------- 8.4/10.8 MB 967.7 kB/s eta 0:00:03\n",
      "   ------------------------------- -------- 8.5/10.8 MB 968.9 kB/s eta 0:00:03\n",
      "   ------------------------------- -------- 8.5/10.8 MB 967.2 kB/s eta 0:00:03\n",
      "   ------------------------------- -------- 8.5/10.8 MB 968.5 kB/s eta 0:00:03\n",
      "   ------------------------------- -------- 8.6/10.8 MB 968.0 kB/s eta 0:00:03\n",
      "   ------------------------------- -------- 8.6/10.8 MB 969.2 kB/s eta 0:00:03\n",
      "   -------------------------------- ------- 8.7/10.8 MB 969.2 kB/s eta 0:00:03\n",
      "   -------------------------------- ------- 8.7/10.8 MB 968.7 kB/s eta 0:00:03\n",
      "   -------------------------------- ------- 8.7/10.8 MB 968.2 kB/s eta 0:00:03\n",
      "   -------------------------------- ------- 8.8/10.8 MB 967.2 kB/s eta 0:00:03\n",
      "   -------------------------------- ------- 8.9/10.8 MB 969.6 kB/s eta 0:00:02\n",
      "   -------------------------------- ------- 8.9/10.8 MB 968.5 kB/s eta 0:00:02\n",
      "   --------------------------------- ------ 8.9/10.8 MB 968.6 kB/s eta 0:00:02\n",
      "   --------------------------------- ------ 8.9/10.8 MB 968.6 kB/s eta 0:00:02\n",
      "   --------------------------------- ------ 9.0/10.8 MB 966.0 kB/s eta 0:00:02\n",
      "   --------------------------------- ------ 9.1/10.8 MB 964.5 kB/s eta 0:00:02\n",
      "   --------------------------------- ------ 9.1/10.8 MB 970.0 kB/s eta 0:00:02\n",
      "   ---------------------------------- ----- 9.2/10.8 MB 971.7 kB/s eta 0:00:02\n",
      "   ---------------------------------- ----- 9.2/10.8 MB 972.2 kB/s eta 0:00:02\n",
      "   ---------------------------------- ----- 9.3/10.8 MB 970.7 kB/s eta 0:00:02\n",
      "   ---------------------------------- ----- 9.4/10.8 MB 974.5 kB/s eta 0:00:02\n",
      "   ---------------------------------- ----- 9.4/10.8 MB 975.0 kB/s eta 0:00:02\n",
      "   ----------------------------------- ---- 9.5/10.8 MB 976.2 kB/s eta 0:00:02\n",
      "   ----------------------------------- ---- 9.5/10.8 MB 976.7 kB/s eta 0:00:02\n",
      "   ----------------------------------- ---- 9.6/10.8 MB 978.3 kB/s eta 0:00:02\n",
      "   ----------------------------------- ---- 9.6/10.8 MB 978.9 kB/s eta 0:00:02\n",
      "   ----------------------------------- ---- 9.7/10.8 MB 978.9 kB/s eta 0:00:02\n",
      "   ------------------------------------ --- 9.7/10.8 MB 980.4 kB/s eta 0:00:02\n",
      "   ------------------------------------ --- 9.8/10.8 MB 979.5 kB/s eta 0:00:02\n",
      "   ------------------------------------ --- 9.8/10.8 MB 980.0 kB/s eta 0:00:01\n",
      "   ------------------------------------ --- 9.9/10.8 MB 980.5 kB/s eta 0:00:01\n",
      "   ------------------------------------ --- 10.0/10.8 MB 984.1 kB/s eta 0:00:01\n",
      "   ------------------------------------- -- 10.0/10.8 MB 982.5 kB/s eta 0:00:01\n",
      "   ------------------------------------- -- 10.1/10.8 MB 986.6 kB/s eta 0:00:01\n",
      "   ------------------------------------- -- 10.1/10.8 MB 988.0 kB/s eta 0:00:01\n",
      "   ------------------------------------- -- 10.2/10.8 MB 985.0 kB/s eta 0:00:01\n",
      "   -------------------------------------- - 10.3/10.8 MB 1.0 MB/s eta 0:00:01\n",
      "   -------------------------------------- - 10.3/10.8 MB 1.0 MB/s eta 0:00:01\n",
      "   -------------------------------------- - 10.4/10.8 MB 1.0 MB/s eta 0:00:01\n",
      "   -------------------------------------- - 10.4/10.8 MB 1.0 MB/s eta 0:00:01\n",
      "   -------------------------------------- - 10.5/10.8 MB 1.0 MB/s eta 0:00:01\n",
      "   ---------------------------------------  10.5/10.8 MB 1.0 MB/s eta 0:00:01\n",
      "   ---------------------------------------  10.6/10.8 MB 1.0 MB/s eta 0:00:01\n",
      "   ---------------------------------------  10.6/10.8 MB 1.0 MB/s eta 0:00:01\n",
      "   ---------------------------------------  10.7/10.8 MB 1.0 MB/s eta 0:00:01\n",
      "   ---------------------------------------  10.7/10.8 MB 1.0 MB/s eta 0:00:01\n",
      "   ---------------------------------------  10.8/10.8 MB 1.0 MB/s eta 0:00:01\n",
      "   ---------------------------------------  10.8/10.8 MB 1.0 MB/s eta 0:00:01\n",
      "   ---------------------------------------- 10.8/10.8 MB 1.0 MB/s eta 0:00:00\n",
      "Downloading numpy-1.26.2-cp39-cp39-win_amd64.whl (15.8 MB)\n",
      "   ---------------------------------------- 0.0/15.8 MB ? eta -:--:--\n",
      "   ---------------------------------------- 0.1/15.8 MB 2.0 MB/s eta 0:00:08\n",
      "   ---------------------------------------- 0.1/15.8 MB 2.1 MB/s eta 0:00:08\n",
      "   ---------------------------------------- 0.2/15.8 MB 1.7 MB/s eta 0:00:10\n",
      "   ---------------------------------------- 0.2/15.8 MB 1.7 MB/s eta 0:00:10\n",
      "    --------------------------------------- 0.3/15.8 MB 1.1 MB/s eta 0:00:14\n",
      "    --------------------------------------- 0.3/15.8 MB 1.1 MB/s eta 0:00:15\n",
      "    --------------------------------------- 0.3/15.8 MB 1.0 MB/s eta 0:00:16\n",
      "    --------------------------------------- 0.4/15.8 MB 1.1 MB/s eta 0:00:15\n",
      "   - -------------------------------------- 0.4/15.8 MB 1.1 MB/s eta 0:00:15\n",
      "   - -------------------------------------- 0.5/15.8 MB 1.1 MB/s eta 0:00:14\n",
      "   - -------------------------------------- 0.5/15.8 MB 1.0 MB/s eta 0:00:16\n",
      "   - -------------------------------------- 0.6/15.8 MB 1.0 MB/s eta 0:00:16\n",
      "   - -------------------------------------- 0.6/15.8 MB 1.0 MB/s eta 0:00:16\n",
      "   - -------------------------------------- 0.6/15.8 MB 1.0 MB/s eta 0:00:15\n",
      "   - -------------------------------------- 0.7/15.8 MB 1.0 MB/s eta 0:00:15\n",
      "   -- ------------------------------------- 0.8/15.8 MB 1.1 MB/s eta 0:00:15\n",
      "   -- ------------------------------------- 0.9/15.8 MB 1.1 MB/s eta 0:00:14\n",
      "   -- ------------------------------------- 0.9/15.8 MB 1.1 MB/s eta 0:00:14\n",
      "   -- ------------------------------------- 1.0/15.8 MB 1.1 MB/s eta 0:00:14\n",
      "   -- ------------------------------------- 1.0/15.8 MB 1.1 MB/s eta 0:00:14\n",
      "   -- ------------------------------------- 1.0/15.8 MB 1.1 MB/s eta 0:00:14\n",
      "   -- ------------------------------------- 1.1/15.8 MB 1.0 MB/s eta 0:00:15\n",
      "   -- ------------------------------------- 1.1/15.8 MB 1.0 MB/s eta 0:00:15\n",
      "   --- ------------------------------------ 1.2/15.8 MB 1.0 MB/s eta 0:00:14\n",
      "   --- ------------------------------------ 1.2/15.8 MB 1.1 MB/s eta 0:00:14\n",
      "   --- ------------------------------------ 1.3/15.8 MB 1.0 MB/s eta 0:00:14\n",
      "   --- ------------------------------------ 1.3/15.8 MB 1.1 MB/s eta 0:00:14\n",
      "   --- ------------------------------------ 1.4/15.8 MB 1.1 MB/s eta 0:00:14\n",
      "   --- ------------------------------------ 1.4/15.8 MB 1.0 MB/s eta 0:00:15\n",
      "   --- ------------------------------------ 1.5/15.8 MB 1.0 MB/s eta 0:00:14\n",
      "   --- ------------------------------------ 1.5/15.8 MB 1.1 MB/s eta 0:00:14\n",
      "   ---- ----------------------------------- 1.6/15.8 MB 1.1 MB/s eta 0:00:14\n",
      "   ---- ----------------------------------- 1.6/15.8 MB 1.1 MB/s eta 0:00:14\n",
      "   ---- ----------------------------------- 1.6/15.8 MB 1.0 MB/s eta 0:00:14\n",
      "   ---- ----------------------------------- 1.7/15.8 MB 1.0 MB/s eta 0:00:14\n",
      "   ---- ----------------------------------- 1.8/15.8 MB 1.0 MB/s eta 0:00:14\n",
      "   ---- ----------------------------------- 1.8/15.8 MB 1.0 MB/s eta 0:00:14\n",
      "   ---- ----------------------------------- 1.9/15.8 MB 1.1 MB/s eta 0:00:14\n",
      "   ---- ----------------------------------- 1.9/15.8 MB 1.1 MB/s eta 0:00:14\n",
      "   ----- ---------------------------------- 2.0/15.8 MB 1.1 MB/s eta 0:00:13\n",
      "   ----- ---------------------------------- 2.1/15.8 MB 1.1 MB/s eta 0:00:13\n",
      "   ----- ---------------------------------- 2.1/15.8 MB 1.1 MB/s eta 0:00:13\n",
      "   ----- ---------------------------------- 2.2/15.8 MB 1.1 MB/s eta 0:00:13\n",
      "   ----- ---------------------------------- 2.2/15.8 MB 1.0 MB/s eta 0:00:13\n",
      "   ----- ---------------------------------- 2.2/15.8 MB 1.1 MB/s eta 0:00:13\n",
      "   ----- ---------------------------------- 2.2/15.8 MB 1.0 MB/s eta 0:00:14\n",
      "   ----- ---------------------------------- 2.2/15.8 MB 1.0 MB/s eta 0:00:14\n",
      "   ----- ---------------------------------- 2.3/15.8 MB 1.0 MB/s eta 0:00:14\n",
      "   ----- ---------------------------------- 2.3/15.8 MB 1.0 MB/s eta 0:00:14\n",
      "   ------ --------------------------------- 2.4/15.8 MB 1.0 MB/s eta 0:00:14\n",
      "   ------ --------------------------------- 2.4/15.8 MB 1.0 MB/s eta 0:00:14\n",
      "   ------ --------------------------------- 2.5/15.8 MB 1.0 MB/s eta 0:00:14\n",
      "   ------ --------------------------------- 2.6/15.8 MB 1.0 MB/s eta 0:00:13\n",
      "   ------ --------------------------------- 2.6/15.8 MB 1.0 MB/s eta 0:00:14\n",
      "   ------ --------------------------------- 2.7/15.8 MB 1.0 MB/s eta 0:00:13\n",
      "   ------ --------------------------------- 2.7/15.8 MB 1.0 MB/s eta 0:00:13\n",
      "   ------ --------------------------------- 2.7/15.8 MB 1.0 MB/s eta 0:00:13\n",
      "   ------ --------------------------------- 2.7/15.8 MB 1.0 MB/s eta 0:00:13\n",
      "   ------ --------------------------------- 2.7/15.8 MB 1.0 MB/s eta 0:00:13\n",
      "   ------ --------------------------------- 2.8/15.8 MB 979.6 kB/s eta 0:00:14\n",
      "   ------- -------------------------------- 2.8/15.8 MB 983.0 kB/s eta 0:00:14\n",
      "   ------- -------------------------------- 2.9/15.8 MB 983.1 kB/s eta 0:00:14\n",
      "   ------- -------------------------------- 2.9/15.8 MB 990.2 kB/s eta 0:00:13\n",
      "   ------- -------------------------------- 3.0/15.8 MB 991.7 kB/s eta 0:00:13\n",
      "   ------- -------------------------------- 3.1/15.8 MB 996.6 kB/s eta 0:00:13\n",
      "   ------- -------------------------------- 3.1/15.8 MB 1.0 MB/s eta 0:00:13\n",
      "   -------- ------------------------------- 3.2/15.8 MB 1.0 MB/s eta 0:00:13\n",
      "   -------- ------------------------------- 3.2/15.8 MB 1.0 MB/s eta 0:00:13\n",
      "   -------- ------------------------------- 3.3/15.8 MB 1.0 MB/s eta 0:00:13\n",
      "   -------- ------------------------------- 3.4/15.8 MB 1.0 MB/s eta 0:00:13\n",
      "   -------- ------------------------------- 3.4/15.8 MB 1.0 MB/s eta 0:00:13\n",
      "   -------- ------------------------------- 3.4/15.8 MB 1.0 MB/s eta 0:00:13\n",
      "   -------- ------------------------------- 3.5/15.8 MB 1.0 MB/s eta 0:00:12\n",
      "   --------- ------------------------------ 3.6/15.8 MB 1.0 MB/s eta 0:00:12\n",
      "   --------- ------------------------------ 3.6/15.8 MB 1.0 MB/s eta 0:00:13\n",
      "   --------- ------------------------------ 3.6/15.8 MB 1.0 MB/s eta 0:00:12\n",
      "   --------- ------------------------------ 3.7/15.8 MB 1.0 MB/s eta 0:00:12\n",
      "   --------- ------------------------------ 3.8/15.8 MB 1.0 MB/s eta 0:00:12\n",
      "   --------- ------------------------------ 3.8/15.8 MB 1.0 MB/s eta 0:00:12\n",
      "   --------- ------------------------------ 3.9/15.8 MB 1.0 MB/s eta 0:00:12\n",
      "   --------- ------------------------------ 3.9/15.8 MB 1.0 MB/s eta 0:00:12\n",
      "   --------- ------------------------------ 3.9/15.8 MB 1.0 MB/s eta 0:00:12\n",
      "   ---------- ----------------------------- 4.0/15.8 MB 1.0 MB/s eta 0:00:12\n",
      "   ---------- ----------------------------- 4.0/15.8 MB 1.0 MB/s eta 0:00:12\n",
      "   ---------- ----------------------------- 4.0/15.8 MB 1.0 MB/s eta 0:00:12\n",
      "   ---------- ----------------------------- 4.1/15.8 MB 1.0 MB/s eta 0:00:12\n",
      "   ---------- ----------------------------- 4.1/15.8 MB 1.0 MB/s eta 0:00:12\n",
      "   ---------- ----------------------------- 4.1/15.8 MB 986.9 kB/s eta 0:00:12\n",
      "   ---------- ----------------------------- 4.1/15.8 MB 991.8 kB/s eta 0:00:12\n",
      "   ---------- ----------------------------- 4.2/15.8 MB 991.6 kB/s eta 0:00:12\n",
      "   ---------- ----------------------------- 4.2/15.8 MB 991.6 kB/s eta 0:00:12\n",
      "   ---------- ----------------------------- 4.2/15.8 MB 991.6 kB/s eta 0:00:12\n",
      "   ---------- ----------------------------- 4.2/15.8 MB 963.2 kB/s eta 0:00:13\n",
      "   ---------- ----------------------------- 4.2/15.8 MB 956.6 kB/s eta 0:00:13\n",
      "   ---------- ----------------------------- 4.3/15.8 MB 953.4 kB/s eta 0:00:13\n",
      "   ---------- ----------------------------- 4.3/15.8 MB 958.0 kB/s eta 0:00:12\n",
      "   ----------- ---------------------------- 4.4/15.8 MB 964.1 kB/s eta 0:00:12\n",
      "   ----------- ---------------------------- 4.4/15.8 MB 959.8 kB/s eta 0:00:12\n",
      "   ----------- ---------------------------- 4.5/15.8 MB 968.8 kB/s eta 0:00:12\n",
      "   ----------- ---------------------------- 4.6/15.8 MB 968.9 kB/s eta 0:00:12\n",
      "   ----------- ---------------------------- 4.6/15.8 MB 974.4 kB/s eta 0:00:12\n",
      "   ----------- ---------------------------- 4.7/15.8 MB 976.7 kB/s eta 0:00:12\n",
      "   ----------- ---------------------------- 4.7/15.8 MB 971.4 kB/s eta 0:00:12\n",
      "   ----------- ---------------------------- 4.7/15.8 MB 965.4 kB/s eta 0:00:12\n",
      "   ------------ --------------------------- 4.8/15.8 MB 965.5 kB/s eta 0:00:12\n",
      "   ------------ --------------------------- 4.8/15.8 MB 967.7 kB/s eta 0:00:12\n",
      "   ------------ --------------------------- 4.9/15.8 MB 964.8 kB/s eta 0:00:12\n",
      "   ------------ --------------------------- 4.9/15.8 MB 959.9 kB/s eta 0:00:12\n",
      "   ------------ --------------------------- 4.9/15.8 MB 959.1 kB/s eta 0:00:12\n",
      "   ------------ --------------------------- 5.0/15.8 MB 956.5 kB/s eta 0:00:12\n",
      "   ------------ --------------------------- 5.0/15.8 MB 956.5 kB/s eta 0:00:12\n",
      "   ------------ --------------------------- 5.0/15.8 MB 955.0 kB/s eta 0:00:12\n",
      "   ------------ --------------------------- 5.1/15.8 MB 949.4 kB/s eta 0:00:12\n",
      "   ------------ --------------------------- 5.1/15.8 MB 949.7 kB/s eta 0:00:12\n",
      "   ------------- -------------------------- 5.2/15.8 MB 950.9 kB/s eta 0:00:12\n",
      "   ------------- -------------------------- 5.2/15.8 MB 955.8 kB/s eta 0:00:12\n",
      "   ------------- -------------------------- 5.3/15.8 MB 950.7 kB/s eta 0:00:12\n",
      "   ------------- -------------------------- 5.3/15.8 MB 953.5 kB/s eta 0:00:12\n",
      "   ------------- -------------------------- 5.3/15.8 MB 953.9 kB/s eta 0:00:11\n",
      "   ------------- -------------------------- 5.4/15.8 MB 958.6 kB/s eta 0:00:11\n",
      "   ------------- -------------------------- 5.4/15.8 MB 958.6 kB/s eta 0:00:11\n",
      "   ------------- -------------------------- 5.5/15.8 MB 956.3 kB/s eta 0:00:11\n",
      "   ------------- -------------------------- 5.5/15.8 MB 953.0 kB/s eta 0:00:11\n",
      "   -------------- ------------------------- 5.6/15.8 MB 955.1 kB/s eta 0:00:11\n",
      "   -------------- ------------------------- 5.6/15.8 MB 958.6 kB/s eta 0:00:11\n",
      "   -------------- ------------------------- 5.7/15.8 MB 965.0 kB/s eta 0:00:11\n",
      "   -------------- ------------------------- 5.8/15.8 MB 962.6 kB/s eta 0:00:11\n",
      "   -------------- ------------------------- 5.8/15.8 MB 962.6 kB/s eta 0:00:11\n",
      "   -------------- ------------------------- 5.8/15.8 MB 955.3 kB/s eta 0:00:11\n",
      "   -------------- ------------------------- 5.8/15.8 MB 952.9 kB/s eta 0:00:11\n",
      "   -------------- ------------------------- 5.9/15.8 MB 959.8 kB/s eta 0:00:11\n",
      "   --------------- ------------------------ 6.0/15.8 MB 958.5 kB/s eta 0:00:11\n",
      "   --------------- ------------------------ 6.0/15.8 MB 960.9 kB/s eta 0:00:11\n",
      "   --------------- ------------------------ 6.1/15.8 MB 960.4 kB/s eta 0:00:11\n",
      "   --------------- ------------------------ 6.1/15.8 MB 958.9 kB/s eta 0:00:11\n",
      "   --------------- ------------------------ 6.1/15.8 MB 958.9 kB/s eta 0:00:11\n",
      "   --------------- ------------------------ 6.2/15.8 MB 959.3 kB/s eta 0:00:11\n",
      "   --------------- ------------------------ 6.2/15.8 MB 955.5 kB/s eta 0:00:11\n",
      "   --------------- ------------------------ 6.2/15.8 MB 951.7 kB/s eta 0:00:11\n",
      "   --------------- ------------------------ 6.2/15.8 MB 946.5 kB/s eta 0:00:11\n",
      "   --------------- ------------------------ 6.3/15.8 MB 950.6 kB/s eta 0:00:10\n",
      "   ---------------- ----------------------- 6.3/15.8 MB 950.8 kB/s eta 0:00:10\n",
      "   ---------------- ----------------------- 6.4/15.8 MB 951.9 kB/s eta 0:00:10\n",
      "   ---------------- ----------------------- 6.5/15.8 MB 955.1 kB/s eta 0:00:10\n",
      "   ---------------- ----------------------- 6.6/15.8 MB 958.3 kB/s eta 0:00:10\n",
      "   ---------------- ----------------------- 6.6/15.8 MB 958.5 kB/s eta 0:00:10\n",
      "   ---------------- ----------------------- 6.6/15.8 MB 959.4 kB/s eta 0:00:10\n",
      "   ---------------- ----------------------- 6.7/15.8 MB 955.2 kB/s eta 0:00:10\n",
      "   ---------------- ----------------------- 6.7/15.8 MB 953.2 kB/s eta 0:00:10\n",
      "   ----------------- ---------------------- 6.7/15.8 MB 955.4 kB/s eta 0:00:10\n",
      "   ----------------- ---------------------- 6.8/15.8 MB 955.0 kB/s eta 0:00:10\n",
      "   ----------------- ---------------------- 6.8/15.8 MB 955.0 kB/s eta 0:00:10\n",
      "   ----------------- ---------------------- 6.9/15.8 MB 955.3 kB/s eta 0:00:10\n",
      "   ----------------- ---------------------- 7.0/15.8 MB 959.7 kB/s eta 0:00:10\n",
      "   ----------------- ---------------------- 7.0/15.8 MB 960.6 kB/s eta 0:00:10\n",
      "   ----------------- ---------------------- 7.1/15.8 MB 962.8 kB/s eta 0:00:10\n",
      "   ------------------ --------------------- 7.1/15.8 MB 965.8 kB/s eta 0:00:09\n",
      "   ------------------ --------------------- 7.2/15.8 MB 963.8 kB/s eta 0:00:09\n",
      "   ------------------ --------------------- 7.3/15.8 MB 970.8 kB/s eta 0:00:09\n",
      "   ------------------ --------------------- 7.3/15.8 MB 973.6 kB/s eta 0:00:09\n",
      "   ------------------ --------------------- 7.4/15.8 MB 975.7 kB/s eta 0:00:09\n",
      "   ------------------ --------------------- 7.5/15.8 MB 978.4 kB/s eta 0:00:09\n",
      "   ------------------- -------------------- 7.5/15.8 MB 980.4 kB/s eta 0:00:09\n",
      "   ------------------- -------------------- 7.6/15.8 MB 981.8 kB/s eta 0:00:09\n",
      "   ------------------- -------------------- 7.6/15.8 MB 983.7 kB/s eta 0:00:09\n",
      "   ------------------- -------------------- 7.7/15.8 MB 983.8 kB/s eta 0:00:09\n",
      "   ------------------- -------------------- 7.7/15.8 MB 983.8 kB/s eta 0:00:09\n",
      "   ------------------- -------------------- 7.8/15.8 MB 983.0 kB/s eta 0:00:09\n",
      "   ------------------- -------------------- 7.8/15.8 MB 983.8 kB/s eta 0:00:09\n",
      "   ------------------- -------------------- 7.9/15.8 MB 985.0 kB/s eta 0:00:09\n",
      "   -------------------- ------------------- 7.9/15.8 MB 986.9 kB/s eta 0:00:08\n",
      "   -------------------- ------------------- 8.0/15.8 MB 990.0 kB/s eta 0:00:08\n",
      "   -------------------- ------------------- 8.1/15.8 MB 991.9 kB/s eta 0:00:08\n",
      "   -------------------- ------------------- 8.1/15.8 MB 993.8 kB/s eta 0:00:08\n",
      "   -------------------- ------------------- 8.2/15.8 MB 993.1 kB/s eta 0:00:08\n",
      "   -------------------- ------------------- 8.2/15.8 MB 996.1 kB/s eta 0:00:08\n",
      "   -------------------- ------------------- 8.3/15.8 MB 993.0 kB/s eta 0:00:08\n",
      "   --------------------- ------------------ 8.3/15.8 MB 993.5 kB/s eta 0:00:08\n",
      "   --------------------- ------------------ 8.4/15.8 MB 992.8 kB/s eta 0:00:08\n",
      "   --------------------- ------------------ 8.4/15.8 MB 997.0 kB/s eta 0:00:08\n",
      "   --------------------- ------------------ 8.5/15.8 MB 1.0 MB/s eta 0:00:08\n",
      "   --------------------- ------------------ 8.6/15.8 MB 1.0 MB/s eta 0:00:08\n",
      "   --------------------- ------------------ 8.6/15.8 MB 1.0 MB/s eta 0:00:08\n",
      "   --------------------- ------------------ 8.6/15.8 MB 998.0 kB/s eta 0:00:08\n",
      "   --------------------- ------------------ 8.6/15.8 MB 997.3 kB/s eta 0:00:08\n",
      "   ---------------------- ----------------- 8.7/15.8 MB 998.4 kB/s eta 0:00:08\n",
      "   ---------------------- ----------------- 8.8/15.8 MB 1.0 MB/s eta 0:00:08\n",
      "   ---------------------- ----------------- 8.9/15.8 MB 1.0 MB/s eta 0:00:07\n",
      "   ---------------------- ----------------- 8.9/15.8 MB 1.0 MB/s eta 0:00:07\n",
      "   ---------------------- ----------------- 8.9/15.8 MB 1.0 MB/s eta 0:00:07\n",
      "   ---------------------- ----------------- 9.0/15.8 MB 1.0 MB/s eta 0:00:07\n",
      "   ---------------------- ----------------- 9.0/15.8 MB 1.0 MB/s eta 0:00:07\n",
      "   ---------------------- ----------------- 9.1/15.8 MB 1.0 MB/s eta 0:00:07\n",
      "   ----------------------- ---------------- 9.1/15.8 MB 1.0 MB/s eta 0:00:07\n",
      "   ----------------------- ---------------- 9.2/15.8 MB 1.0 MB/s eta 0:00:07\n",
      "   ----------------------- ---------------- 9.3/15.8 MB 1.0 MB/s eta 0:00:07\n",
      "   ----------------------- ---------------- 9.3/15.8 MB 1.0 MB/s eta 0:00:07\n",
      "   ----------------------- ---------------- 9.4/15.8 MB 1.0 MB/s eta 0:00:07\n",
      "   ----------------------- ---------------- 9.4/15.8 MB 1.0 MB/s eta 0:00:07\n",
      "   ----------------------- ---------------- 9.5/15.8 MB 1.0 MB/s eta 0:00:07\n",
      "   ------------------------ --------------- 9.5/15.8 MB 1.0 MB/s eta 0:00:07\n",
      "   ------------------------ --------------- 9.6/15.8 MB 1.0 MB/s eta 0:00:07\n",
      "   ------------------------ --------------- 9.7/15.8 MB 1.0 MB/s eta 0:00:07\n",
      "   ------------------------ --------------- 9.7/15.8 MB 1.0 MB/s eta 0:00:06\n",
      "   ------------------------ --------------- 9.8/15.8 MB 1.0 MB/s eta 0:00:06\n",
      "   ------------------------ --------------- 9.8/15.8 MB 1.0 MB/s eta 0:00:06\n",
      "   ------------------------- -------------- 9.9/15.8 MB 1.0 MB/s eta 0:00:06\n",
      "   ------------------------- -------------- 9.9/15.8 MB 1.0 MB/s eta 0:00:06\n",
      "   ------------------------- -------------- 10.0/15.8 MB 1.0 MB/s eta 0:00:06\n",
      "   ------------------------- -------------- 10.1/15.8 MB 1.0 MB/s eta 0:00:06\n",
      "   ------------------------- -------------- 10.2/15.8 MB 1.0 MB/s eta 0:00:06\n",
      "   ------------------------- -------------- 10.2/15.8 MB 1.0 MB/s eta 0:00:06\n",
      "   ------------------------- -------------- 10.3/15.8 MB 1.0 MB/s eta 0:00:06\n",
      "   -------------------------- ------------- 10.3/15.8 MB 1.0 MB/s eta 0:00:06\n",
      "   -------------------------- ------------- 10.3/15.8 MB 1.0 MB/s eta 0:00:06\n",
      "   -------------------------- ------------- 10.4/15.8 MB 1.0 MB/s eta 0:00:06\n",
      "   -------------------------- ------------- 10.5/15.8 MB 1.0 MB/s eta 0:00:06\n",
      "   -------------------------- ------------- 10.5/15.8 MB 1.0 MB/s eta 0:00:06\n",
      "   -------------------------- ------------- 10.6/15.8 MB 1.0 MB/s eta 0:00:06\n",
      "   -------------------------- ------------- 10.7/15.8 MB 1.0 MB/s eta 0:00:06\n",
      "   --------------------------- ------------ 10.7/15.8 MB 1.0 MB/s eta 0:00:05\n",
      "   --------------------------- ------------ 10.8/15.8 MB 1.0 MB/s eta 0:00:05\n",
      "   --------------------------- ------------ 10.8/15.8 MB 1.0 MB/s eta 0:00:05\n",
      "   --------------------------- ------------ 10.9/15.8 MB 1.0 MB/s eta 0:00:05\n",
      "   --------------------------- ------------ 11.0/15.8 MB 1.0 MB/s eta 0:00:05\n",
      "   --------------------------- ------------ 11.0/15.8 MB 1.0 MB/s eta 0:00:05\n",
      "   ---------------------------- ----------- 11.1/15.8 MB 1.0 MB/s eta 0:00:05\n",
      "   ---------------------------- ----------- 11.1/15.8 MB 1.0 MB/s eta 0:00:05\n",
      "   ---------------------------- ----------- 11.2/15.8 MB 1.0 MB/s eta 0:00:05\n",
      "   ---------------------------- ----------- 11.2/15.8 MB 1.0 MB/s eta 0:00:05\n",
      "   ---------------------------- ----------- 11.3/15.8 MB 1.0 MB/s eta 0:00:05\n",
      "   ---------------------------- ----------- 11.3/15.8 MB 1.0 MB/s eta 0:00:05\n",
      "   ---------------------------- ----------- 11.4/15.8 MB 1.0 MB/s eta 0:00:05\n",
      "   ----------------------------- ---------- 11.5/15.8 MB 1.0 MB/s eta 0:00:05\n",
      "   ----------------------------- ---------- 11.5/15.8 MB 1.0 MB/s eta 0:00:05\n",
      "   ----------------------------- ---------- 11.6/15.8 MB 1.0 MB/s eta 0:00:05\n",
      "   ----------------------------- ---------- 11.7/15.8 MB 1.0 MB/s eta 0:00:04\n",
      "   ----------------------------- ---------- 11.7/15.8 MB 1.0 MB/s eta 0:00:04\n",
      "   ----------------------------- ---------- 11.7/15.8 MB 1.0 MB/s eta 0:00:04\n",
      "   ----------------------------- ---------- 11.8/15.8 MB 1.0 MB/s eta 0:00:04\n",
      "   ----------------------------- ---------- 11.8/15.8 MB 1.1 MB/s eta 0:00:04\n",
      "   ------------------------------ --------- 11.9/15.8 MB 1.1 MB/s eta 0:00:04\n",
      "   ------------------------------ --------- 12.0/15.8 MB 1.1 MB/s eta 0:00:04\n",
      "   ------------------------------ --------- 12.0/15.8 MB 1.0 MB/s eta 0:00:04\n",
      "   ------------------------------ --------- 12.0/15.8 MB 1.0 MB/s eta 0:00:04\n",
      "   ------------------------------ --------- 12.1/15.8 MB 1.0 MB/s eta 0:00:04\n",
      "   ------------------------------ --------- 12.1/15.8 MB 1.0 MB/s eta 0:00:04\n",
      "   ------------------------------ --------- 12.2/15.8 MB 1.0 MB/s eta 0:00:04\n",
      "   ------------------------------- -------- 12.3/15.8 MB 1.0 MB/s eta 0:00:04\n",
      "   ------------------------------- -------- 12.3/15.8 MB 1.0 MB/s eta 0:00:04\n",
      "   ------------------------------- -------- 12.4/15.8 MB 1.1 MB/s eta 0:00:04\n",
      "   ------------------------------- -------- 12.5/15.8 MB 1.1 MB/s eta 0:00:04\n",
      "   ------------------------------- -------- 12.5/15.8 MB 1.1 MB/s eta 0:00:04\n",
      "   ------------------------------- -------- 12.6/15.8 MB 1.1 MB/s eta 0:00:04\n",
      "   -------------------------------- ------- 12.7/15.8 MB 1.1 MB/s eta 0:00:03\n",
      "   -------------------------------- ------- 12.7/15.8 MB 1.1 MB/s eta 0:00:03\n",
      "   -------------------------------- ------- 12.8/15.8 MB 1.1 MB/s eta 0:00:03\n",
      "   -------------------------------- ------- 12.9/15.8 MB 1.1 MB/s eta 0:00:03\n",
      "   -------------------------------- ------- 12.9/15.8 MB 1.1 MB/s eta 0:00:03\n",
      "   -------------------------------- ------- 12.9/15.8 MB 1.1 MB/s eta 0:00:03\n",
      "   -------------------------------- ------- 13.0/15.8 MB 1.1 MB/s eta 0:00:03\n",
      "   --------------------------------- ------ 13.1/15.8 MB 1.1 MB/s eta 0:00:03\n",
      "   --------------------------------- ------ 13.1/15.8 MB 1.1 MB/s eta 0:00:03\n",
      "   --------------------------------- ------ 13.2/15.8 MB 1.1 MB/s eta 0:00:03\n",
      "   --------------------------------- ------ 13.2/15.8 MB 1.1 MB/s eta 0:00:03\n",
      "   --------------------------------- ------ 13.3/15.8 MB 1.1 MB/s eta 0:00:03\n",
      "   --------------------------------- ------ 13.3/15.8 MB 1.1 MB/s eta 0:00:03\n",
      "   --------------------------------- ------ 13.4/15.8 MB 1.1 MB/s eta 0:00:03\n",
      "   ---------------------------------- ----- 13.5/15.8 MB 1.1 MB/s eta 0:00:03\n",
      "   ---------------------------------- ----- 13.5/15.8 MB 1.1 MB/s eta 0:00:03\n",
      "   ---------------------------------- ----- 13.6/15.8 MB 1.1 MB/s eta 0:00:03\n",
      "   ---------------------------------- ----- 13.6/15.8 MB 1.1 MB/s eta 0:00:03\n",
      "   ---------------------------------- ----- 13.6/15.8 MB 1.1 MB/s eta 0:00:03\n",
      "   ---------------------------------- ----- 13.7/15.8 MB 1.1 MB/s eta 0:00:02\n",
      "   ---------------------------------- ----- 13.7/15.8 MB 1.1 MB/s eta 0:00:02\n",
      "   ---------------------------------- ----- 13.7/15.8 MB 1.1 MB/s eta 0:00:02\n",
      "   ---------------------------------- ----- 13.7/15.8 MB 1.1 MB/s eta 0:00:02\n",
      "   ---------------------------------- ----- 13.8/15.8 MB 1.1 MB/s eta 0:00:02\n",
      "   ----------------------------------- ---- 13.9/15.8 MB 1.1 MB/s eta 0:00:02\n",
      "   ----------------------------------- ---- 13.9/15.8 MB 1.1 MB/s eta 0:00:02\n",
      "   ----------------------------------- ---- 13.9/15.8 MB 1.1 MB/s eta 0:00:02\n",
      "   ----------------------------------- ---- 14.0/15.8 MB 1.1 MB/s eta 0:00:02\n",
      "   ----------------------------------- ---- 14.0/15.8 MB 1.1 MB/s eta 0:00:02\n",
      "   ----------------------------------- ---- 14.1/15.8 MB 1.1 MB/s eta 0:00:02\n",
      "   ----------------------------------- ---- 14.1/15.8 MB 1.1 MB/s eta 0:00:02\n",
      "   ----------------------------------- ---- 14.1/15.8 MB 1.1 MB/s eta 0:00:02\n",
      "   ----------------------------------- ---- 14.2/15.8 MB 1.1 MB/s eta 0:00:02\n",
      "   ------------------------------------ --- 14.2/15.8 MB 1.1 MB/s eta 0:00:02\n",
      "   ------------------------------------ --- 14.2/15.8 MB 1.1 MB/s eta 0:00:02\n",
      "   ------------------------------------ --- 14.3/15.8 MB 1.1 MB/s eta 0:00:02\n",
      "   ------------------------------------ --- 14.3/15.8 MB 1.1 MB/s eta 0:00:02\n",
      "   ------------------------------------ --- 14.4/15.8 MB 1.1 MB/s eta 0:00:02\n",
      "   ------------------------------------ --- 14.4/15.8 MB 1.1 MB/s eta 0:00:02\n",
      "   ------------------------------------ --- 14.5/15.8 MB 1.1 MB/s eta 0:00:02\n",
      "   ------------------------------------ --- 14.5/15.8 MB 1.1 MB/s eta 0:00:02\n",
      "   ------------------------------------ --- 14.5/15.8 MB 1.1 MB/s eta 0:00:02\n",
      "   ------------------------------------ --- 14.6/15.8 MB 1.1 MB/s eta 0:00:02\n",
      "   ------------------------------------- -- 14.6/15.8 MB 1.1 MB/s eta 0:00:02\n",
      "   ------------------------------------- -- 14.7/15.8 MB 1.1 MB/s eta 0:00:02\n",
      "   ------------------------------------- -- 14.7/15.8 MB 1.1 MB/s eta 0:00:02\n",
      "   ------------------------------------- -- 14.7/15.8 MB 1.1 MB/s eta 0:00:02\n",
      "   ------------------------------------- -- 14.7/15.8 MB 1.1 MB/s eta 0:00:02\n",
      "   ------------------------------------- -- 14.8/15.8 MB 1.1 MB/s eta 0:00:01\n",
      "   ------------------------------------- -- 14.8/15.8 MB 1.1 MB/s eta 0:00:01\n",
      "   ------------------------------------- -- 14.8/15.8 MB 1.1 MB/s eta 0:00:01\n",
      "   ------------------------------------- -- 14.9/15.8 MB 1.1 MB/s eta 0:00:01\n",
      "   ------------------------------------- -- 14.9/15.8 MB 1.1 MB/s eta 0:00:01\n",
      "   ------------------------------------- -- 15.0/15.8 MB 1.1 MB/s eta 0:00:01\n",
      "   ------------------------------------- -- 15.0/15.8 MB 1.1 MB/s eta 0:00:01\n",
      "   -------------------------------------- - 15.1/15.8 MB 1.1 MB/s eta 0:00:01\n",
      "   -------------------------------------- - 15.1/15.8 MB 1.1 MB/s eta 0:00:01\n",
      "   -------------------------------------- - 15.1/15.8 MB 1.1 MB/s eta 0:00:01\n",
      "   -------------------------------------- - 15.2/15.8 MB 1.1 MB/s eta 0:00:01\n",
      "   -------------------------------------- - 15.2/15.8 MB 1.1 MB/s eta 0:00:01\n",
      "   -------------------------------------- - 15.3/15.8 MB 1.1 MB/s eta 0:00:01\n",
      "   -------------------------------------- - 15.3/15.8 MB 1.1 MB/s eta 0:00:01\n",
      "   -------------------------------------- - 15.4/15.8 MB 1.1 MB/s eta 0:00:01\n",
      "   -------------------------------------- - 15.4/15.8 MB 1.1 MB/s eta 0:00:01\n",
      "   ---------------------------------------  15.4/15.8 MB 1.1 MB/s eta 0:00:01\n",
      "   ---------------------------------------  15.4/15.8 MB 1.1 MB/s eta 0:00:01\n",
      "   ---------------------------------------  15.4/15.8 MB 1.1 MB/s eta 0:00:01\n",
      "   ---------------------------------------  15.5/15.8 MB 1.1 MB/s eta 0:00:01\n",
      "   ---------------------------------------  15.5/15.8 MB 1.1 MB/s eta 0:00:01\n",
      "   ---------------------------------------  15.6/15.8 MB 1.1 MB/s eta 0:00:01\n",
      "   ---------------------------------------  15.6/15.8 MB 1.1 MB/s eta 0:00:01\n",
      "   ---------------------------------------  15.7/15.8 MB 1.1 MB/s eta 0:00:01\n",
      "   ---------------------------------------  15.7/15.8 MB 1.1 MB/s eta 0:00:01\n",
      "   ---------------------------------------  15.7/15.8 MB 1.1 MB/s eta 0:00:01\n",
      "   ---------------------------------------  15.8/15.8 MB 1.1 MB/s eta 0:00:01\n",
      "   ---------------------------------------  15.8/15.8 MB 1.1 MB/s eta 0:00:01\n",
      "   ---------------------------------------- 15.8/15.8 MB 1.1 MB/s eta 0:00:00\n",
      "Installing collected packages: tzdata, numpy, pandas\n",
      "Successfully installed numpy-1.26.2 pandas-2.1.4 tzdata-2023.3\n",
      "Note: you may need to restart the kernel to use updated packages.\n"
     ]
    }
   ],
   "source": [
    "pip install pandas"
   ]
  },
  {
   "cell_type": "code",
   "execution_count": 129,
   "id": "07cbb2f7-dcdf-443c-89f8-28ad11d12233",
   "metadata": {},
   "outputs": [],
   "source": [
    "import pandas as pd\n",
    "edf = pd.DataFrame()\n",
    "edf['Nombre']=None\n",
    "edf['Edad']=None"
   ]
  },
  {
   "cell_type": "code",
   "execution_count": 130,
   "id": "b4ac634d-8f1a-4157-a66b-bbeb49404eea",
   "metadata": {},
   "outputs": [
    {
     "name": "stdout",
     "output_type": "stream",
     "text": [
      "  Nombre  Edad\n",
      "0   Juan    42\n",
      "1  Laura    40\n",
      "2   Pepe    37\n"
     ]
    }
   ],
   "source": [
    "nombres = ['Juan', 'Laura', 'Pepe']\n",
    "edades = [42, 40, 37]\n",
    "\n",
    "edf['Nombre'] = nombres\n",
    "edf['Edad'] = edades\n",
    "\n",
    "print(edf)"
   ]
  },
  {
   "cell_type": "code",
   "execution_count": 131,
   "id": "df3fe3ad-55f8-4eda-ae9e-10a6f73ff57c",
   "metadata": {},
   "outputs": [],
   "source": [
    "edf.reset_index().to_json('personas.json',orient='records')"
   ]
  },
  {
   "cell_type": "code",
   "execution_count": 132,
   "id": "74883b61-8caf-4a37-bb93-aa0ec05dbb38",
   "metadata": {},
   "outputs": [],
   "source": [
    "df = spark.read.json('personas.json')"
   ]
  },
  {
   "cell_type": "code",
   "execution_count": 133,
   "id": "503e1718-0e93-49f7-88a3-acb00240768e",
   "metadata": {},
   "outputs": [
    {
     "name": "stdout",
     "output_type": "stream",
     "text": [
      "+----+------+-----+\n",
      "|Edad|Nombre|index|\n",
      "+----+------+-----+\n",
      "|  42|  Juan|    0|\n",
      "|  40| Laura|    1|\n",
      "|  37|  Pepe|    2|\n",
      "+----+------+-----+\n",
      "\n"
     ]
    }
   ],
   "source": [
    "df.show()"
   ]
  },
  {
   "cell_type": "code",
   "execution_count": 134,
   "id": "326bf24a-3bee-45c2-a8c0-298bf5a0560f",
   "metadata": {},
   "outputs": [
    {
     "name": "stdout",
     "output_type": "stream",
     "text": [
      "root\n",
      " |-- Edad: long (nullable = true)\n",
      " |-- Nombre: string (nullable = true)\n",
      " |-- index: long (nullable = true)\n",
      "\n"
     ]
    }
   ],
   "source": [
    "df.printSchema()"
   ]
  },
  {
   "cell_type": "code",
   "execution_count": 135,
   "id": "aa0b709a-ef59-453f-8f4d-1329200aeed8",
   "metadata": {},
   "outputs": [
    {
     "data": {
      "text/plain": [
       "['Edad', 'Nombre', 'index']"
      ]
     },
     "execution_count": 135,
     "metadata": {},
     "output_type": "execute_result"
    }
   ],
   "source": [
    "df.columns"
   ]
  },
  {
   "cell_type": "code",
   "execution_count": 137,
   "id": "06ff6dcd-5a88-4ecc-bb62-d1b3819aa9b8",
   "metadata": {},
   "outputs": [
    {
     "name": "stdout",
     "output_type": "stream",
     "text": [
      "+-------+------------------+------+-----+\n",
      "|summary|              Edad|Nombre|index|\n",
      "+-------+------------------+------+-----+\n",
      "|  count|                 3|     3|    3|\n",
      "|   mean|39.666666666666664|  NULL|  1.0|\n",
      "| stddev|2.5166114784235836|  NULL|  1.0|\n",
      "|    min|                37|  Juan|    0|\n",
      "|    max|                42|  Pepe|    2|\n",
      "+-------+------------------+------+-----+\n",
      "\n"
     ]
    }
   ],
   "source": [
    "df.describe().show()"
   ]
  },
  {
   "cell_type": "markdown",
   "id": "cb46c2ae-f359-4b1c-b56d-5b8657677cfd",
   "metadata": {},
   "source": [
    "# Schema"
   ]
  },
  {
   "cell_type": "markdown",
   "id": "17160081-d5e4-474b-8251-e9651c8e15a1",
   "metadata": {},
   "source": [
    "Cuando creamos un dataframe se puede inferir el schema."
   ]
  },
  {
   "cell_type": "code",
   "execution_count": 144,
   "id": "fbdf172f-3cc6-4fcb-987c-4e5dee857454",
   "metadata": {},
   "outputs": [],
   "source": [
    "from pyspark.sql.types import StructField, StructType,StringType, IntegerType"
   ]
  },
  {
   "cell_type": "code",
   "execution_count": 145,
   "id": "a6a72e0c-59bb-42a6-bc8d-022d313ecb39",
   "metadata": {},
   "outputs": [],
   "source": [
    "schema = [StructField('Edad',IntegerType(),True),\n",
    "          StructField('Nombre',StringType(),True),\n",
    "         StructField('index',IntegerType(),True)]"
   ]
  },
  {
   "cell_type": "code",
   "execution_count": 146,
   "id": "4265c3fa-70a0-42b5-a271-66a8c48d8b91",
   "metadata": {},
   "outputs": [],
   "source": [
    "schema_final = StructType(fields=schema)"
   ]
  },
  {
   "cell_type": "code",
   "execution_count": 147,
   "id": "10b2e690-5871-4a28-baae-77aa40ffaa0f",
   "metadata": {},
   "outputs": [],
   "source": [
    "df = spark.read.json('personas.json',schema=schema_final)"
   ]
  },
  {
   "cell_type": "code",
   "execution_count": 148,
   "id": "1ca13c68-76ac-4582-a48d-7ea3188b8f21",
   "metadata": {},
   "outputs": [
    {
     "name": "stdout",
     "output_type": "stream",
     "text": [
      "root\n",
      " |-- Edad: integer (nullable = true)\n",
      " |-- Nombre: string (nullable = true)\n",
      " |-- index: integer (nullable = true)\n",
      "\n"
     ]
    }
   ],
   "source": [
    "df.printSchema()"
   ]
  },
  {
   "cell_type": "code",
   "execution_count": 149,
   "id": "cf231697-ada1-4203-a940-a1f3336600f0",
   "metadata": {},
   "outputs": [
    {
     "name": "stdout",
     "output_type": "stream",
     "text": [
      "+----+------+-----+\n",
      "|Edad|Nombre|index|\n",
      "+----+------+-----+\n",
      "|  42|  Juan|    0|\n",
      "|  40| Laura|    1|\n",
      "|  37|  Pepe|    2|\n",
      "+----+------+-----+\n",
      "\n"
     ]
    }
   ],
   "source": [
    "df.show()\n"
   ]
  },
  {
   "cell_type": "code",
   "execution_count": null,
   "id": "20ea5347-998c-4e7e-82a7-f0e7f9c80535",
   "metadata": {},
   "outputs": [],
   "source": []
  }
 ],
 "metadata": {
  "kernelspec": {
   "display_name": "Python 3 (ipykernel)",
   "language": "python",
   "name": "python3"
  },
  "language_info": {
   "codemirror_mode": {
    "name": "ipython",
    "version": 3
   },
   "file_extension": ".py",
   "mimetype": "text/x-python",
   "name": "python",
   "nbconvert_exporter": "python",
   "pygments_lexer": "ipython3",
   "version": "3.9.18"
  }
 },
 "nbformat": 4,
 "nbformat_minor": 5
}
